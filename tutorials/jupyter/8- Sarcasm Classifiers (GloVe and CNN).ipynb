{
 "cells": [
  {
   "cell_type": "code",
   "execution_count": 1,
   "metadata": {
    "scrolled": false
   },
   "outputs": [
    {
     "name": "stdout",
     "output_type": "stream",
     "text": [
      "--2019-09-16 22:15:49--  https://s3.amazonaws.com/auxdata.johnsnowlabs.com/public/resources/en/sarcasm/train-balanced-sarcasm.csv\n",
      "Resolving s3.amazonaws.com (s3.amazonaws.com)... 52.216.179.61\n",
      "Connecting to s3.amazonaws.com (s3.amazonaws.com)|52.216.179.61|:443... connected.\n",
      "HTTP request sent, awaiting response... 304 Not Modified\n",
      "File '/tmp/train-balanced-sarcasm.csv' not modified on server. Omitting download.\n",
      "\n"
     ]
    }
   ],
   "source": [
    "! wget -N https://s3.amazonaws.com/auxdata.johnsnowlabs.com/public/resources/en/sarcasm/train-balanced-sarcasm.csv -P /tmp"
   ]
  },
  {
   "cell_type": "code",
   "execution_count": 1,
   "metadata": {},
   "outputs": [],
   "source": [
    "import os\n",
    "import sys\n",
    "import time\n",
    "import warnings\n",
    "\n",
    "warnings.filterwarnings(\"ignore\")\n",
    "os.environ['TF_CPP_MIN_LOG_LEVEL'] = '2' \n",
    "\n",
    "import numpy as np\n",
    "import pandas as pd\n",
    "\n",
    "from pyspark.sql import SparkSession\n",
    "packages = [\n",
    "    'JohnSnowLabs:spark-nlp:2.3.4'\n",
    "]\n",
    "spark = SparkSession \\\n",
    "    .builder \\\n",
    "    .appName(\"ML SQL session\") \\\n",
    "    .config('spark.jars.packages', ','.join(packages)) \\\n",
    "    .config(\"spark.driver.memory\",\"16g\") \\\n",
    "    .getOrCreate()"
   ]
  },
  {
   "cell_type": "code",
   "execution_count": 2,
   "metadata": {},
   "outputs": [
    {
     "name": "stdout",
     "output_type": "stream",
     "text": [
      "Spark NLP version:  2.3.4\n",
      "Apache Spark version:  2.4.4\n"
     ]
    }
   ],
   "source": [
    "import sparknlp\n",
    "\n",
    "print(\"Spark NLP version: \", sparknlp.version())\n",
    "print(\"Apache Spark version: \", spark.version)"
   ]
  },
  {
   "cell_type": "code",
   "execution_count": 4,
   "metadata": {
    "scrolled": true
   },
   "outputs": [
    {
     "name": "stdout",
     "output_type": "stream",
     "text": [
      "root\n",
      " |-- label: integer (nullable = true)\n",
      " |-- comment: string (nullable = true)\n",
      " |-- author: string (nullable = true)\n",
      " |-- subreddit: string (nullable = true)\n",
      " |-- score: string (nullable = true)\n",
      " |-- ups: string (nullable = true)\n",
      " |-- downs: string (nullable = true)\n",
      " |-- date: string (nullable = true)\n",
      " |-- created_utc: string (nullable = true)\n",
      " |-- parent_comment: string (nullable = true)\n",
      "\n"
     ]
    },
    {
     "data": {
      "text/plain": [
       "[Row(count(1)=1010826)]"
      ]
     },
     "execution_count": 4,
     "metadata": {},
     "output_type": "execute_result"
    }
   ],
   "source": [
    "from pyspark.sql import SQLContext\n",
    "\n",
    "sql = SQLContext(spark)\n",
    "\n",
    "trainBalancedSarcasmDF = spark.read.option(\"header\", True).option(\"inferSchema\", True) \\\n",
    "    .csv(\"/tmp/train-balanced-sarcasm.csv\")\n",
    "trainBalancedSarcasmDF.printSchema()\n",
    "\n",
    "# Let's create a temp view (table) for our SQL queries\n",
    "trainBalancedSarcasmDF.createOrReplaceTempView('sarcasm')\n",
    "\n",
    "sql.sql('SELECT COUNT(*) FROM sarcasm').collect()"
   ]
  },
  {
   "cell_type": "code",
   "execution_count": 5,
   "metadata": {},
   "outputs": [
    {
     "name": "stdout",
     "output_type": "stream",
     "text": [
      "<class 'pyspark.sql.dataframe.DataFrame'>\n",
      "root\n",
      " |-- label: integer (nullable = true)\n",
      " |-- comment: string (nullable = true)\n",
      "\n",
      "rows 100000\n",
      "+-----+--------------------+\n",
      "|label|             comment|\n",
      "+-----+--------------------+\n",
      "|    0|Yeah, I get that ...|\n",
      "|    0|The blazers and M...|\n",
      "|    0|They're favored t...|\n",
      "|    0|deadass don't kil...|\n",
      "|    0|Yep can confirm I...|\n",
      "|    0|do you find arian...|\n",
      "|    0|What's your weird...|\n",
      "|    0|Probably Sephirot...|\n",
      "|    0|What to upgrade? ...|\n",
      "|    0|Probably count Ka...|\n",
      "|    0|I bet if that mon...|\n",
      "|    0|James Shields Wil...|\n",
      "|    0|There's no time t...|\n",
      "|    0|Team Specific Thr...|\n",
      "|    0|Ill give you a hi...|\n",
      "|    0|Star Wars, easy. ...|\n",
      "|    0|You're adorable.\n",
      "...|\n",
      "|    0|He actually acts ...|\n",
      "|    0|Clinton struggles...|\n",
      "|    0|Is that the Older...|\n",
      "+-----+--------------------+\n",
      "only showing top 20 rows\n",
      "\n"
     ]
    }
   ],
   "source": [
    "df = sql.sql('''\n",
    "select label, concat(parent_comment,\"\\n\",comment) as comment \n",
    "from sarcasm \n",
    "where comment is not null and parent_comment is not null limit 100000''')\n",
    "print(type(df))\n",
    "df.printSchema()\n",
    "print('rows', df.count())\n",
    "df.show()"
   ]
  },
  {
   "cell_type": "code",
   "execution_count": 6,
   "metadata": {},
   "outputs": [
    {
     "name": "stdout",
     "output_type": "stream",
     "text": [
      "+-----+--------------------+--------------------+--------------------+--------------------+\n",
      "|label|             comment|            document|            sentence|               token|\n",
      "+-----+--------------------+--------------------+--------------------+--------------------+\n",
      "|    0|Yeah, I get that ...|[[document, 0, 90...|[[document, 0, 25...|[[token, 0, 3, Ye...|\n",
      "|    0|The blazers and M...|[[document, 0, 20...|[[document, 0, 13...|[[token, 0, 2, Th...|\n",
      "|    0|They're favored t...|[[document, 0, 14...|[[document, 0, 22...|[[token, 0, 6, Th...|\n",
      "|    0|deadass don't kil...|[[document, 0, 90...|[[document, 0, 90...|[[token, 0, 6, de...|\n",
      "|    0|Yep can confirm I...|[[document, 0, 11...|[[document, 0, 48...|[[token, 0, 2, Ye...|\n",
      "|    0|do you find arian...|[[document, 0, 14...|[[document, 0, 14...|[[token, 0, 1, do...|\n",
      "|    0|What's your weird...|[[document, 0, 98...|[[document, 0, 52...|[[token, 0, 5, Wh...|\n",
      "|    0|Probably Sephirot...|[[document, 0, 14...|[[document, 0, 18...|[[token, 0, 7, Pr...|\n",
      "|    0|What to upgrade? ...|[[document, 0, 77...|[[document, 0, 15...|[[token, 0, 3, Wh...|\n",
      "|    0|Probably count Ka...|[[document, 0, 33...|[[document, 0, 93...|[[token, 0, 7, Pr...|\n",
      "|    0|I bet if that mon...|[[document, 0, 20...|[[document, 0, 11...|[[token, 0, 0, I,...|\n",
      "|    0|James Shields Wil...|[[document, 0, 76...|[[document, 0, 76...|[[token, 0, 4, Ja...|\n",
      "|    0|There's no time t...|[[document, 0, 99...|[[document, 0, 78...|[[token, 0, 6, Th...|\n",
      "|    0|Team Specific Thr...|[[document, 0, 51...|[[document, 0, 15...|[[token, 0, 3, Te...|\n",
      "|    0|Ill give you a hi...|[[document, 0, 10...|[[document, 0, 19...|[[token, 0, 2, Il...|\n",
      "|    0|Star Wars, easy. ...|[[document, 0, 75...|[[document, 0, 15...|[[token, 0, 3, St...|\n",
      "|    0|You're adorable.\n",
      "...|[[document, 0, 22...|[[document, 0, 15...|[[token, 0, 5, Yo...|\n",
      "|    0|He actually acts ...|[[document, 0, 27...|[[document, 0, 49...|[[token, 0, 1, He...|\n",
      "|    0|Clinton struggles...|[[document, 0, 13...|[[document, 0, 13...|[[token, 0, 6, Cl...|\n",
      "|    0|Is that the Older...|[[document, 0, 69...|[[document, 0, 38...|[[token, 0, 1, Is...|\n",
      "+-----+--------------------+--------------------+--------------------+--------------------+\n",
      "only showing top 20 rows\n",
      "\n",
      "70136\n",
      "29864\n"
     ]
    }
   ],
   "source": [
    "from sparknlp.annotator import *\n",
    "from sparknlp.common import *\n",
    "from sparknlp.base import *\n",
    "\n",
    "from pyspark.ml import Pipeline\n",
    "\n",
    "document_assembler = DocumentAssembler() \\\n",
    "    .setInputCol(\"comment\") \\\n",
    "    .setOutputCol(\"document\")\n",
    "    \n",
    "sentence_detector = SentenceDetector() \\\n",
    "    .setInputCols([\"document\"]) \\\n",
    "    .setOutputCol(\"sentence\") \\\n",
    "    .setUseAbbreviations(True)\n",
    "    \n",
    "tokenizer = Tokenizer() \\\n",
    "  .setInputCols([\"sentence\"]) \\\n",
    "  .setOutputCol(\"token\")\n",
    "\n",
    "nlp_pipeline = Pipeline(stages=[document_assembler, sentence_detector, tokenizer])\n",
    "nlp_model = nlp_pipeline.fit(df)\n",
    "\n",
    "processed = nlp_model.transform(df)\n",
    "processed.show()\n",
    "\n",
    "train, test = processed.randomSplit(weights=[0.7, 0.3], seed=123)\n",
    "\n",
    "print(train.count())\n",
    "print(test.count())"
   ]
  },
  {
   "cell_type": "code",
   "execution_count": 7,
   "metadata": {},
   "outputs": [
    {
     "name": "stdout",
     "output_type": "stream",
     "text": [
      "glove_100d download started this may take some time.\n",
      "Approximate size to download 144.3 MB\n",
      "[OK!]\n",
      "+-----+--------------------+--------------------+--------------------+--------------------+--------------------+\n",
      "|label|             comment|            document|            sentence|               token|          embeddings|\n",
      "+-----+--------------------+--------------------+--------------------+--------------------+--------------------+\n",
      "|    0|              !\n",
      "Goes|[[document, 0, 5,...|[[document, 0, 5,...|[[token, 0, 0, !,...|[[word_embeddings...|\n",
      "|    0|!completed\n",
      "!compl...|[[document, 0, 20...|[[document, 0, 20...|[[token, 0, 0, !,...|[[word_embeddings...|\n",
      "|    0|\"\"\" \"\"Very Right ...|[[document, 0, 10...|[[document, 0, 10...|[[token, 0, 2, \"\"...|[[word_embeddings...|\n",
      "|    0|\"\"\" Perhaps you n...|[[document, 0, 61...|[[document, 0, 46...|[[token, 0, 2, \"\"...|[[word_embeddings...|\n",
      "|    0|\"\"\" This covering...|[[document, 0, 33...|[[document, 0, 84...|[[token, 0, 2, \"\"...|[[word_embeddings...|\n",
      "|    0|\"\"\"*Kirk\n",
      "I am sin...|[[document, 0, 44...|[[document, 0, 44...|[[token, 0, 3, \"\"...|[[word_embeddings...|\n",
      "|    0|\"\"\"*looks at hand...|[[document, 0, 73...|[[document, 0, 73...|[[token, 0, 3, \"\"...|[[word_embeddings...|\n",
      "|    0|\"\"\"+100\"\" indicat...|[[document, 0, 10...|[[document, 0, 10...|[[token, 0, 2, \"\"...|[[word_embeddings...|\n",
      "|    0|\"\"\".$witty_remark...|[[document, 0, 39...|[[document, 0, 3,...|[[token, 0, 3, \"\"...|[[word_embeddings...|\n",
      "|    0|\"\"\"... and Fancy ...|[[document, 0, 60...|[[document, 0, 60...|[[token, 0, 5, \"\"...|[[word_embeddings...|\n",
      "|    0|\"\"\"...and then th...|[[document, 0, 20...|[[document, 0, 20...|[[token, 0, 5, \"\"...|[[word_embeddings...|\n",
      "|    0|\"\"\"...newtons.\"\" ...|[[document, 0, 72...|[[document, 0, 72...|[[token, 0, 5, \"\"...|[[word_embeddings...|\n",
      "|    0|\"\"\"100 level and ...|[[document, 0, 19...|[[document, 0, 19...|[[token, 0, 2, \"\"...|[[word_embeddings...|\n",
      "|    0|\"\"\"8 operators.\"\"...|[[document, 0, 15...|[[document, 0, 15...|[[token, 0, 2, \"\"...|[[word_embeddings...|\n",
      "|    0|\"\"\"@wikileaks - A...|[[document, 0, 42...|[[document, 0, 42...|[[token, 0, 2, \"\"...|[[word_embeddings...|\n",
      "|    0|\"\"\"A Cyborg... Ni...|[[document, 0, 44...|[[document, 0, 13...|[[token, 0, 2, \"\"...|[[word_embeddings...|\n",
      "|    0|\"\"\"A Victoria's S...|[[document, 0, 13...|[[document, 0, 13...|[[token, 0, 2, \"\"...|[[word_embeddings...|\n",
      "|    0|\"\"\"A basic aspect...|[[document, 0, 44...|[[document, 0, 96...|[[token, 0, 2, \"\"...|[[word_embeddings...|\n",
      "|    0|\"\"\"A sense of pur...|[[document, 0, 52...|[[document, 0, 52...|[[token, 0, 2, \"\"...|[[word_embeddings...|\n",
      "|    0|\"\"\"Agreed. I thin...|[[document, 0, 13...|[[document, 0, 9,...|[[token, 0, 2, \"\"...|[[word_embeddings...|\n",
      "+-----+--------------------+--------------------+--------------------+--------------------+--------------------+\n",
      "only showing top 20 rows\n",
      "\n"
     ]
    }
   ],
   "source": [
    "glove = WordEmbeddingsModel.pretrained()\n",
    "train_featurized = glove.transform(train)\n",
    "train_featurized.show()"
   ]
  },
  {
   "cell_type": "code",
   "execution_count": 8,
   "metadata": {},
   "outputs": [
    {
     "name": "stdout",
     "output_type": "stream",
     "text": [
      "+-----+--------------------+--------------------+--------------------+--------------------+--------------------+\n",
      "|label|             comment|            document|            sentence|               token|          embeddings|\n",
      "+-----+--------------------+--------------------+--------------------+--------------------+--------------------+\n",
      "|    0|!RemindMe 1 week\n",
      "...|[[document, 0, 32...|[[document, 0, 32...|[[token, 0, 0, !,...|[[word_embeddings...|\n",
      "|    0|!Remindme 2 weeks...|[[document, 0, 34...|[[document, 0, 34...|[[token, 0, 0, !,...|[[word_embeddings...|\n",
      "|    0|!SH!TPOST!: All t...|[[document, 0, 80...|[[document, 0, 79...|[[token, 0, 0, !,...|[[word_embeddings...|\n",
      "|    0|\"\"\"**FUCK** Cloud...|[[document, 0, 54...|[[document, 0, 54...|[[token, 0, 4, \"\"...|[[word_embeddings...|\n",
      "|    0|\"\"\"*Komrad\n",
      "\"*\"\"Th...|[[document, 0, 56...|[[document, 0, 56...|[[token, 0, 3, \"\"...|[[word_embeddings...|\n",
      "|    0|\"\"\"... thanks to ...|[[document, 0, 16...|[[document, 0, 16...|[[token, 0, 5, \"\"...|[[word_embeddings...|\n",
      "|    0|\"\"\"...FUCK IS THA...|[[document, 0, 19...|[[document, 0, 3,...|[[token, 0, 3, \"\"...|[[word_embeddings...|\n",
      "|    0|\"\"\"...I'm Going T...|[[document, 0, 66...|[[document, 0, 3,...|[[token, 0, 3, \"\"...|[[word_embeddings...|\n",
      "|    0|\"\"\"A SMALL FUCKIN...|[[document, 0, 87...|[[document, 0, 87...|[[token, 0, 2, \"\"...|[[word_embeddings...|\n",
      "|    0|\"\"\"A new brick wa...|[[document, 0, 52...|[[document, 0, 52...|[[token, 0, 2, \"\"...|[[word_embeddings...|\n",
      "|    0|\"\"\"Add dabbing to...|[[document, 0, 39...|[[document, 0, 39...|[[token, 0, 2, \"\"...|[[word_embeddings...|\n",
      "|    0|\"\"\"All according ...|[[document, 0, 68...|[[document, 0, 68...|[[token, 0, 2, \"\"...|[[word_embeddings...|\n",
      "|    0|\"\"\"An unmet playe...|[[document, 0, 27...|[[document, 0, 91...|[[token, 0, 2, \"\"...|[[word_embeddings...|\n",
      "|    0|\"\"\"And bacon. Lot...|[[document, 0, 84...|[[document, 0, 84...|[[token, 0, 2, \"\"...|[[word_embeddings...|\n",
      "|    0|\"\"\"And later... S...|[[document, 0, 11...|[[document, 0, 14...|[[token, 0, 2, \"\"...|[[word_embeddings...|\n",
      "|    0|\"\"\"And please tel...|[[document, 0, 12...|[[document, 0, 12...|[[token, 0, 2, \"\"...|[[word_embeddings...|\n",
      "|    0|\"\"\"Angry Birds?\"\"...|[[document, 0, 46...|[[document, 0, 46...|[[token, 0, 2, \"\"...|[[word_embeddings...|\n",
      "|    0|\"\"\"Any objections...|[[document, 0, 78...|[[document, 0, 78...|[[token, 0, 2, \"\"...|[[word_embeddings...|\n",
      "|    0|\"\"\"Anyway here's ...|[[document, 0, 50...|[[document, 0, 50...|[[token, 0, 2, \"\"...|[[word_embeddings...|\n",
      "|    0|\"\"\"Aren't you a C...|[[document, 0, 37...|[[document, 0, 37...|[[token, 0, 2, \"\"...|[[word_embeddings...|\n",
      "+-----+--------------------+--------------------+--------------------+--------------------+--------------------+\n",
      "only showing top 20 rows\n",
      "\n"
     ]
    }
   ],
   "source": [
    "test_featurized = glove.transform(test)\n",
    "test_featurized.show()"
   ]
  },
  {
   "cell_type": "code",
   "execution_count": 9,
   "metadata": {},
   "outputs": [],
   "source": [
    "def get_features(row):\n",
    "    result = []\n",
    "    for tk in row:\n",
    "        result.append(tk['embeddings'])\n",
    "    return np.array(result)\n",
    "\n",
    "def build_data(df, chunks=10):\n",
    "    x_train = []\n",
    "    y_train = []\n",
    "\n",
    "    row_count = df.count()\n",
    "    i = 0\n",
    "    \n",
    "    chunks = df.randomSplit(weights=[1/chunks] * chunks)\n",
    "\n",
    "    for chunk in chunks:\n",
    "        rows = chunk.collect()\n",
    "        for row in rows:\n",
    "            if i % 1000 == 0:\n",
    "                print('row {} / {} ({:.1f} %)'.format(i, row_count, 100 * i / row_count))\n",
    "            embeddings = get_features(row['embeddings'])\n",
    "            label = row['label']\n",
    "            x_train.append(embeddings)\n",
    "            y_train.append(label)\n",
    "            i += 1\n",
    "\n",
    "    x_train = np.array(x_train)\n",
    "    y_train = np.array(y_train)\n",
    "    return x_train, y_train"
   ]
  },
  {
   "cell_type": "code",
   "execution_count": 10,
   "metadata": {
    "scrolled": true
   },
   "outputs": [
    {
     "name": "stdout",
     "output_type": "stream",
     "text": [
      "row 0 / 70136 (0.0 %)\n",
      "row 1000 / 70136 (1.4 %)\n",
      "row 2000 / 70136 (2.9 %)\n",
      "row 3000 / 70136 (4.3 %)\n",
      "row 4000 / 70136 (5.7 %)\n",
      "row 5000 / 70136 (7.1 %)\n",
      "row 6000 / 70136 (8.6 %)\n",
      "row 7000 / 70136 (10.0 %)\n",
      "row 8000 / 70136 (11.4 %)\n",
      "row 9000 / 70136 (12.8 %)\n",
      "row 10000 / 70136 (14.3 %)\n",
      "row 11000 / 70136 (15.7 %)\n",
      "row 12000 / 70136 (17.1 %)\n",
      "row 13000 / 70136 (18.5 %)\n",
      "row 14000 / 70136 (20.0 %)\n",
      "row 15000 / 70136 (21.4 %)\n",
      "row 16000 / 70136 (22.8 %)\n",
      "row 17000 / 70136 (24.2 %)\n",
      "row 18000 / 70136 (25.7 %)\n",
      "row 19000 / 70136 (27.1 %)\n",
      "row 20000 / 70136 (28.5 %)\n",
      "row 21000 / 70136 (29.9 %)\n",
      "row 22000 / 70136 (31.4 %)\n",
      "row 23000 / 70136 (32.8 %)\n",
      "row 24000 / 70136 (34.2 %)\n",
      "row 25000 / 70136 (35.6 %)\n",
      "row 26000 / 70136 (37.1 %)\n",
      "row 27000 / 70136 (38.5 %)\n",
      "row 28000 / 70136 (39.9 %)\n",
      "row 29000 / 70136 (41.3 %)\n",
      "row 30000 / 70136 (42.8 %)\n",
      "row 31000 / 70136 (44.2 %)\n",
      "row 32000 / 70136 (45.6 %)\n",
      "row 33000 / 70136 (47.1 %)\n",
      "row 34000 / 70136 (48.5 %)\n",
      "row 35000 / 70136 (49.9 %)\n",
      "row 36000 / 70136 (51.3 %)\n",
      "row 37000 / 70136 (52.8 %)\n",
      "row 38000 / 70136 (54.2 %)\n",
      "row 39000 / 70136 (55.6 %)\n",
      "row 40000 / 70136 (57.0 %)\n",
      "row 41000 / 70136 (58.5 %)\n",
      "row 42000 / 70136 (59.9 %)\n",
      "row 43000 / 70136 (61.3 %)\n",
      "row 44000 / 70136 (62.7 %)\n",
      "row 45000 / 70136 (64.2 %)\n",
      "row 46000 / 70136 (65.6 %)\n",
      "row 47000 / 70136 (67.0 %)\n",
      "row 48000 / 70136 (68.4 %)\n",
      "row 49000 / 70136 (69.9 %)\n",
      "row 50000 / 70136 (71.3 %)\n",
      "row 51000 / 70136 (72.7 %)\n",
      "row 52000 / 70136 (74.1 %)\n",
      "row 53000 / 70136 (75.6 %)\n",
      "row 54000 / 70136 (77.0 %)\n",
      "row 55000 / 70136 (78.4 %)\n",
      "row 56000 / 70136 (79.8 %)\n",
      "row 57000 / 70136 (81.3 %)\n",
      "row 58000 / 70136 (82.7 %)\n",
      "row 59000 / 70136 (84.1 %)\n",
      "row 60000 / 70136 (85.5 %)\n",
      "row 61000 / 70136 (87.0 %)\n",
      "row 62000 / 70136 (88.4 %)\n",
      "row 63000 / 70136 (89.8 %)\n",
      "row 64000 / 70136 (91.3 %)\n",
      "row 65000 / 70136 (92.7 %)\n",
      "row 66000 / 70136 (94.1 %)\n",
      "row 67000 / 70136 (95.5 %)\n",
      "row 68000 / 70136 (97.0 %)\n",
      "row 69000 / 70136 (98.4 %)\n",
      "row 70000 / 70136 (99.8 %)\n"
     ]
    }
   ],
   "source": [
    "x_train, y_train = build_data(train_featurized)"
   ]
  },
  {
   "cell_type": "code",
   "execution_count": 11,
   "metadata": {
    "scrolled": true
   },
   "outputs": [
    {
     "name": "stdout",
     "output_type": "stream",
     "text": [
      "row 0 / 29864 (0.0 %)\n",
      "row 1000 / 29864 (3.3 %)\n",
      "row 2000 / 29864 (6.7 %)\n",
      "row 3000 / 29864 (10.0 %)\n",
      "row 4000 / 29864 (13.4 %)\n",
      "row 5000 / 29864 (16.7 %)\n",
      "row 6000 / 29864 (20.1 %)\n",
      "row 7000 / 29864 (23.4 %)\n",
      "row 8000 / 29864 (26.8 %)\n",
      "row 9000 / 29864 (30.1 %)\n",
      "row 10000 / 29864 (33.5 %)\n",
      "row 11000 / 29864 (36.8 %)\n",
      "row 12000 / 29864 (40.2 %)\n",
      "row 13000 / 29864 (43.5 %)\n",
      "row 14000 / 29864 (46.9 %)\n",
      "row 15000 / 29864 (50.2 %)\n",
      "row 16000 / 29864 (53.6 %)\n",
      "row 17000 / 29864 (56.9 %)\n",
      "row 18000 / 29864 (60.3 %)\n",
      "row 19000 / 29864 (63.6 %)\n",
      "row 20000 / 29864 (67.0 %)\n",
      "row 21000 / 29864 (70.3 %)\n",
      "row 22000 / 29864 (73.7 %)\n",
      "row 23000 / 29864 (77.0 %)\n",
      "row 24000 / 29864 (80.4 %)\n",
      "row 25000 / 29864 (83.7 %)\n",
      "row 26000 / 29864 (87.1 %)\n",
      "row 27000 / 29864 (90.4 %)\n",
      "row 28000 / 29864 (93.8 %)\n",
      "row 29000 / 29864 (97.1 %)\n"
     ]
    }
   ],
   "source": [
    "x_test, y_test = build_data(test_featurized)"
   ]
  },
  {
   "cell_type": "code",
   "execution_count": 12,
   "metadata": {},
   "outputs": [],
   "source": [
    "spark.stop()"
   ]
  },
  {
   "cell_type": "code",
   "execution_count": 13,
   "metadata": {},
   "outputs": [
    {
     "name": "stdout",
     "output_type": "stream",
     "text": [
      "Train Labels:\n",
      " 0    40466\n",
      "1    29670\n",
      "dtype: int64\n",
      "Test Labels:\n",
      " 0    17224\n",
      "1    12640\n",
      "dtype: int64\n"
     ]
    }
   ],
   "source": [
    "print('Train Labels:\\n', pd.Series(y_train).value_counts())\n",
    "print('Test Labels:\\n', pd.Series(y_test).value_counts())"
   ]
  },
  {
   "cell_type": "code",
   "execution_count": 14,
   "metadata": {},
   "outputs": [
    {
     "name": "stderr",
     "output_type": "stream",
     "text": [
      "Using TensorFlow backend.\n"
     ]
    }
   ],
   "source": [
    "from keras.preprocessing import sequence\n",
    "from keras.models import Sequential\n",
    "from keras.layers import Dense, Dropout, Activation\n",
    "from keras.layers import Embedding\n",
    "from keras.layers import Conv1D, GlobalMaxPooling1D\n",
    "\n",
    "# set parameters for our model:\n",
    "maxlen = 100 #max 50 words per article\n",
    "batch_size = 32 #size of the batch \n",
    "filters = 50 #dimension of filters for the convolutional layer\n",
    "kernel_size = 3 #size of the kernel used in the convolutional layer\n",
    "hidden_dims = 250 #dimension of the hidden layer\n",
    "epochs = 5 #number of training epochs\n",
    "\n",
    "x_train = sequence.pad_sequences(x_train, maxlen=maxlen)\n",
    "x_test = sequence.pad_sequences(x_test, maxlen=maxlen)"
   ]
  },
  {
   "cell_type": "code",
   "execution_count": 15,
   "metadata": {},
   "outputs": [
    {
     "name": "stdout",
     "output_type": "stream",
     "text": [
      "Build model...\n",
      "WARNING:tensorflow:From /usr/local/lib/python3.6/dist-packages/keras/backend/tensorflow_backend.py:66: The name tf.get_default_graph is deprecated. Please use tf.compat.v1.get_default_graph instead.\n",
      "\n",
      "WARNING:tensorflow:From /usr/local/lib/python3.6/dist-packages/keras/optimizers.py:793: The name tf.train.Optimizer is deprecated. Please use tf.compat.v1.train.Optimizer instead.\n",
      "\n"
     ]
    }
   ],
   "source": [
    "print('Build model...')\n",
    "model = Sequential()\n",
    "\n",
    "# we add a Convolution1D, which will learn filters\n",
    "# word group filters of size filter_length:\n",
    "model.add(Conv1D(filters,\n",
    "                 kernel_size,\n",
    "                 padding='valid',\n",
    "                 activation='relu',\n",
    "                 strides=1))\n",
    "# we use max pooling:\n",
    "model.add(GlobalMaxPooling1D())\n",
    "\n",
    "# We add a vanilla hidden layer:\n",
    "model.add(Dense(hidden_dims))\n",
    "model.add(Dropout(0.2))\n",
    "model.add(Activation('relu'))\n",
    "\n",
    "# We project onto a single unit output layer, and squash it with a sigmoid:\n",
    "model.add(Dense(1))\n",
    "model.add(Activation('sigmoid'))\n",
    "\n",
    "from keras import backend as K\n",
    "\n",
    "\n",
    "model.compile(loss='binary_crossentropy',\n",
    "              optimizer='adam',\n",
    "              metrics=['accuracy','mae'])"
   ]
  },
  {
   "cell_type": "code",
   "execution_count": 16,
   "metadata": {
    "scrolled": false
   },
   "outputs": [
    {
     "name": "stdout",
     "output_type": "stream",
     "text": [
      "WARNING:tensorflow:From /usr/local/lib/python3.6/dist-packages/keras/backend/tensorflow_backend.py:541: The name tf.placeholder is deprecated. Please use tf.compat.v1.placeholder instead.\n",
      "\n",
      "WARNING:tensorflow:From /usr/local/lib/python3.6/dist-packages/keras/backend/tensorflow_backend.py:4432: The name tf.random_uniform is deprecated. Please use tf.random.uniform instead.\n",
      "\n",
      "WARNING:tensorflow:From /usr/local/lib/python3.6/dist-packages/keras/backend/tensorflow_backend.py:148: The name tf.placeholder_with_default is deprecated. Please use tf.compat.v1.placeholder_with_default instead.\n",
      "\n",
      "WARNING:tensorflow:From /usr/local/lib/python3.6/dist-packages/keras/backend/tensorflow_backend.py:3733: calling dropout (from tensorflow.python.ops.nn_ops) with keep_prob is deprecated and will be removed in a future version.\n",
      "Instructions for updating:\n",
      "Please use `rate` instead of `keep_prob`. Rate should be set to `rate = 1 - keep_prob`.\n",
      "WARNING:tensorflow:From /usr/local/lib/python3.6/dist-packages/keras/backend/tensorflow_backend.py:3657: The name tf.log is deprecated. Please use tf.math.log instead.\n",
      "\n",
      "WARNING:tensorflow:From /usr/local/lib/python3.6/dist-packages/tensorflow/python/ops/nn_impl.py:180: add_dispatch_support.<locals>.wrapper (from tensorflow.python.ops.array_ops) is deprecated and will be removed in a future version.\n",
      "Instructions for updating:\n",
      "Use tf.where in 2.0, which has the same broadcast rule as np.where\n",
      "Train on 70136 samples, validate on 29864 samples\n",
      "Epoch 1/5\n",
      "70136/70136 [==============================] - 11s 154us/step - loss: 0.6560 - acc: 0.6187 - mean_absolute_error: 0.4626 - val_loss: 0.6500 - val_acc: 0.6231 - val_mean_absolute_error: 0.4633\n",
      "Epoch 2/5\n",
      "70136/70136 [==============================] - 11s 151us/step - loss: 0.6307 - acc: 0.6469 - mean_absolute_error: 0.4401 - val_loss: 0.6452 - val_acc: 0.6276 - val_mean_absolute_error: 0.4526\n",
      "Epoch 3/5\n",
      "70136/70136 [==============================] - 11s 150us/step - loss: 0.6105 - acc: 0.6675 - mean_absolute_error: 0.4222 - val_loss: 0.6419 - val_acc: 0.6356 - val_mean_absolute_error: 0.4418\n",
      "Epoch 4/5\n",
      "70136/70136 [==============================] - 11s 151us/step - loss: 0.5913 - acc: 0.6866 - mean_absolute_error: 0.4059 - val_loss: 0.6479 - val_acc: 0.6335 - val_mean_absolute_error: 0.4380\n",
      "Epoch 5/5\n",
      "70136/70136 [==============================] - 11s 150us/step - loss: 0.5732 - acc: 0.7000 - mean_absolute_error: 0.3906 - val_loss: 0.6567 - val_acc: 0.6282 - val_mean_absolute_error: 0.4396\n"
     ]
    },
    {
     "data": {
      "text/plain": [
       "<keras.callbacks.History at 0x7f1c2aad00b8>"
      ]
     },
     "execution_count": 16,
     "metadata": {},
     "output_type": "execute_result"
    }
   ],
   "source": [
    "model.fit(x_train, y_train,\n",
    "          batch_size=batch_size,\n",
    "          epochs=epochs,\n",
    "          validation_data=(x_test, y_test))"
   ]
  },
  {
   "cell_type": "code",
   "execution_count": 17,
   "metadata": {},
   "outputs": [
    {
     "data": {
      "image/png": "[encoded data removed]",
      "text/plain": [
       "<IPython.core.display.Image object>"
      ]
     },
     "execution_count": 17,
     "metadata": {},
     "output_type": "execute_result"
    }
   ],
   "source": [
    "from IPython.display import Image\n",
    "from keras.utils.vis_utils import model_to_dot\n",
    "dot = model_to_dot(model)\n",
    "Image(dot.create_png())"
   ]
  }
 ],
 "metadata": {
  "kernelspec": {
   "display_name": "Python 3",
   "language": "python",
   "name": "python3"
  },
  "language_info": {
   "codemirror_mode": {
    "name": "ipython",
    "version": 3
   },
   "file_extension": ".py",
   "mimetype": "text/x-python",
   "name": "python",
   "nbconvert_exporter": "python",
   "pygments_lexer": "ipython3",
   "version": "3.6.9"
  }
 },
 "nbformat": 4,
 "nbformat_minor": 2
}
