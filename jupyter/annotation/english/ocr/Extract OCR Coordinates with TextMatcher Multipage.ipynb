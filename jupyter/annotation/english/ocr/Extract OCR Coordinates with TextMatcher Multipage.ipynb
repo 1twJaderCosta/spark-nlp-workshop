{
 "cells": [
  {
   "cell_type": "markdown",
   "metadata": {},
   "source": [
    "### This notebook shows an example of extracting coordinates from PDF files\n",
    "### Immediately after, we use a PoisitionFinder based pipeline to match chunk entities back in the original PDF"
   ]
  },
  {
   "cell_type": "code",
   "execution_count": 1,
   "metadata": {},
   "outputs": [],
   "source": [
    "import sys\n",
    "\n",
    "sys.path.append('/home/saif/repos/spark-nlp/python')\n",
    "\n",
    "from sparknlp.ocr import OcrHelper, Coordinate\n",
    "from sparknlp.base import *\n",
    "from sparknlp.annotator import *\n",
    "\n",
    "from pyspark.sql import SparkSession\n",
    "from pyspark.ml import Pipeline\n",
    "\n",
    "import sparknlp"
   ]
  },
  {
   "cell_type": "code",
   "execution_count": 2,
   "metadata": {},
   "outputs": [],
   "source": [
    "spark = sparknlp.start()"
   ]
  },
  {
   "cell_type": "code",
   "execution_count": 3,
   "metadata": {},
   "outputs": [],
   "source": [
    "ocr = OcrHelper()"
   ]
  },
  {
   "cell_type": "code",
   "execution_count": 4,
   "metadata": {},
   "outputs": [],
   "source": [
    "ocr.setSplitPages(True)"
   ]
  },
  {
   "cell_type": "code",
   "execution_count": 5,
   "metadata": {},
   "outputs": [],
   "source": [
    "data = ocr.createDataset(spark, './input_coordinates/')"
   ]
  },
  {
   "cell_type": "markdown",
   "metadata": {},
   "source": [
    "Here we get the OCR output, with various useful attributes"
   ]
  },
  {
   "cell_type": "code",
   "execution_count": 6,
   "metadata": {},
   "outputs": [
    {
     "name": "stdout",
     "output_type": "stream",
     "text": [
      "+--------------------+-------+------+----------+----------+--------------------+--------------------+\n",
      "|                text|pagenum|method|noiselevel|confidence|           positions|            filename|\n",
      "+--------------------+-------+------+----------+----------+--------------------+--------------------+\n",
      "|Alexandria is the...|      0|  text|       0.0|       0.0|[[[[A, 1, 72.024,...|file:/home/saif/r...|\n",
      "|Alexandria was fo...|      1|  text|       0.0|       0.0|[[[[A, 2, 72.024,...|file:/home/saif/r...|\n",
      "+--------------------+-------+------+----------+----------+--------------------+--------------------+\n",
      "only showing top 2 rows\n",
      "\n"
     ]
    }
   ],
   "source": [
    "data.show(2)"
   ]
  },
  {
   "cell_type": "code",
   "execution_count": 7,
   "metadata": {},
   "outputs": [
    {
     "name": "stdout",
     "output_type": "stream",
     "text": [
      "+-------------------------------------------------------------------------------------------------------------------+\n",
      "|filename                                                                                                           |\n",
      "+-------------------------------------------------------------------------------------------------------------------+\n",
      "|file:/home/saif/repos/spark-nlp-workshop/jupyter/annotation/english/ocr/input_coordinates/thomas_edison_sample.pdf |\n",
      "|file:/home/saif/repos/spark-nlp-workshop/jupyter/annotation/english/ocr/input_coordinates/alexandria_multi_page.pdf|\n",
      "+-------------------------------------------------------------------------------------------------------------------+\n",
      "\n"
     ]
    }
   ],
   "source": [
    "data.select('filename').distinct().show(truncate=False)"
   ]
  },
  {
   "cell_type": "code",
   "execution_count": 8,
   "metadata": {},
   "outputs": [
    {
     "data": {
      "text/plain": [
       "'Alexandria is the second-largest city in Egypt and a major economic centre, \\nextending about 32 km (20 mi) along the coast of the Mediterranean Sea in \\nthe north central part of the country. \\n \\n \\n \\n \\nIts low elevation on the Nile delta makes it highly vulnerable to rising sea \\nlevels. Alexandria is an important industrial center because of its natural \\ngas and oil pipelines from Suez. Alexandria is also a popular tourist \\ndestination. \\n \\n \\n \\n \\n \\n \\n \\n \\n \\n \\n \\n \\n \\n \\n \\n \\n'"
      ]
     },
     "execution_count": 8,
     "metadata": {},
     "output_type": "execute_result"
    }
   ],
   "source": [
    "data.select('text').take(1)[0]['text']"
   ]
  },
  {
   "cell_type": "markdown",
   "metadata": {},
   "source": [
    "Here we show the innter structure of OCR position matrix"
   ]
  },
  {
   "cell_type": "code",
   "execution_count": 9,
   "metadata": {},
   "outputs": [
    {
     "data": {
      "text/plain": [
       "[Row(c='A', p=1, x=72.02400207519531, y=706.9000244140625, width=9.364677429199219, height=6.5847601890563965),\n",
       " Row(c='l', p=1, x=81.38867950439453, y=706.9000244140625, width=3.11688232421875, height=6.5847601890563965),\n",
       " Row(c='e', p=1, x=84.50556182861328, y=706.9000244140625, width=7.806236267089844, height=6.5847601890563965),\n",
       " Row(c='x', p=1, x=92.31179809570312, y=706.9000244140625, width=7.019996643066406, height=6.5847601890563965),\n",
       " Row(c='a', p=1, x=99.14927673339844, y=706.9000244140625, width=7.806243896484375, height=6.5847601890563965),\n",
       " Row(c='n', p=1, x=106.95552062988281, y=706.9000244140625, width=7.806243896484375, height=6.5847601890563965),\n",
       " Row(c='d', p=1, x=114.76176452636719, y=706.9000244140625, width=7.806243896484375, height=6.5847601890563965),\n",
       " Row(c='r', p=1, x=122.56800842285156, y=706.9000244140625, width=4.675323486328125, height=6.5847601890563965),\n",
       " Row(c='i', p=1, x=127.24333190917969, y=706.9000244140625, width=3.11688232421875, height=6.5847601890563965),\n",
       " Row(c='a', p=1, x=130.36021423339844, y=706.9000244140625, width=7.806243896484375, height=6.5847601890563965),\n",
       " Row(c=' ', p=1, x=138.1664581298828, y=706.9000244140625, width=3.9031219482421875, height=6.5847601890563965),\n",
       " Row(c='i', p=1, x=142.069580078125, y=706.9000244140625, width=3.11688232421875, height=6.5847601890563965),\n",
       " Row(c='s', p=1, x=145.21453857421875, y=706.9000244140625, width=7.0200042724609375, height=6.5847601890563965),\n",
       " Row(c=' ', p=1, x=152.17837524414062, y=706.9000244140625, width=3.9031219482421875, height=6.5847601890563965),\n",
       " Row(c='t', p=1, x=156.1236114501953, y=706.9000244140625, width=3.9031219482421875, height=6.5847601890563965),\n",
       " Row(c='h', p=1, x=160.06884765625, y=706.9000244140625, width=7.806243896484375, height=6.5847601890563965),\n",
       " Row(c='e', p=1, x=167.87509155273438, y=706.9000244140625, width=7.806243896484375, height=6.5847601890563965),\n",
       " Row(c=' ', p=1, x=175.5549774169922, y=706.9000244140625, width=3.9031219482421875, height=6.5847601890563965),\n",
       " Row(c='s', p=1, x=179.4019317626953, y=706.9000244140625, width=7.0200042724609375, height=6.5847601890563965),\n",
       " Row(c='e', p=1, x=186.46405029296875, y=706.9000244140625, width=7.806243896484375, height=6.5847601890563965)]"
      ]
     },
     "execution_count": 9,
     "metadata": {},
     "output_type": "execute_result"
    }
   ],
   "source": [
    "data.select('positions').take(1)[0]['positions'][0]['mapping'][:20]"
   ]
  },
  {
   "cell_type": "markdown",
   "metadata": {},
   "source": [
    "__Here we proceed to create a Pipeline with a TextMatcher and a PositionFinder, consuming the positions column__"
   ]
  },
  {
   "cell_type": "code",
   "execution_count": 10,
   "metadata": {},
   "outputs": [],
   "source": [
    "documentAssembler = DocumentAssembler()\\\n",
    "  .setInputCol(\"text\")\\\n",
    "  .setOutputCol(\"document\")\\\n",
    "  .setCleanupMode(\"shrink_each\")\n",
    "\n",
    "sentenceDetector = SentenceDetector()\\\n",
    "  .setInputCols([\"document\"])\\\n",
    "  .setOutputCol(\"sentence\")\n",
    "\n",
    "tokenizer = Tokenizer()\\\n",
    "  .setInputCols([\"document\"])\\\n",
    "  .setOutputCol(\"token\")\n",
    "\n",
    "extractor = TextMatcher()\\\n",
    "  .setEntities(\"coordinate_entities.txt\")\\\n",
    "  .setInputCols([\"token\", \"document\"])\\\n",
    "  .setOutputCol(\"entities\")\n",
    "\n",
    "finder = PositionFinder()\\\n",
    "  .setInputCols([\"entities\"])\\\n",
    "  .setOutputCol(\"coordinates\")\\\n",
    "  .setPageMatrixCol(\"positions\")\n",
    "\n",
    "pipeline = Pipeline(\n",
    "    stages = [\n",
    "    documentAssembler,\n",
    "    sentenceDetector,\n",
    "    tokenizer,\n",
    "    extractor,\n",
    "    finder\n",
    "  ])\n"
   ]
  },
  {
   "cell_type": "code",
   "execution_count": 11,
   "metadata": {},
   "outputs": [],
   "source": [
    "model = pipeline.fit(data)"
   ]
  },
  {
   "cell_type": "code",
   "execution_count": 13,
   "metadata": {},
   "outputs": [],
   "source": [
    "extracted = model.transform(data)"
   ]
  },
  {
   "cell_type": "code",
   "execution_count": 14,
   "metadata": {},
   "outputs": [
    {
     "data": {
      "text/plain": [
       "['Alexandria is the second-largest city in Egypt and a major economic centre, extending about 32 km (20 mi) along the coast of the Mediterranean Sea in the north central part of the country.     Its low elevation on the Nile delta makes it highly vulnerable to rising sea levels. Alexandria is an important industrial center because of its natural gas and oil pipelines from Suez. Alexandria is also a popular tourist destination.                 ']"
      ]
     },
     "execution_count": 14,
     "metadata": {},
     "output_type": "execute_result"
    }
   ],
   "source": [
    "extracted.select('document.result').take(1)[0]['result']"
   ]
  },
  {
   "cell_type": "code",
   "execution_count": 15,
   "metadata": {},
   "outputs": [
    {
     "data": {
      "text/plain": [
       "'Alexandria is an important industrial center because of its natural gas and oil pipelines from Suez.'"
      ]
     },
     "execution_count": 15,
     "metadata": {},
     "output_type": "execute_result"
    }
   ],
   "source": [
    "extracted.select('sentence.result').take(1)[0]['result'][2]"
   ]
  },
  {
   "cell_type": "markdown",
   "metadata": {},
   "source": [
    "__Here we show matching entities of the TextMathcer__"
   ]
  },
  {
   "cell_type": "code",
   "execution_count": 28,
   "metadata": {},
   "outputs": [
    {
     "data": {
      "text/plain": [
       "[Row(annotatorType='chunk', begin=41, end=45, result='Egypt', metadata={'sentence': '0', 'chunk': '0'}, embeddings=[], sentence_embeddings=[]),\n",
       " Row(annotatorType='chunk', begin=129, end=145, result='Mediterranean Sea', metadata={'sentence': '0', 'chunk': '1'}, embeddings=[], sentence_embeddings=[]),\n",
       " Row(annotatorType='chunk', begin=160, end=171, result='central part', metadata={'sentence': '0', 'chunk': '2'}, embeddings=[], sentence_embeddings=[]),\n",
       " Row(annotatorType='chunk', begin=238, end=254, result='highly vulnerable', metadata={'sentence': '0', 'chunk': '3'}, embeddings=[], sentence_embeddings=[]),\n",
       " Row(annotatorType='chunk', begin=305, end=321, result='industrial center', metadata={'sentence': '0', 'chunk': '4'}, embeddings=[], sentence_embeddings=[])]"
      ]
     },
     "execution_count": 28,
     "metadata": {},
     "output_type": "execute_result"
    }
   ],
   "source": [
    "extracted.select('entities').collect()[0]['entities']"
   ]
  },
  {
   "cell_type": "markdown",
   "metadata": {},
   "source": [
    "__Here a sample of the Position Finder coordinates__"
   ]
  },
  {
   "cell_type": "code",
   "execution_count": 43,
   "metadata": {},
   "outputs": [
    {
     "name": "stdout",
     "output_type": "stream",
     "text": [
      "x: [314.76116943359375, 314.76116943359375, 402.94482421875, 314.76116943359375, 402.94482421875, 131.14645385742188, 314.76116943359375, 402.94482421875, 131.14645385742188, 336.46734619140625, 314.76116943359375, 402.94482421875, 131.14645385742188, 336.46734619140625, 281.5292663574219]\n",
      "\n",
      "y: [706.9000244140625, 706.9000244140625, 689.5, 706.9000244140625, 689.5, 672.0999755859375, 706.9000244140625, 689.5, 672.0999755859375, 545.22998046875, 706.9000244140625, 689.5, 672.0999755859375, 545.22998046875, 527.8300170898438]\n"
     ]
    }
   ],
   "source": [
    "extraction = extracted.select('coordinates.x', 'coordinates.y').take(1)[0]\n",
    "print('x: ' + str(extraction['x']))\n",
    "print()\n",
    "print('y: ' + str(extraction['y']))"
   ]
  },
  {
   "cell_type": "markdown",
   "metadata": {},
   "source": [
    "### With the OCR dataset, we pick each file and let it draw the rectangles in new output PDF files"
   ]
  },
  {
   "cell_type": "code",
   "execution_count": 44,
   "metadata": {},
   "outputs": [
    {
     "name": "stdout",
     "output_type": "stream",
     "text": [
      "Output files sent to output_coordinates folder, with red highlighted squares\n"
     ]
    }
   ],
   "source": [
    "ocr.drawRectanglesDataset(spark, extracted, output_location='./output_coordinates', output_suffix='_squared')\n",
    "print(\"Output files sent to output_coordinates folder, with red highlighted squares\")"
   ]
  },
  {
   "cell_type": "markdown",
   "metadata": {},
   "source": [
    "### Now an example of picking a single file, its appropriate rows and drawing to file directly"
   ]
  },
  {
   "cell_type": "code",
   "execution_count": 21,
   "metadata": {},
   "outputs": [
    {
     "data": {
      "text/plain": [
       "[Row(i=0, p=1, x=314.76116943359375, y=706.9000244140625, w=35.703704833984375, h=6.5847601890563965),\n",
       " Row(i=0, p=1, x=314.76116943359375, y=706.9000244140625, w=35.703704833984375, h=6.5847601890563965),\n",
       " Row(i=1, p=1, x=402.94482421875, y=689.5, w=119.04510498046875, h=6.5847601890563965),\n",
       " Row(i=0, p=1, x=314.76116943359375, y=706.9000244140625, w=35.703704833984375, h=6.5847601890563965),\n",
       " Row(i=1, p=1, x=402.94482421875, y=689.5, w=119.04510498046875, h=6.5847601890563965),\n",
       " Row(i=2, p=1, x=131.14645385742188, y=672.0999755859375, w=70.00346374511719, h=6.5847601890563965),\n",
       " Row(i=0, p=1, x=314.76116943359375, y=706.9000244140625, w=35.703704833984375, h=6.5847601890563965),\n",
       " Row(i=1, p=1, x=402.94482421875, y=689.5, w=119.04510498046875, h=6.5847601890563965),\n",
       " Row(i=2, p=1, x=131.14645385742188, y=672.0999755859375, w=70.00346374511719, h=6.5847601890563965),\n",
       " Row(i=3, p=1, x=336.46734619140625, y=545.22998046875, w=105.00515747070312, h=6.5847601890563965),\n",
       " Row(i=0, p=1, x=314.76116943359375, y=706.9000244140625, w=35.703704833984375, h=6.5847601890563965),\n",
       " Row(i=1, p=1, x=402.94482421875, y=689.5, w=119.04510498046875, h=6.5847601890563965),\n",
       " Row(i=2, p=1, x=131.14645385742188, y=672.0999755859375, w=70.00346374511719, h=6.5847601890563965),\n",
       " Row(i=3, p=1, x=336.46734619140625, y=545.22998046875, w=105.00515747070312, h=6.5847601890563965),\n",
       " Row(i=4, p=1, x=281.5292663574219, y=527.8300170898438, w=98.70111083984375, h=6.5847601890563965)]"
      ]
     },
     "execution_count": 21,
     "metadata": {},
     "output_type": "execute_result"
    }
   ],
   "source": [
    "coordinate_rows = list(map(lambda c: c['coordinates'], extracted.select('coordinates').collect()))\n",
    "coordinate_rows[0]"
   ]
  },
  {
   "cell_type": "code",
   "execution_count": 24,
   "metadata": {},
   "outputs": [],
   "source": [
    "# Picking first page of Alexandria's file coordinates and pick coordinate them\n",
    "alexandria_coords = list(map(lambda c: c, extracted.select('coordinates').take(1)[0][0]))\n",
    "ocr.drawRectanglesToFile('./input_coordinates/alexandria_multi_page.pdf', alexandria_coords, './picked_coordinates.pdf')"
   ]
  },
  {
   "cell_type": "code",
   "execution_count": null,
   "metadata": {},
   "outputs": [],
   "source": []
  }
 ],
 "metadata": {
  "kernelspec": {
   "display_name": "Python 3",
   "language": "python",
   "name": "python3"
  },
  "language_info": {
   "codemirror_mode": {
    "name": "ipython",
    "version": 3
   },
   "file_extension": ".py",
   "mimetype": "text/x-python",
   "name": "python",
   "nbconvert_exporter": "python",
   "pygments_lexer": "ipython3",
   "version": "3.6.8"
  }
 },
 "nbformat": 4,
 "nbformat_minor": 2
}
