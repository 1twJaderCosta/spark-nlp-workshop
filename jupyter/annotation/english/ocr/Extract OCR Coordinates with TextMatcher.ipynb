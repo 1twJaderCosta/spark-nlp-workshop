{
 "cells": [
  {
   "cell_type": "code",
   "execution_count": 1,
   "metadata": {},
   "outputs": [],
   "source": [
    "import sys\n",
    "\n",
    "sys.path.append('/home/saif/repos/spark-nlp/python')\n",
    "\n",
    "from sparknlp.ocr import OcrHelper, Coordinate\n",
    "from sparknlp.base import *\n",
    "from sparknlp.annotator import *\n",
    "\n",
    "from pyspark.sql import SparkSession\n",
    "from pyspark.ml import Pipeline\n",
    "\n",
    "import sparknlp"
   ]
  },
  {
   "cell_type": "code",
   "execution_count": 2,
   "metadata": {},
   "outputs": [],
   "source": [
    "spark = sparknlp.start()"
   ]
  },
  {
   "cell_type": "code",
   "execution_count": 3,
   "metadata": {},
   "outputs": [],
   "source": [
    "ocr = OcrHelper()"
   ]
  },
  {
   "cell_type": "code",
   "execution_count": 4,
   "metadata": {},
   "outputs": [],
   "source": [
    "data = ocr.createDataset(spark, './simple_document_paragraph.pdf')"
   ]
  },
  {
   "cell_type": "code",
   "execution_count": 5,
   "metadata": {},
   "outputs": [
    {
     "name": "stdout",
     "output_type": "stream",
     "text": [
      "+--------------------+-------+------+----------+----------+--------------------+--------------------+\n",
      "|                text|pagenum|method|noiselevel|confidence|           positions|            filename|\n",
      "+--------------------+-------+------+----------+----------+--------------------+--------------------+\n",
      "|Hello world, this...|      0|  text|       0.0|       0.0|[[[[H, 72.024, 70...|file:/home/saif/r...|\n",
      "+--------------------+-------+------+----------+----------+--------------------+--------------------+\n",
      "\n"
     ]
    }
   ],
   "source": [
    "data.show()"
   ]
  },
  {
   "cell_type": "code",
   "execution_count": 6,
   "metadata": {},
   "outputs": [
    {
     "data": {
      "text/plain": [
       "StructField(positions,ArrayType(StructType(List(StructField(mapping,ArrayType(StructType(List(StructField(c,StringType,true),StructField(x,FloatType,false),StructField(y,FloatType,false),StructField(width,FloatType,false),StructField(height,FloatType,false))),true),true),StructField(lowerLeftX,FloatType,false),StructField(lowerLeftY,FloatType,false))),true),true)"
      ]
     },
     "execution_count": 6,
     "metadata": {},
     "output_type": "execute_result"
    }
   ],
   "source": [
    "data.select('positions').schema[0]"
   ]
  },
  {
   "cell_type": "code",
   "execution_count": 7,
   "metadata": {},
   "outputs": [
    {
     "name": "stdout",
     "output_type": "stream",
     "text": [
      "+-----------------------------------------------------------------------------------------------------------------------------------------------------------------------------------------------------------------------------------------------------------------------------------+\n",
      "|text                                                                                                                                                                                                                                                                               |\n",
      "+-----------------------------------------------------------------------------------------------------------------------------------------------------------------------------------------------------------------------------------------------------------------------------------+\n",
      "|Hello world, this is a paragraph full of cool text and the such. This paragraph is multiline so I hope you \n",
      "enjoy your ride here, which I think this is all through the 2nd line already, what is the meaning of this? \n",
      " \n",
      "I have left some blanks so I continue here. \n",
      " \n",
      "Goodbye… \n",
      "|\n",
      "+-----------------------------------------------------------------------------------------------------------------------------------------------------------------------------------------------------------------------------------------------------------------------------------+\n",
      "\n"
     ]
    }
   ],
   "source": [
    "data.select('text').show(truncate=False)"
   ]
  },
  {
   "cell_type": "code",
   "execution_count": 8,
   "metadata": {},
   "outputs": [
    {
     "data": {
      "text/plain": [
       "'Hello world, this is a paragraph full of cool text and the such. This paragraph is multiline so I hope you \\nenjoy your ride here, which I think this is all through the 2nd line already, what is the meaning of this? \\n \\nI have left some blanks so I continue here. \\n \\nGoodbye… \\n'"
      ]
     },
     "execution_count": 8,
     "metadata": {},
     "output_type": "execute_result"
    }
   ],
   "source": [
    "data.select('text').take(1)[0]['text']"
   ]
  },
  {
   "cell_type": "code",
   "execution_count": 9,
   "metadata": {},
   "outputs": [
    {
     "data": {
      "text/plain": [
       "[Row(c='i', x=511.0361633300781, y=695.02001953125, width=2.539215087890625, height=5.519999980926514),\n",
       " Row(c='s', x=513.542236328125, y=695.02001953125, width=4.316650390625, height=5.519999980926514),\n",
       " Row(c='?', x=517.85888671875, y=695.02001953125, width=5.11151123046875, height=5.519999980926514),\n",
       " Row(c=' ', x=522.9400024414062, y=695.02001953125, width=2.49505615234375, height=5.519999980926514),\n",
       " Row(c=' ', x=72.02400207519531, y=672.5800170898438, width=2.4950408935546875, height=5.519999980926514),\n",
       " Row(c='I', x=72.02400207519531, y=650.02001953125, width=2.7820816040039062, height=5.519999980926514)]"
      ]
     },
     "execution_count": 9,
     "metadata": {},
     "output_type": "execute_result"
    }
   ],
   "source": [
    "data.select('positions').take(1)[0]['positions'][0]['mapping'][210:216]"
   ]
  },
  {
   "cell_type": "code",
   "execution_count": 10,
   "metadata": {},
   "outputs": [],
   "source": [
    "documentAssembler = DocumentAssembler()\\\n",
    "  .setInputCol(\"text\")\\\n",
    "  .setOutputCol(\"document\")\\\n",
    "  .setCleanupMode(\"shrink_each\")\n",
    "\n",
    "sentenceDetector = SentenceDetector()\\\n",
    "  .setInputCols([\"document\"])\\\n",
    "  .setOutputCol(\"sentence\")\n",
    "\n",
    "tokenizer = Tokenizer()\\\n",
    "  .setInputCols([\"document\"])\\\n",
    "  .setOutputCol(\"token\")\n",
    "\n",
    "extractor = TextMatcher()\\\n",
    "  .setEntities(\"simple_document_entities.txt\")\\\n",
    "  .setInputCols([\"token\", \"document\"])\\\n",
    "  .setOutputCol(\"entities\")\n",
    "\n",
    "finder = PositionFinder()\\\n",
    "  .setInputCols([\"entities\"])\\\n",
    "  .setOutputCol(\"coordinates\")\\\n",
    "  .setPageMatrixCol(\"positions\")\n",
    "\n",
    "pipeline = Pipeline(\n",
    "    stages = [\n",
    "    documentAssembler,\n",
    "    sentenceDetector,\n",
    "    tokenizer,\n",
    "    extractor,\n",
    "    finder\n",
    "  ])\n"
   ]
  },
  {
   "cell_type": "code",
   "execution_count": 11,
   "metadata": {},
   "outputs": [],
   "source": [
    "model = pipeline.fit(data)"
   ]
  },
  {
   "cell_type": "code",
   "execution_count": 12,
   "metadata": {},
   "outputs": [],
   "source": [
    "extracted = model.transform(data)"
   ]
  },
  {
   "cell_type": "code",
   "execution_count": 13,
   "metadata": {},
   "outputs": [
    {
     "name": "stdout",
     "output_type": "stream",
     "text": [
      "+-------------------------------------------------------------------------------------------------------------------------------------------------------------------------------------------------------------------------------------------------------------------------------+-----+-----+\n",
      "|result                                                                                                                                                                                                                                                                         |begin|end  |\n",
      "+-------------------------------------------------------------------------------------------------------------------------------------------------------------------------------------------------------------------------------------------------------------------------------+-----+-----+\n",
      "|[Hello world, this is a paragraph full of cool text and the such. This paragraph is multiline so I hope you enjoy your ride here, which I think this is all through the 2nd line already, what is the meaning of this?  I have left some blanks so I continue here.  Goodbye… ]|[0]  |[268]|\n",
      "+-------------------------------------------------------------------------------------------------------------------------------------------------------------------------------------------------------------------------------------------------------------------------------+-----+-----+\n",
      "\n"
     ]
    }
   ],
   "source": [
    "extracted.select('document.result', 'document.begin', 'document.end').show(truncate=False)"
   ]
  },
  {
   "cell_type": "code",
   "execution_count": 14,
   "metadata": {},
   "outputs": [
    {
     "data": {
      "text/plain": [
       "['Hello world, this is a paragraph full of cool text and the such. This paragraph is multiline so I hope you enjoy your ride here, which I think this is all through the 2nd line already, what is the meaning of this?  I have left some blanks so I continue here.  Goodbye… ']"
      ]
     },
     "execution_count": 14,
     "metadata": {},
     "output_type": "execute_result"
    }
   ],
   "source": [
    "extracted.select('document.result').take(1)[0]['result']"
   ]
  },
  {
   "cell_type": "code",
   "execution_count": 15,
   "metadata": {},
   "outputs": [
    {
     "data": {
      "text/plain": [
       "['Hello world, this is a paragraph full of cool text and the such.',\n",
       " 'This paragraph is multiline so I hope you enjoy your ride here, which I think this is all through the 2nd line already, what is the meaning of this?',\n",
       " 'I have left some blanks so I continue here.',\n",
       " 'Goodbye…']"
      ]
     },
     "execution_count": 15,
     "metadata": {},
     "output_type": "execute_result"
    }
   ],
   "source": [
    "extracted.select('sentence.result').take(1)[0]['result']"
   ]
  },
  {
   "cell_type": "code",
   "execution_count": 16,
   "metadata": {},
   "outputs": [
    {
     "name": "stdout",
     "output_type": "stream",
     "text": [
      "+-------------------------------------------------------------------------------------------------------------------------------------------------------------------------------------------------------+\n",
      "|entities                                                                                                                                                                                               |\n",
      "+-------------------------------------------------------------------------------------------------------------------------------------------------------------------------------------------------------+\n",
      "|[[chunk, 41, 49, cool text, [sentence -> 0, chunk -> 0], [], []], [chunk, 83, 91, multiline, [sentence -> 0, chunk -> 1], [], []], [chunk, 227, 237, some blanks, [sentence -> 0, chunk -> 2], [], []]]|\n",
      "+-------------------------------------------------------------------------------------------------------------------------------------------------------------------------------------------------------+\n",
      "\n"
     ]
    }
   ],
   "source": [
    "extracted.select('entities').show(truncate=False)"
   ]
  },
  {
   "cell_type": "code",
   "execution_count": 17,
   "metadata": {},
   "outputs": [
    {
     "data": {
      "text/plain": [
       "[Row(annotatorType='token', begin=0, end=4, result='Hello', metadata={'sentence': '0'}, embeddings=[], sentence_embeddings=[]),\n",
       " Row(annotatorType='token', begin=6, end=10, result='world', metadata={'sentence': '0'}, embeddings=[], sentence_embeddings=[]),\n",
       " Row(annotatorType='token', begin=11, end=11, result=',', metadata={'sentence': '0'}, embeddings=[], sentence_embeddings=[]),\n",
       " Row(annotatorType='token', begin=13, end=16, result='this', metadata={'sentence': '0'}, embeddings=[], sentence_embeddings=[]),\n",
       " Row(annotatorType='token', begin=18, end=19, result='is', metadata={'sentence': '0'}, embeddings=[], sentence_embeddings=[]),\n",
       " Row(annotatorType='token', begin=21, end=21, result='a', metadata={'sentence': '0'}, embeddings=[], sentence_embeddings=[]),\n",
       " Row(annotatorType='token', begin=23, end=31, result='paragraph', metadata={'sentence': '0'}, embeddings=[], sentence_embeddings=[]),\n",
       " Row(annotatorType='token', begin=33, end=36, result='full', metadata={'sentence': '0'}, embeddings=[], sentence_embeddings=[]),\n",
       " Row(annotatorType='token', begin=38, end=39, result='of', metadata={'sentence': '0'}, embeddings=[], sentence_embeddings=[]),\n",
       " Row(annotatorType='token', begin=41, end=44, result='cool', metadata={'sentence': '0'}, embeddings=[], sentence_embeddings=[]),\n",
       " Row(annotatorType='token', begin=46, end=49, result='text', metadata={'sentence': '0'}, embeddings=[], sentence_embeddings=[]),\n",
       " Row(annotatorType='token', begin=51, end=53, result='and', metadata={'sentence': '0'}, embeddings=[], sentence_embeddings=[]),\n",
       " Row(annotatorType='token', begin=55, end=57, result='the', metadata={'sentence': '0'}, embeddings=[], sentence_embeddings=[]),\n",
       " Row(annotatorType='token', begin=59, end=62, result='such', metadata={'sentence': '0'}, embeddings=[], sentence_embeddings=[]),\n",
       " Row(annotatorType='token', begin=63, end=63, result='.', metadata={'sentence': '0'}, embeddings=[], sentence_embeddings=[]),\n",
       " Row(annotatorType='token', begin=65, end=68, result='This', metadata={'sentence': '0'}, embeddings=[], sentence_embeddings=[]),\n",
       " Row(annotatorType='token', begin=70, end=78, result='paragraph', metadata={'sentence': '0'}, embeddings=[], sentence_embeddings=[]),\n",
       " Row(annotatorType='token', begin=80, end=81, result='is', metadata={'sentence': '0'}, embeddings=[], sentence_embeddings=[]),\n",
       " Row(annotatorType='token', begin=83, end=91, result='multiline', metadata={'sentence': '0'}, embeddings=[], sentence_embeddings=[]),\n",
       " Row(annotatorType='token', begin=93, end=94, result='so', metadata={'sentence': '0'}, embeddings=[], sentence_embeddings=[]),\n",
       " Row(annotatorType='token', begin=96, end=96, result='I', metadata={'sentence': '0'}, embeddings=[], sentence_embeddings=[]),\n",
       " Row(annotatorType='token', begin=98, end=101, result='hope', metadata={'sentence': '0'}, embeddings=[], sentence_embeddings=[]),\n",
       " Row(annotatorType='token', begin=103, end=105, result='you', metadata={'sentence': '0'}, embeddings=[], sentence_embeddings=[]),\n",
       " Row(annotatorType='token', begin=107, end=111, result='enjoy', metadata={'sentence': '0'}, embeddings=[], sentence_embeddings=[]),\n",
       " Row(annotatorType='token', begin=113, end=116, result='your', metadata={'sentence': '0'}, embeddings=[], sentence_embeddings=[]),\n",
       " Row(annotatorType='token', begin=118, end=121, result='ride', metadata={'sentence': '0'}, embeddings=[], sentence_embeddings=[]),\n",
       " Row(annotatorType='token', begin=123, end=126, result='here', metadata={'sentence': '0'}, embeddings=[], sentence_embeddings=[]),\n",
       " Row(annotatorType='token', begin=127, end=127, result=',', metadata={'sentence': '0'}, embeddings=[], sentence_embeddings=[]),\n",
       " Row(annotatorType='token', begin=129, end=133, result='which', metadata={'sentence': '0'}, embeddings=[], sentence_embeddings=[]),\n",
       " Row(annotatorType='token', begin=135, end=135, result='I', metadata={'sentence': '0'}, embeddings=[], sentence_embeddings=[]),\n",
       " Row(annotatorType='token', begin=137, end=141, result='think', metadata={'sentence': '0'}, embeddings=[], sentence_embeddings=[]),\n",
       " Row(annotatorType='token', begin=143, end=146, result='this', metadata={'sentence': '0'}, embeddings=[], sentence_embeddings=[]),\n",
       " Row(annotatorType='token', begin=148, end=149, result='is', metadata={'sentence': '0'}, embeddings=[], sentence_embeddings=[]),\n",
       " Row(annotatorType='token', begin=151, end=153, result='all', metadata={'sentence': '0'}, embeddings=[], sentence_embeddings=[]),\n",
       " Row(annotatorType='token', begin=155, end=161, result='through', metadata={'sentence': '0'}, embeddings=[], sentence_embeddings=[]),\n",
       " Row(annotatorType='token', begin=163, end=165, result='the', metadata={'sentence': '0'}, embeddings=[], sentence_embeddings=[]),\n",
       " Row(annotatorType='token', begin=167, end=169, result='2nd', metadata={'sentence': '0'}, embeddings=[], sentence_embeddings=[]),\n",
       " Row(annotatorType='token', begin=171, end=174, result='line', metadata={'sentence': '0'}, embeddings=[], sentence_embeddings=[]),\n",
       " Row(annotatorType='token', begin=176, end=182, result='already', metadata={'sentence': '0'}, embeddings=[], sentence_embeddings=[]),\n",
       " Row(annotatorType='token', begin=183, end=183, result=',', metadata={'sentence': '0'}, embeddings=[], sentence_embeddings=[]),\n",
       " Row(annotatorType='token', begin=185, end=188, result='what', metadata={'sentence': '0'}, embeddings=[], sentence_embeddings=[]),\n",
       " Row(annotatorType='token', begin=190, end=191, result='is', metadata={'sentence': '0'}, embeddings=[], sentence_embeddings=[]),\n",
       " Row(annotatorType='token', begin=193, end=195, result='the', metadata={'sentence': '0'}, embeddings=[], sentence_embeddings=[]),\n",
       " Row(annotatorType='token', begin=197, end=203, result='meaning', metadata={'sentence': '0'}, embeddings=[], sentence_embeddings=[]),\n",
       " Row(annotatorType='token', begin=205, end=206, result='of', metadata={'sentence': '0'}, embeddings=[], sentence_embeddings=[]),\n",
       " Row(annotatorType='token', begin=208, end=211, result='this', metadata={'sentence': '0'}, embeddings=[], sentence_embeddings=[]),\n",
       " Row(annotatorType='token', begin=212, end=212, result='?', metadata={'sentence': '0'}, embeddings=[], sentence_embeddings=[]),\n",
       " Row(annotatorType='token', begin=215, end=215, result='I', metadata={'sentence': '0'}, embeddings=[], sentence_embeddings=[]),\n",
       " Row(annotatorType='token', begin=217, end=220, result='have', metadata={'sentence': '0'}, embeddings=[], sentence_embeddings=[]),\n",
       " Row(annotatorType='token', begin=222, end=225, result='left', metadata={'sentence': '0'}, embeddings=[], sentence_embeddings=[]),\n",
       " Row(annotatorType='token', begin=227, end=230, result='some', metadata={'sentence': '0'}, embeddings=[], sentence_embeddings=[]),\n",
       " Row(annotatorType='token', begin=232, end=237, result='blanks', metadata={'sentence': '0'}, embeddings=[], sentence_embeddings=[]),\n",
       " Row(annotatorType='token', begin=239, end=240, result='so', metadata={'sentence': '0'}, embeddings=[], sentence_embeddings=[]),\n",
       " Row(annotatorType='token', begin=242, end=242, result='I', metadata={'sentence': '0'}, embeddings=[], sentence_embeddings=[]),\n",
       " Row(annotatorType='token', begin=244, end=251, result='continue', metadata={'sentence': '0'}, embeddings=[], sentence_embeddings=[]),\n",
       " Row(annotatorType='token', begin=253, end=256, result='here', metadata={'sentence': '0'}, embeddings=[], sentence_embeddings=[]),\n",
       " Row(annotatorType='token', begin=257, end=257, result='.', metadata={'sentence': '0'}, embeddings=[], sentence_embeddings=[]),\n",
       " Row(annotatorType='token', begin=260, end=267, result='Goodbye…', metadata={'sentence': '0'}, embeddings=[], sentence_embeddings=[])]"
      ]
     },
     "execution_count": 17,
     "metadata": {},
     "output_type": "execute_result"
    }
   ],
   "source": [
    "extracted.select('token').take(1)[0]['token']"
   ]
  },
  {
   "cell_type": "code",
   "execution_count": 18,
   "metadata": {},
   "outputs": [
    {
     "name": "stdout",
     "output_type": "stream",
     "text": [
      "+----------------------------------------------------------------------------------------------------------+\n",
      "|coordinates                                                                                               |\n",
      "+----------------------------------------------------------------------------------------------------------+\n",
      "|[[241.40068, 709.54, 38.87184, 5.52], [423.43, 709.54, 39.57843, 5.52], [118.94, 650.02, 55.409744, 5.52]]|\n",
      "+----------------------------------------------------------------------------------------------------------+\n",
      "\n"
     ]
    }
   ],
   "source": [
    "extracted.select('coordinates').show(truncate=False)"
   ]
  },
  {
   "cell_type": "code",
   "execution_count": 19,
   "metadata": {},
   "outputs": [
    {
     "data": {
      "text/plain": [
       "[Row(x=241.4006805419922, y=709.5399780273438, w=38.87184143066406, h=5.519999980926514),\n",
       " Row(x=423.42999267578125, y=709.5399780273438, w=39.57843017578125, h=5.519999980926514),\n",
       " Row(x=118.94000244140625, y=650.02001953125, w=55.40974426269531, h=5.519999980926514)]"
      ]
     },
     "execution_count": 19,
     "metadata": {},
     "output_type": "execute_result"
    }
   ],
   "source": [
    "coordinate_rows = list(map(lambda c: c['coordinates'], extracted.select('coordinates').collect()))[0]\n",
    "coordinate_rows"
   ]
  },
  {
   "cell_type": "code",
   "execution_count": 20,
   "metadata": {},
   "outputs": [
    {
     "data": {
      "text/plain": [
       "[<sparknlp.ocr.Coordinate at 0x7ffe7d160b38>,\n",
       " <sparknlp.ocr.Coordinate at 0x7ffe7d160198>,\n",
       " <sparknlp.ocr.Coordinate at 0x7ffe7d1608d0>]"
      ]
     },
     "execution_count": 20,
     "metadata": {},
     "output_type": "execute_result"
    }
   ],
   "source": [
    "coordinates = list(map(lambda cr: Coordinate(cr['x'], cr['y'], cr['w'], cr['h']), coordinate_rows))\n",
    "coordinates"
   ]
  },
  {
   "cell_type": "code",
   "execution_count": 21,
   "metadata": {},
   "outputs": [
    {
     "data": {
      "text/plain": [
       "709.5399780273438"
      ]
     },
     "execution_count": 21,
     "metadata": {},
     "output_type": "execute_result"
    }
   ],
   "source": [
    "coordinates[0].y"
   ]
  },
  {
   "cell_type": "code",
   "execution_count": 23,
   "metadata": {},
   "outputs": [],
   "source": [
    "ocr.drawRectangle(spark, './simple_document_paragraph.pdf', coordinates)"
   ]
  },
  {
   "cell_type": "code",
   "execution_count": null,
   "metadata": {},
   "outputs": [],
   "source": []
  }
 ],
 "metadata": {
  "kernelspec": {
   "display_name": "Python 3",
   "language": "python",
   "name": "python3"
  },
  "language_info": {
   "codemirror_mode": {
    "name": "ipython",
    "version": 3
   },
   "file_extension": ".py",
   "mimetype": "text/x-python",
   "name": "python",
   "nbconvert_exporter": "python",
   "pygments_lexer": "ipython3",
   "version": "3.6.8"
  }
 },
 "nbformat": 4,
 "nbformat_minor": 2
}
