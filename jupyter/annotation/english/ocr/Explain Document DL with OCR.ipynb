{
 "cells": [
  {
   "cell_type": "markdown",
   "metadata": {},
   "source": [
    "## Explain Document Deep Learning"
   ]
  },
  {
   "cell_type": "markdown",
   "metadata": {},
   "source": [
    "This notebook shows some of the available annotators in sparknlp. We start by importing required modules. "
   ]
  },
  {
   "cell_type": "code",
   "execution_count": 1,
   "metadata": {},
   "outputs": [],
   "source": [
    "from pyspark.sql import SparkSession\n",
    "\n",
    "spark = SparkSession.builder \\\n",
    "    .appName(\"Global DEMO - Spark NLP Enterprise 2.3.1\") \\\n",
    "    .master(\"local[*]\") \\\n",
    "    .config(\"spark.driver.memory\",\"8G\") \\\n",
    "    .config(\"spark.driver.maxResultSize\", \"2G\") \\\n",
    "    .config(\"spark.serializer\", \"org.apache.spark.serializer.KryoSerializer\") \\\n",
    "    .config(\"spark.jars.packages\", \"JohnSnowLabs:spark-nlp:2.3.1\") \\\n",
    "    .config(\"spark.jars\", \"#####/spark-nlp-jsl-2.3.1.jar\") \\\n",
    "    .getOrCreate()"
   ]
  },
  {
   "cell_type": "code",
   "execution_count": 2,
   "metadata": {},
   "outputs": [],
   "source": [
    "from sparknlp.pretrained import PretrainedPipeline\n",
    "from sparknlp.base import *"
   ]
  },
  {
   "cell_type": "markdown",
   "metadata": {},
   "source": [
    "Now, we load a pipeline model which contains the following annotators:\n",
    "Tokenizer, Deep Sentence Detector, Lemmatizer, Stemmer, Part of Speech (POS) and Context Spell Checker"
   ]
  },
  {
   "cell_type": "code",
   "execution_count": 3,
   "metadata": {
    "scrolled": true
   },
   "outputs": [
    {
     "name": "stdout",
     "output_type": "stream",
     "text": [
      "explain_document_dl download started this may take some time.\n",
      "Approx size to download 167.3 MB\n",
      "[OK!]\n"
     ]
    }
   ],
   "source": [
    "pipeline = PretrainedPipeline('explain_document_dl')"
   ]
  },
  {
   "cell_type": "markdown",
   "metadata": {},
   "source": [
    "We simple send the text we want to transform and the pipeline does the work."
   ]
  },
  {
   "cell_type": "code",
   "execution_count": 4,
   "metadata": {},
   "outputs": [
    {
     "name": "stdout",
     "output_type": "stream",
     "text": [
      "+--------------------+-------+------+----------+----------+--------------------+----------------+---------------+--------------------+\n",
      "|                text|pagenum|method|noiselevel|confidence|           positions|height_dimension|width_dimension|            filename|\n",
      "+--------------------+-------+------+----------+----------+--------------------+----------------+---------------+--------------------+\n",
      "|would have been a...|      0|  text|       0.0|       0.0|[[[[w, 1, 14.4, 3...|           383.0|          284.0|file:/home/saif/r...|\n",
      "+--------------------+-------+------+----------+----------+--------------------+----------------+---------------+--------------------+\n",
      "\n"
     ]
    }
   ],
   "source": [
    "from sparknlp_jsl.ocr import *\n",
    "\n",
    "data = OcrHelper().createDataset(spark, './immortal_text.pdf')\n",
    "data.show()"
   ]
  },
  {
   "cell_type": "markdown",
   "metadata": {},
   "source": [
    "We can see the output of each annotator below."
   ]
  },
  {
   "cell_type": "code",
   "execution_count": 5,
   "metadata": {},
   "outputs": [
    {
     "name": "stdout",
     "output_type": "stream",
     "text": [
      "+--------------------+--------------------+\n",
      "|                 ner|             checked|\n",
      "+--------------------+--------------------+\n",
      "|[[named_entity, 0...|[[token, 0, 4, wo...|\n",
      "+--------------------+--------------------+\n",
      "\n"
     ]
    }
   ],
   "source": [
    "pipeline.transform(data).select(\"ner\", \"checked\").show()"
   ]
  },
  {
   "cell_type": "code",
   "execution_count": 6,
   "metadata": {},
   "outputs": [
    {
     "data": {
      "text/plain": [
       "'would have been a liberation, a joy, and a fiesta. \\nHe sensed that had he been able to choose or \\ndream his death that night, this is the death he \\nwould have dreamed or chosen.  \\nDahlmann firmly grips the knife, which he \\nmay have no idea how to manage, and steps out \\ninto the plains.  \\n \\n \\n \\nThe Aleph  \\n(1949) \\n \\n \\nThe Immortal \\n \\nSolomon saith: There is no new thing upon \\nthe earth.  So that as Plato had an imagination, \\nthat all knowledge was but remembrance;  so \\nSolomon giveth his sentence, that all novelty is \\nbut oblivion.  \\nFrancis Bacon: Essays,  LVIII \\n \\nIn London, in early June of the year 1929, \\n'"
      ]
     },
     "execution_count": 6,
     "metadata": {},
     "output_type": "execute_result"
    }
   ],
   "source": [
    "local_data = data.select(\"text\").first()['text']\n",
    "local_data"
   ]
  },
  {
   "cell_type": "code",
   "execution_count": 7,
   "metadata": {},
   "outputs": [
    {
     "data": {
      "text/plain": [
       "[('would', 'O'),\n",
       " ('have', 'O'),\n",
       " ('been', 'O'),\n",
       " ('a', 'O'),\n",
       " ('liberation', 'O'),\n",
       " (',', 'O'),\n",
       " ('a', 'O'),\n",
       " ('joy', 'O'),\n",
       " (',', 'O'),\n",
       " ('and', 'O'),\n",
       " ('a', 'O'),\n",
       " ('fiesta', 'O'),\n",
       " ('.', 'O'),\n",
       " ('He', 'O'),\n",
       " ('sensed', 'O'),\n",
       " ('that', 'O'),\n",
       " ('had', 'O'),\n",
       " ('he', 'O'),\n",
       " ('been', 'O'),\n",
       " ('able', 'O'),\n",
       " ('to', 'O'),\n",
       " ('choose', 'O'),\n",
       " ('or', 'O'),\n",
       " ('dream', 'O'),\n",
       " ('his', 'O'),\n",
       " ('death', 'O'),\n",
       " ('that', 'O'),\n",
       " ('night', 'O'),\n",
       " (',', 'O'),\n",
       " ('this', 'O'),\n",
       " ('is', 'O'),\n",
       " ('the', 'O'),\n",
       " ('death', 'O'),\n",
       " ('he', 'O'),\n",
       " ('would', 'O'),\n",
       " ('have', 'O'),\n",
       " ('dreamed', 'O'),\n",
       " ('or', 'O'),\n",
       " ('chosen', 'O'),\n",
       " ('.', 'O'),\n",
       " ('Dahlmann', 'I-PER'),\n",
       " ('firmly', 'O'),\n",
       " ('grips', 'O'),\n",
       " ('the', 'O'),\n",
       " ('knife', 'O'),\n",
       " (',', 'O'),\n",
       " ('which', 'O'),\n",
       " ('he', 'O'),\n",
       " ('may', 'O'),\n",
       " ('have', 'O'),\n",
       " ('no', 'O'),\n",
       " ('idea', 'O'),\n",
       " ('how', 'O'),\n",
       " ('to', 'O'),\n",
       " ('manage', 'O'),\n",
       " (',', 'O'),\n",
       " ('and', 'O'),\n",
       " ('steps', 'O'),\n",
       " ('out', 'O'),\n",
       " ('into', 'O'),\n",
       " ('the', 'O'),\n",
       " ('plains', 'O'),\n",
       " ('.', 'O'),\n",
       " ('The', 'O'),\n",
       " ('Aleph', 'I-ORG'),\n",
       " ('(', 'O'),\n",
       " ('1949', 'O'),\n",
       " (')', 'O'),\n",
       " ('The', 'O'),\n",
       " ('Immortal', 'I-MISC'),\n",
       " ('Solomon', 'I-MISC'),\n",
       " ('saith', 'O'),\n",
       " (':', 'O'),\n",
       " ('There', 'O'),\n",
       " ('is', 'O'),\n",
       " ('no', 'O'),\n",
       " ('new', 'O'),\n",
       " ('thing', 'O'),\n",
       " ('upon', 'O'),\n",
       " ('the', 'O'),\n",
       " ('earth', 'O'),\n",
       " ('.', 'O'),\n",
       " ('So', 'O'),\n",
       " ('that', 'O'),\n",
       " ('as', 'O'),\n",
       " ('Plato', 'I-PER'),\n",
       " ('had', 'O'),\n",
       " ('an', 'O'),\n",
       " ('imagination', 'O'),\n",
       " (',', 'O'),\n",
       " ('that', 'O'),\n",
       " ('all', 'O'),\n",
       " ('knowledge', 'O'),\n",
       " ('was', 'O'),\n",
       " ('but', 'O'),\n",
       " ('remembrance', 'O'),\n",
       " (';', 'O'),\n",
       " ('so', 'O'),\n",
       " ('Solomon', 'I-PER'),\n",
       " ('giveth', 'O'),\n",
       " ('his', 'O'),\n",
       " ('sentence', 'O'),\n",
       " (',', 'O'),\n",
       " ('that', 'O'),\n",
       " ('all', 'O'),\n",
       " ('novelty', 'O'),\n",
       " ('is', 'O'),\n",
       " ('but', 'O'),\n",
       " ('oblivion', 'O'),\n",
       " ('.', 'O'),\n",
       " ('Francis', 'I-PER'),\n",
       " ('Bacon', 'I-PER'),\n",
       " (':', 'O'),\n",
       " ('Essays', 'O'),\n",
       " (',', 'O'),\n",
       " ('LVIII', 'I-ORG'),\n",
       " ('In', 'O'),\n",
       " ('London', 'I-LOC'),\n",
       " (',', 'O'),\n",
       " ('in', 'O'),\n",
       " ('early', 'O'),\n",
       " ('June', 'O'),\n",
       " ('of', 'O'),\n",
       " ('the', 'O'),\n",
       " ('year', 'O'),\n",
       " ('1929', 'O'),\n",
       " (',', 'O')]"
      ]
     },
     "execution_count": 7,
     "metadata": {},
     "output_type": "execute_result"
    }
   ],
   "source": [
    "result = pipeline.annotate(local_data)\n",
    "list(zip(result['token'], result['ner']))"
   ]
  },
  {
   "cell_type": "code",
   "execution_count": null,
   "metadata": {},
   "outputs": [],
   "source": []
  }
 ],
 "metadata": {
  "kernelspec": {
   "display_name": "Python 3",
   "language": "python",
   "name": "python3"
  },
  "language_info": {
   "codemirror_mode": {
    "name": "ipython",
    "version": 3
   },
   "file_extension": ".py",
   "mimetype": "text/x-python",
   "name": "python",
   "nbconvert_exporter": "python",
   "pygments_lexer": "ipython3",
   "version": "3.6.8"
  }
 },
 "nbformat": 4,
 "nbformat_minor": 2
}
