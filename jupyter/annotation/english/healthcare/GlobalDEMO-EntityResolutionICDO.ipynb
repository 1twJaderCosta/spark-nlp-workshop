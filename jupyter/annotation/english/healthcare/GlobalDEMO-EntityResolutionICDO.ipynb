{
 "cells": [
  {
   "cell_type": "markdown",
   "metadata": {},
   "source": [
    "# Global DEMO\n",
    "\n",
    "## Example for ICDO Entity Resolution Pipeline\n",
    "A common NLP problem in medical applications is to identify histology behaviour in documented cancer studies.\n",
    "\n",
    "In this example we will use Spark-NLP to identify and resolve histology behavior expressions and resolve them to an ICD-O code.\n",
    "\n",
    "Some cancer related clinical notes (taken from https://www.cancernetwork.com/case-studies):  \n",
    "https://www.cancernetwork.com/case-studies/large-scrotal-mass-multifocal-intra-abdominal-retroperitoneal-and-pelvic-metastases  \n",
    "https://oncology.medicinematters.com/lymphoma/chronic-lymphocytic-leukemia/case-study-small-b-cell-lymphocytic-lymphoma-and-chronic-lymphoc/12133054\n",
    "https://oncology.medicinematters.com/lymphoma/epidemiology/central-nervous-system-lymphoma/12124056\n",
    "https://oncology.medicinematters.com/lymphoma/case-study-cutaneous-t-cell-lymphoma/12129416\n",
    "\n",
    "Note 1: Desmoplastic small round cell tumor\n",
    "<div style=\"border:2px solid #747474; background-color: #e3e3e3; margin: 5px; padding: 10px\"> \n",
    "A 35-year-old African-American man was referred to our urology clinic by his primary care physician for consultation about a large left scrotal mass. The patient reported a 3-month history of left scrotal swelling that had progressively increased in size and was associated with mild left scrotal pain. He also had complaints of mild constipation, with hard stools every other day. He denied any urinary complaints. On physical examination, a hard paratesticular mass could be palpated in the left hemiscrotum extending into the left groin, separate from the left testicle, and measuring approximately 10 × 7 cm in size. A hard, lower abdominal mass in the suprapubic region could also be palpated in the midline. The patient was admitted urgently to the hospital for further evaluation with cross-sectional imaging and blood work.\n",
    "\n",
    "Laboratory results, including results of a complete blood cell count with differential, liver function tests, coagulation panel, and basic chemistry panel, were unremarkable except for a serum creatinine level of 2.6 mg/dL. Typical markers for a testicular germ cell tumor were within normal limits: the beta–human chorionic gonadotropin level was less than 1 mIU/mL and the alpha fetoprotein level was less than 2.8 ng/mL. A CT scan of the chest, abdomen, and pelvis with intravenous contrast was obtained, and it showed large multifocal intra-abdominal, retroperitoneal, and pelvic masses (Figure 1). On cross-sectional imaging, a 7.8-cm para-aortic mass was visualized compressing the proximal portion of the left ureter, creating moderate left hydroureteronephrosis. Additionally, three separate pelvic masses were present in the retrovesical space, each measuring approximately 5 to 10 cm at their largest diameter; these displaced the bladder anteriorly and the rectum posteriorly.\n",
    "\n",
    "The patient underwent ultrasound-guided needle biopsy of one of the pelvic masses on hospital day 3 for definitive diagnosis. Microscopic examination of the tissue by our pathologist revealed cellular islands with oval to elongated, irregular, and hyperchromatic nuclei; scant cytoplasm; and invading fibrous tissue—as well as three mitoses per high-powered field (Figure 2). Immunohistochemical staining demonstrated strong positivity for cytokeratin AE1/AE3, vimentin, and desmin. Further mutational analysis of the cells detected the presence of an EWS-WT1 fusion transcript consistent with a diagnosis of desmoplastic small round cell tumor.\n",
    "</div>\n",
    "\n",
    "Note 2: SLL and CLL\n",
    "<div style=\"border:2px solid #747474; background-color: #e3e3e3; margin: 5px; padding: 10px\"> \n",
    "A 72-year-old man with a history of diabetes mellitus, hypertension, and hypercholesterolemia self-palpated a left submandibular lump in 2012. Complete blood count (CBC) in his internist’s office showed solitary leukocytosis (white count 22) with predominant lymphocytes for which he was referred to a hematologist. Peripheral blood flow cytometry on 04/11/12 confirmed chronic lymphocytic leukemia (CLL)/small lymphocytic lymphoma (SLL): abnormal cell population comprising 63% of CD45 positive leukocytes, co-expressing CD5 and CD23 in CD19-positive B cells. CD38 was negative but other prognostic markers were not assessed at that time. The patient was observed regularly for the next 3 years and his white count trend was as follows: 22.8 (4/2012) --> 28.5 (07/2012) --> 32.2 (12/2012) --> 36.5 (02/2013) --> 42 (09/2013) --> 44.9 (01/2014) --> 75.8 (2/2015). His other counts stayed normal until early 2015 when he also developed anemia (hemoglobin [HGB] 10.9) although platelets remained normal at 215. He had been noticing enlargement of his cervical, submandibular, supraclavicular, and axillary lymphadenopathy for several months since 2014 and a positron emission tomography (PET)/computed tomography (CT) scan done in 12/2014 had shown extensive diffuse lymphadenopathy within the neck, chest, abdomen, and pelvis. Maximum standardized uptake value (SUV max) was similar to low baseline activity within the vasculature of the neck and chest. In the abdomen and pelvis, however, there was mild to moderately hypermetabolic adenopathy measuring up to SUV of 4. The largest right neck nodes measured up to 2.3 x 3 cm and left neck nodes measured up to 2.3 x 1.5 cm. His right axillary lymphadenopathy measured up to 5.5 x 2.6 cm and on the left measured up to 4.8 x 3.4 cm. Lymph nodes on the right abdomen and pelvis measured up to 6.7 cm and seemed to have some mass effect with compression on the urinary bladder without symptoms. He underwent a bone marrow biopsy on 02/03/15, which revealed hypercellular marrow (60%) with involvement by CLL (30%); flow cytometry showed CD38 and ZAP-70 positivity; fluorescence in situ hybridization (FISH) analysis showed 13q deletion/monosomy 13; IgVH was unmutated; karyotype was 46XY.\n",
    "</div>\n",
    "\n",
    "Note 3: CNS lymphoma\n",
    "<div style=\"border:2px solid #747474; background-color: #e3e3e3; margin: 5px; padding: 10px\"> \n",
    "A 56-year-old woman began to experience vertigo, headaches, and frequent falls. A computed tomography (CT) scan of the brain revealed the presence of a 1.6 x 1.6 x 2.1 cm mass involving the fourth ventricle (Figure 14.1). A gadolinium-enhanced magnetic resonance imaging (MRI) scan confirmed the presence of the mass, and a stereotactic biopsy was performed that demonstrated a primary central nervous system lymphoma (PCNSL) with a diffuse large B-cell histology. Complete blood count (CBC), lactate dehydrogenase (LDH), and beta-2-microglobulin were normal. Systemic staging with a positron emission tomography (PET)/CT scan and bone marrow biopsy showed no evidence of lymphomatous involvement outside the CNS. An eye exam and lumbar puncture showed no evidence of either ocular or leptomeningeal involvement.\n",
    "</div>\n",
    "\n",
    "Note 4: Cutaneous T-cell lymphoma\n",
    "<div style=\"border:2px solid #747474; background-color: #e3e3e3; margin: 5px; padding: 10px\"> \n",
    "An 83-year-old female presented with a progressing pruritic cutaneous rash that started 8 years ago. On clinical exam there were numerous coalescing, infiltrated, scaly, and partially crusted erythematous plaques distributed over her trunk and extremities and a large fungating ulcerated nodule on her right thigh covering 75% of her total body surface area (Figure 10.1). Lymphoma associated alopecia and a left axillary lymphadenopathy were also noted. For the past 3–4 months she reported fatigue, severe pruritus, night sweats, 20 pounds of weight loss, and loss of appetite. \n",
    "</div>"
   ]
  },
  {
   "cell_type": "code",
   "execution_count": 1,
   "metadata": {},
   "outputs": [],
   "source": [
    "import sys, os, time\n",
    "from sparknlp.base import *\n",
    "from sparknlp.annotator import *\n",
    "from sparknlp_jsl.annotator import *\n",
    "import pyspark.sql.functions as F\n",
    "from pyspark.sql.types import StructType, StructField, StringType"
   ]
  },
  {
   "cell_type": "markdown",
   "metadata": {},
   "source": [
    "Let's create a dataset with all four case studies"
   ]
  },
  {
   "cell_type": "code",
   "execution_count": 2,
   "metadata": {},
   "outputs": [],
   "source": [
    "notes = []\n",
    "notes.append(\"\"\"A 35-year-old African-American man was referred to our urology clinic by his primary care physician for consultation about a large left scrotal mass. The patient reported a 3-month history of left scrotal swelling that had progressively increased in size and was associated with mild left scrotal pain. He also had complaints of mild constipation, with hard stools every other day. He denied any urinary complaints. On physical examination, a hard paratesticular mass could be palpated in the left hemiscrotum extending into the left groin, separate from the left testicle, and measuring approximately 10 × 7 cm in size. A hard, lower abdominal mass in the suprapubic region could also be palpated in the midline. The patient was admitted urgently to the hospital for further evaluation with cross-sectional imaging and blood work.\n",
    "Laboratory results, including results of a complete blood cell count with differential, liver function tests, coagulation panel, and basic chemistry panel, were unremarkable except for a serum creatinine level of 2.6 mg/dL. Typical markers for a testicular germ cell tumor were within normal limits: the beta–human chorionic gonadotropin level was less than 1 mIU/mL and the alpha fetoprotein level was less than 2.8 ng/mL. A CT scan of the chest, abdomen, and pelvis with intravenous contrast was obtained, and it showed large multifocal intra-abdominal, retroperitoneal, and pelvic masses (Figure 1). On cross-sectional imaging, a 7.8-cm para-aortic mass was visualized compressing the proximal portion of the left ureter, creating moderate left hydroureteronephrosis. Additionally, three separate pelvic masses were present in the retrovesical space, each measuring approximately 5 to 10 cm at their largest diameter; these displaced the bladder anteriorly and the rectum posteriorly.\n",
    "The patient underwent ultrasound-guided needle biopsy of one of the pelvic masses on hospital day 3 for definitive diagnosis. Microscopic examination of the tissue by our pathologist revealed cellular islands with oval to elongated, irregular, and hyperchromatic nuclei; scant cytoplasm; and invading fibrous tissue—as well as three mitoses per high-powered field (Figure 2). Immunohistochemical staining demonstrated strong positivity for cytokeratin AE1/AE3, vimentin, and desmin. Further mutational analysis of the cells detected the presence of an EWS-WT1 fusion transcript consistent with a diagnosis of desmoplastic small round cell tumor.\"\"\")\n",
    "notes.append(\"\"\"A 72-year-old man with a history of diabetes mellitus, hypertension, and hypercholesterolemia self-palpated a left submandibular lump in 2012. Complete blood count (CBC) in his internist’s office showed solitary leukocytosis (white count 22) with predominant lymphocytes for which he was referred to a hematologist. Peripheral blood flow cytometry on 04/11/12 confirmed chronic lymphocytic leukemia (CLL)/small lymphocytic lymphoma (SLL): abnormal cell population comprising 63% of CD45 positive leukocytes, co-expressing CD5 and CD23 in CD19-positive B cells. CD38 was negative but other prognostic markers were not assessed at that time. The patient was observed regularly for the next 3 years and his white count trend was as follows: 22.8 (4/2012) --> 28.5 (07/2012) --> 32.2 (12/2012) --> 36.5 (02/2013) --> 42 (09/2013) --> 44.9 (01/2014) --> 75.8 (2/2015). His other counts stayed normal until early 2015 when he also developed anemia (hemoglobin [HGB] 10.9) although platelets remained normal at 215. He had been noticing enlargement of his cervical, submandibular, supraclavicular, and axillary lymphadenopathy for several months since 2014 and a positron emission tomography (PET)/computed tomography (CT) scan done in 12/2014 had shown extensive diffuse lymphadenopathy within the neck, chest, abdomen, and pelvis. Maximum standardized uptake value (SUV max) was similar to low baseline activity within the vasculature of the neck and chest. In the abdomen and pelvis, however, there was mild to moderately hypermetabolic adenopathy measuring up to SUV of 4. The largest right neck nodes measured up to 2.3 x 3 cm and left neck nodes measured up to 2.3 x 1.5 cm. His right axillary lymphadenopathy measured up to 5.5 x 2.6 cm and on the left measured up to 4.8 x 3.4 cm. Lymph nodes on the right abdomen and pelvis measured up to 6.7 cm and seemed to have some mass effect with compression on the urinary bladder without symptoms. He underwent a bone marrow biopsy on 02/03/15, which revealed hypercellular marrow (60%) with involvement by CLL (30%); flow cytometry showed CD38 and ZAP-70 positivity; fluorescence in situ hybridization (FISH) analysis showed 13q deletion/monosomy 13; IgVH was unmutated; karyotype was 46XY.\"\"\")\n",
    "notes.append(\"A 56-year-old woman began to experience vertigo, headaches, and frequent falls. A computed tomography (CT) scan of the brain revealed the presence of a 1.6 x 1.6 x 2.1 cm mass involving the fourth ventricle (Figure 14.1). A gadolinium-enhanced magnetic resonance imaging (MRI) scan confirmed the presence of the mass, and a stereotactic biopsy was performed that demonstrated a primary central nervous system lymphoma (PCNSL) with a diffuse large B-cell histology. Complete blood count (CBC), lactate dehydrogenase (LDH), and beta-2-microglobulin were normal. Systemic staging with a positron emission tomography (PET)/CT scan and bone marrow biopsy showed no evidence of lymphomatous involvement outside the CNS. An eye exam and lumbar puncture showed no evidence of either ocular or leptomeningeal involvement.\") \n",
    "notes.append(\"An 83-year-old female presented with a progressing pruritic cutaneous rash that started 8 years ago. On clinical exam there were numerous coalescing, infiltrated, scaly, and partially crusted erythematous plaques distributed over her trunk and extremities and a large fungating ulcerated nodule on her right thigh covering 75% of her total body surface area (Figure 10.1). Lymphoma associated alopecia and a left axillary lymphadenopathy were also noted. For the past 3–4 months she reported fatigue, severe pruritus, night sweats, 20 pounds of weight loss, and loss of appetite.\")\n",
    "\n",
    "data = spark.createDataFrame([(n,) for n in notes], StructType([StructField(\"description\", StringType())]))"
   ]
  },
  {
   "cell_type": "markdown",
   "metadata": {},
   "source": [
    "And let's build a SparkNLP pipeline with the following stages:\n",
    "- DocumentAssembler: Entry annotator for our pipelines; it creates the data structure for the Annotation Framework\n",
    "- SentenceDetector: Annotator to pragmatically separate complete sentences inside each document\n",
    "- Tokenizer: Annotator to separate sentences in tokens (generally words)\n",
    "- StopWordsCleaner: Annotator to remove words defined as StopWords in SparkML\n",
    "- TextMatcher: This annotator makes sure to return just found phrases in a search Trie. In this case ICDO phrases.\n",
    "- WordEmbeddings: Vectorization of word tokens, in this case using word embeddings trained from PubMed, ICD10 and other clinical resources.\n",
    "- EntityResolver: Annotator that performs search for the KNNs, in this case trained from ICDO Histology Behavior."
   ]
  },
  {
   "cell_type": "code",
   "execution_count": 3,
   "metadata": {},
   "outputs": [
    {
     "name": "stdout",
     "output_type": "stream",
     "text": [
      "textmatch_icdo_ner_n2c4 download started this may take some time.\n",
      "Approximate size to download 4.8 MB\n",
      "[OK!]\n",
      "embeddings_icdoem download started this may take some time.\n",
      "Approximate size to download 2.2 GB\n",
      "[OK!]\n",
      "chunkresolve_icdo_icdoem download started this may take some time.\n",
      "Approximate size to download 16.1 MB\n",
      "[OK!]\n"
     ]
    }
   ],
   "source": [
    "docAssembler = DocumentAssembler().setInputCol(\"description\").setOutputCol(\"document\")\n",
    "\n",
    "sentenceDetector = SentenceDetector().setInputCols(\"document\").setOutputCol(\"sentence\")\n",
    "\n",
    "tokenizer = Tokenizer().setInputCols(\"sentence\").setOutputCol(\"token\")\n",
    "\n",
    "stopCleaner = StopWordsCleaner().setOutputCol(\"cleanToken\")\n",
    "\n",
    "textMatcher = TextMatcherModel.pretrained(\"textmatch_icdo_ner_n2c4\", \"en\", \"clinical/models\")\\\n",
    "    .setInputCols(\"sentence\", \"cleanToken\")\\\n",
    "    .setOutputCol(\"matched_icdo\")\n",
    "\n",
    "#Working on adjusting WordEmbeddingsModel to work with the subset of matched tokens\n",
    "embeddings = WordEmbeddingsModel.pretrained(\"embeddings_icdoem\", \"en\", \"clinical/models\")\\\n",
    "    .setInputCols(\"sentence\", \"cleanToken\")\\\n",
    "    .setOutputCol(\"embeddings\")\n",
    "\n",
    "chunkEmbeddings = ChunkEmbeddings()\\\n",
    "  .setInputCols(\"matched_icdo\", \"embeddings\")\\\n",
    "  .setOutputCol(\"chunk_embeddings\")\n",
    "\n",
    "chunkResolver = ChunkEntityResolverModel.pretrained(\"chunkresolve_icdo_icdoem\", \"en\", \"clinical/models\")\\\n",
    "    .setInputCols(\"cleanToken\",\"chunk_embeddings\")\\\n",
    "    .setOutputCol(\"icdo_code\")"
   ]
  },
  {
   "cell_type": "code",
   "execution_count": 4,
   "metadata": {},
   "outputs": [],
   "source": [
    "pipelineFull = Pipeline().setStages([\n",
    "    docAssembler, \n",
    "    sentenceDetector, \n",
    "    tokenizer, \n",
    "    stopCleaner, \n",
    "    textMatcher, \n",
    "    embeddings, \n",
    "    chunkEmbeddings, \n",
    "    chunkResolver])"
   ]
  },
  {
   "cell_type": "markdown",
   "metadata": {},
   "source": [
    "Let's train our Pipeline and make it ready to start transforming"
   ]
  },
  {
   "cell_type": "code",
   "execution_count": 5,
   "metadata": {},
   "outputs": [],
   "source": [
    "pipelineModelFull = pipelineFull.fit(data)"
   ]
  },
  {
   "cell_type": "code",
   "execution_count": 6,
   "metadata": {},
   "outputs": [],
   "source": [
    "output = pipelineModelFull.transform(data)"
   ]
  },
  {
   "cell_type": "markdown",
   "metadata": {},
   "source": [
    "The key parts of our model are the **TextMatcher, WordEmbeddings and EntityResolver**: \n",
    "   \n",
    "### TextMatcher:\n",
    "Trained with a Cancer Glossary and an augmented dataset from JSL Data Market it filters expressions leaving just those that are cancer related.  \n",
    "\n",
    "### WordEmebeddings:   \n",
    "Word2Vec model trained on semantically augmented datasets using information from curated Datasets in JSL Data Market.  \n",
    "\n",
    "### EntityResolver:  \n",
    "Trained on an augmented ICDO Dataset from JSL Data Market it provides histology codes resolution for the matched expressions. Other than providing the code in the \"result\" field it provides more metadata about the matching process:  \n",
    "\n",
    "- target_text -> Text to resolve\n",
    "- resolved_text -> Best match text\n",
    "- confidence -> Relative confidence for the top match (distance to probability)\n",
    "- confidence_ratio -> Relative confidence for the top match. TopMatchConfidence / SecondMatchConfidence\n",
    "- alternative_codes -> List of other plausible codes (in the KNN neighborhood)\n",
    "- alternative_confidence_ratios -> Rest of confidence ratios\n",
    "- all_k_results -> All resolved codes for metrics calculation purposes\n",
    "- sentence -> SentenceId\n",
    "- chunk -> ChunkId"
   ]
  },
  {
   "cell_type": "code",
   "execution_count": 7,
   "metadata": {},
   "outputs": [
    {
     "name": "stdout",
     "output_type": "stream",
     "text": [
      "+----------------------------------------------------------------------------+----------------------------------------+\n",
      "|result                                                                      |result                                  |\n",
      "+----------------------------------------------------------------------------+----------------------------------------+\n",
      "|[germ cell tumor, diagnosis, diagnosis, desmoplastic small round cell tumor]|[9085/3, 9570/0, 9570/0, 8806/3]        |\n",
      "|[chronic lymphocytic leukemia, lymphocytic lymphoma, bone marrow, CLL, FISH]|[9823/3, 9823/3, 9961/3, 9896/3, 8072/2]|\n",
      "|[central nervous system, lymphoma, diffuse large, bone marrow]              |[9350/1, 9764/3, 9679/3, 9961/3]        |\n",
      "|[Lymphoma associated]                                                       |[9764/3]                                |\n",
      "+----------------------------------------------------------------------------+----------------------------------------+\n",
      "\n"
     ]
    }
   ],
   "source": [
    "output.select(\"matched_icdo.result\",\"icdo_code.result\").show(10, False)"
   ]
  },
  {
   "cell_type": "code",
   "execution_count": 8,
   "metadata": {},
   "outputs": [
    {
     "name": "stdout",
     "output_type": "stream",
     "text": [
      "+--------------------+--------------------+------+--------------------+-------------------+\n",
      "|               chunk|       resolved_text|  code|   alternative_codes|relative_confidence|\n",
      "+--------------------+--------------------+------+--------------------+-------------------+\n",
      "|desmoplastic smal...|Desmoplastic smal...|8806/3|8806/3,8806/3,880...|           Infinity|\n",
      "| Lymphoma associated|Immunoproliferati...|9764/3|9650/3,9814/3,981...| 1.4743645048020513|\n",
      "|            lymphoma|Immunoproliferati...|9764/3|9673/3,9761/3,976...| 1.4522040486040129|\n",
      "|chronic lymphocyt...|Chronic lymphocyt...|9823/3|9963/3,9963/3,996...|  1.370871594645642|\n",
      "|     germ cell tumor|Mixed germ cell t...|9085/3|9065/3,9065/3,906...|  1.289814071225131|\n",
      "|                 CLL|Acute myeloid leu...|9896/3|9823/3,9896/3,981...| 1.2144261047177702|\n",
      "|central nervous s...|   Craniopharyngioma|9350/1|9501/3,9501/3,947...| 1.0795839386064578|\n",
      "|                FISH|Sq. cell carcinom...|8072/2|8072/2,8743/2,807...| 1.0534666458573283|\n",
      "|lymphocytic lymphoma|Chronic lymphocyt...|9823/3|9761/3,9764/3,969...|  1.020893542935642|\n",
      "|       diffuse large|Mediastinal large...|9679/3|9735/3,9679/3,967...| 1.0102806414686136|\n",
      "|           diagnosis|        Neuroma, NOS|9570/0|9086/3,8964/3,817...|  1.001710030511937|\n",
      "|         bone marrow|Myelosclerosis wi...|9961/3|9961/3,9961/3,996...|                1.0|\n",
      "+--------------------+--------------------+------+--------------------+-------------------+\n",
      "\n"
     ]
    }
   ],
   "source": [
    "output.select(F.explode(F.arrays_zip(\"matched_icdo.result\",\"icdo_code.result\",\"icdo_code.metadata\")).alias(\"icdo_result\")) \\\n",
    ".select(F.expr(\"icdo_result['0']\").alias(\"chunk\"),\n",
    "        F.expr(\"icdo_result['2'].resolved_text\").alias(\"resolved_text\"),\n",
    "        F.expr(\"icdo_result['1']\").alias(\"code\"),\n",
    "        F.expr(\"icdo_result['2'].alternative_codes\").alias(\"alternative_codes\"),\n",
    "        F.expr(\"icdo_result['2'].confidence_ratio\").alias(\"relative_confidence\")) \\\n",
    ".distinct() \\\n",
    ".orderBy(\"relative_confidence\", ascending=False) \\\n",
    ".show(100)"
   ]
  },
  {
   "cell_type": "markdown",
   "metadata": {},
   "source": [
    "And sometimes, we just want to transform a imple sentence/document.\n",
    "That's where **LightPipelines** excel:"
   ]
  },
  {
   "cell_type": "code",
   "execution_count": 9,
   "metadata": {},
   "outputs": [],
   "source": [
    "lightFull = LightPipeline(pipelineModelFull)"
   ]
  },
  {
   "cell_type": "code",
   "execution_count": 10,
   "metadata": {},
   "outputs": [],
   "source": [
    "firstAnnotation = lightFull.annotate(\"germ cell tumor with , diagnosis, diagnosis, desmoplastic small round cell tumor\")"
   ]
  },
  {
   "cell_type": "code",
   "execution_count": 11,
   "metadata": {},
   "outputs": [
    {
     "data": {
      "text/plain": [
       "[('germ cell tumor', '9085/3'),\n",
       " ('diagnosis', '9570/0'),\n",
       " ('diagnosis', '9570/0'),\n",
       " ('desmoplastic small round cell tumor', '8806/3')]"
      ]
     },
     "execution_count": 11,
     "metadata": {},
     "output_type": "execute_result"
    }
   ],
   "source": [
    "list(zip(firstAnnotation[\"matched_icdo\"], firstAnnotation[\"icdo_code\"]))"
   ]
  },
  {
   "cell_type": "code",
   "execution_count": null,
   "metadata": {},
   "outputs": [],
   "source": []
  }
 ],
 "metadata": {
  "kernelspec": {
   "display_name": "jsl368",
   "language": "python",
   "name": "jsl368"
  },
  "language_info": {
   "codemirror_mode": {
    "name": "ipython",
    "version": 3
   },
   "file_extension": ".py",
   "mimetype": "text/x-python",
   "name": "python",
   "nbconvert_exporter": "python",
   "pygments_lexer": "ipython3",
   "version": "3.6.8"
  }
 },
 "nbformat": 4,
 "nbformat_minor": 2
}
