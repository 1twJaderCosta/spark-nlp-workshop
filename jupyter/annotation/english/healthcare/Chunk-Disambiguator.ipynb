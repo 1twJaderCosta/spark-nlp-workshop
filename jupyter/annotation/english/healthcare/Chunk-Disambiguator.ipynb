{
 "cells": [
  {
   "cell_type": "code",
   "execution_count": 1,
   "metadata": {},
   "outputs": [],
   "source": [
    "from sparknlp.annotator import *\n",
    "from sparknlp_jsl.annotator import *\n",
    "from sparknlp.base import *"
   ]
  },
  {
   "cell_type": "code",
   "execution_count": 2,
   "metadata": {},
   "outputs": [
    {
     "data": {
      "text/html": [
       "\n",
       "            <div>\n",
       "                <p><b>SparkSession - hive</b></p>\n",
       "                \n",
       "        <div>\n",
       "            <p><b>SparkContext</b></p>\n",
       "\n",
       "            <p><a href=\"http://MSI:4040\">Spark UI</a></p>\n",
       "\n",
       "            <dl>\n",
       "              <dt>Version</dt>\n",
       "                <dd><code>v2.4.4</code></dd>\n",
       "              <dt>Master</dt>\n",
       "                <dd><code>local[*]</code></dd>\n",
       "              <dt>AppName</dt>\n",
       "                <dd><code>PySparkShell</code></dd>\n",
       "            </dl>\n",
       "        </div>\n",
       "        \n",
       "            </div>\n",
       "        "
      ],
      "text/plain": [
       "<pyspark.sql.session.SparkSession at 0x25b610a27f0>"
      ]
     },
     "execution_count": 2,
     "metadata": {},
     "output_type": "execute_result"
    }
   ],
   "source": [
    "import sparknlp_jsl\n",
    "\n",
    "sparknlp_jsl.start(\"######\") # Secret code provided as part of the license"
   ]
  },
  {
   "cell_type": "code",
   "execution_count": 3,
   "metadata": {},
   "outputs": [
    {
     "name": "stdout",
     "output_type": "stream",
     "text": [
      "pos_anc download started this may take some time.\n",
      "Approximate size to download 4.3 MB\n",
      "[OK!]\n",
      "glove_100d download started this may take some time.\n",
      "Approximate size to download 144.3 MB\n",
      "[OK!]\n",
      "ner_dl download started this may take some time.\n",
      "Approximate size to download 13.7 MB\n",
      "[OK!]\n",
      "people_disambiguator download started this may take some time.\n",
      "Approximate size to download 54.1 MB\n",
      "[OK!]\n"
     ]
    }
   ],
   "source": [
    "document = DocumentAssembler()\\\n",
    ".setInputCol(\"text\")\\\n",
    ".setOutputCol(\"document\")\n",
    "\n",
    "token = Tokenizer()\\\n",
    ".setInputCols(\"document\")\\\n",
    ".setOutputCol(\"token\")\n",
    "\n",
    "normalizer = Normalizer()\\\n",
    ".setInputCols(\"token\")\\\n",
    ".setOutputCol(\"normal\")\n",
    "\n",
    "pos = PerceptronModel.pretrained(\"pos_anc\", lang = \"en\")\\\n",
    ".setInputCols(\"document\", \"normal\")\\\n",
    ".setOutputCol(\"pos\")\n",
    "\n",
    "wordEmbeddings = WordEmbeddingsModel.pretrained()\\\n",
    ".setInputCols(\"document\", \"normal\")\\\n",
    ".setOutputCol(\"word_embeddings\")\n",
    "\n",
    "ner = NerDLModel.pretrained()\\\n",
    ".setInputCols(\"document\", \"normal\", \"word_embeddings\")\\\n",
    ".setOutputCol(\"ner\")\n",
    "\n",
    "nerConverter = NerConverter()\\\n",
    ".setInputCols(\"document\", \"normal\", \"ner\")\\\n",
    ".setOutputCol(\"ner_converter\")\\\n",
    ".setWhiteList([\"PER\"])\n",
    "\n",
    "disambiguator = DisambiguatorModel.pretrained('people_disambiguator', 'en', 'clinical/models')\\\n",
    ".setInputCols(\"ner_converter\", \"word_embeddings\")\\\n",
    ".setOutputCol(\"disambiguation\")\n",
    "\n",
    "pipeline = Pipeline().setStages([document, token, normalizer, wordEmbeddings,\n",
    "pos, ner, nerConverter, disambiguator])"
   ]
  },
  {
   "cell_type": "code",
   "execution_count": 5,
   "metadata": {},
   "outputs": [],
   "source": [
    "data = spark.createDataFrame([\n",
    "    [1, \"The 2015 CPAC featured Jamila Bey who became the first atheist activist to address CPAC's annual meeting.\"],\n",
    "    [2, \"The city is the heart of the state's 7th legislative district, represented in the Minnesota Senate by  Erik Simonson\" +\n",
    "      \" and in the Minnesota House of Representatives by Jennifer Schultz (District 7A) and Liz Olson (District 7B), all \" +\n",
    "      \"members of the Democratic-Farmer-Labor Party, which has long dominated the city's politics.\"],\n",
    "    [3, \"His father Dimitri (Zurab), a prince of the House of Orbeliani, served at the court of the last Georgian kings,\" +\n",
    "      \" while mother Khoreshan née Andronikashvili was a granddaughter, on her mother, Princess Elene’s, side, of Erekle\" +\n",
    "      \" II, the penultimate and popular king of Georgia, whose cult would later be introduced into Georgian literature by Grigol Orbeliani himself.\"],\n",
    "    [4, \"The disarmament of Krepost Sveaborg, denying the Reds from using it, was used in White propaganda by how Allan \" +\n",
    "      \"Staffans had duped the Russians and removed the locks without authorization\"],\n",
    "    [5, \"The show also had a contestant named Josephine Roberto (aka Banig),\" +\n",
    "      \" who later defeated Christina Aguilera on the way to become Female Vocalist Champion in the 1989 edition of Star Search in the United States.\"]\n",
    "]).toDF('id', 'text')"
   ]
  },
  {
   "cell_type": "code",
   "execution_count": 6,
   "metadata": {},
   "outputs": [
    {
     "name": "stdout",
     "output_type": "stream",
     "text": [
      "+---+--------------------+\n",
      "| id|                text|\n",
      "+---+--------------------+\n",
      "|  1|The 2015 CPAC fea...|\n",
      "|  2|The city is the h...|\n",
      "|  3|His father Dimitr...|\n",
      "|  4|The disarmament o...|\n",
      "|  5|The show also had...|\n",
      "+---+--------------------+\n",
      "\n"
     ]
    }
   ],
   "source": [
    "data.show()"
   ]
  },
  {
   "cell_type": "code",
   "execution_count": 7,
   "metadata": {},
   "outputs": [],
   "source": [
    "model = pipeline.fit(data)"
   ]
  },
  {
   "cell_type": "code",
   "execution_count": 10,
   "metadata": {},
   "outputs": [
    {
     "name": "stdout",
     "output_type": "stream",
     "text": [
      "+----------------------------------------------------------------------+---------------------------------------------------------------------------------------------------------------------------------------------------------------------------------------------------------------------------------------------------------------------------------------------------------------------------------------------------------------------------------------------------------------------------------------------------------------------------------------------------------------------------------------------------------------------------------------------------------------------------------------------------------------------------------------------------------------------------------------------------------------------------+--------------------------------------------------------------------------------------------------------------------------------------------------------------------------------------------------------------------------------------------------------------------------------------------------------------------------------------------------------------------------------------------------------------------------------------+\n",
      "|result                                                                |result                                                                                                                                                                                                                                                                                                                                                                                                                                                                                                                                                                                                                                                                                                                                                                     |metadata                                                                                                                                                                                                                                                                                                                                                                                                                              |\n",
      "+----------------------------------------------------------------------+---------------------------------------------------------------------------------------------------------------------------------------------------------------------------------------------------------------------------------------------------------------------------------------------------------------------------------------------------------------------------------------------------------------------------------------------------------------------------------------------------------------------------------------------------------------------------------------------------------------------------------------------------------------------------------------------------------------------------------------------------------------------------+--------------------------------------------------------------------------------------------------------------------------------------------------------------------------------------------------------------------------------------------------------------------------------------------------------------------------------------------------------------------------------------------------------------------------------------+\n",
      "|[Jamila Bey]                                                          |[http://en.wikipedia.org/wiki/Jamie_Kern_Lima, http://en.wikipedia.org/wiki/Jamie_Pineda, http://en.wikipedia.org/wiki/Jamie_Churchill, http://en.wikipedia.org/wiki/Turhan_Bey, http://en.wikipedia.org/wiki/Jamie_Rose]                                                                                                                                                                                                                                                                                                                                                                                                                                                                                                                                                  |[[chunk -> Jamila Bey, scores -> 0.9143, 0.9124, 0.9113, 0.9100, 0.9063, beginInText -> 23, endInText -> 32]]                                                                                                                                                                                                                                                                                                                         |\n",
      "|[Erik Simonson, Jennifer Schultz, Liz Olson]                          |[http://en.wikipedia.org/wiki/Simon_Gillis, http://en.wikipedia.org/wiki/Simon_Weir, http://en.wikipedia.org/wiki/Erik_J._Berg, http://en.wikipedia.org/wiki/Simon_Pryce, http://en.wikipedia.org/wiki/Erik_Dellums, http://en.wikipedia.org/wiki/Jennie_Eisenhower, http://en.wikipedia.org/wiki/Jennifer_Baxter, http://en.wikipedia.org/wiki/Jenny_Hutchinson, http://en.wikipedia.org/wiki/Jenny_Jules, http://en.wikipedia.org/wiki/Jennifer_Bishop, http://en.wikipedia.org/wiki/Liz_Lynne, http://en.wikipedia.org/wiki/Kirsten_Olson, http://en.wikipedia.org/wiki/Nancy_Olson, http://en.wikipedia.org/wiki/Liz_Gebhardt, http://en.wikipedia.org/wiki/Liz_White_(actress)]                                                                                       |[[chunk -> Erik Simonson, scores -> 0.9557, 0.9497, 0.9491, 0.9481, 0.9424, beginInText -> 103, endInText -> 115], [chunk -> Jennifer Schultz, scores -> 0.9568, 0.9485, 0.9453, 0.9448, 0.9409, beginInText -> 166, endInText -> 181], [chunk -> Liz Olson, scores -> 0.9570, 0.9387, 0.9337, 0.9275, 0.9246, beginInText -> 201, endInText -> 209]]                                                                                 |\n",
      "|[Dimitri (Zurab, Orbeliani, Andronikashvili, Erekle, Grigol Orbeliani]|[http://en.wikipedia.org/wiki/Dimitrios_Sarrás, http://en.wikipedia.org/wiki/Dimitar_Manchev, http://en.wikipedia.org/wiki/Dimitris_Papamichael, http://en.wikipedia.org/wiki/Mariana_Dimitrova, http://en.wikipedia.org/wiki/Nick_Dimitri, http://en.wikipedia.org/wiki/Joaquín_de_Orbegoso, http://en.wikipedia.org/wiki/Andreas_Barkoulis, http://en.wikipedia.org/wiki/Josette_Andriot, http://en.wikipedia.org/wiki/André_Calmettes, http://en.wikipedia.org/wiki/Andrew_Pleavin, http://en.wikipedia.org/wiki/Andrée_Lafayette, http://en.wikipedia.org/wiki/Grigor_Vachkov, http://en.wikipedia.org/wiki/Grigor_Danielyan, http://en.wikipedia.org/wiki/Grigore_Grigoriu, http://en.wikipedia.org/wiki/Grigoriy_Dobrygin, http://en.wikipedia.org/wiki/Robyn_Griggs]|[[chunk -> Dimitri (Zurab, scores -> 0.9474, 0.9442, 0.9438, 0.9406, 0.9382, beginInText -> 11, endInText -> 24], [chunk -> Orbeliani, scores -> 0.7116, beginInText -> 53, endInText -> 61], [chunk -> Andronikashvili, scores -> 0.9559, 0.9545, 0.9538, 0.9527, 0.9521, beginInText -> 139, endInText -> 153], [chunk -> Grigol Orbeliani, scores -> 0.9499, 0.9481, 0.9367, 0.9337, 0.9299, beginInText -> 339, endInText -> 354]]|\n",
      "|[Allan Staffans]                                                      |[http://en.wikipedia.org/wiki/Allan_Wade, http://en.wikipedia.org/wiki/Allan_Katz, http://en.wikipedia.org/wiki/Allan_O'Keefe, http://en.wikipedia.org/wiki/William_Alland, http://en.wikipedia.org/wiki/Edgar_Allan_Guzman]                                                                                                                                                                                                                                                                                                                                                                                                                                                                                                                                               |[[chunk -> Allan Staffans, scores -> 0.9373, 0.9367, 0.9350, 0.9346, 0.9292, beginInText -> 105, endInText -> 118]]                                                                                                                                                                                                                                                                                                                   |\n",
      "|[Josephine Roberto (aka Banig, Christina Aguilera]                    |[http://en.wikipedia.org/wiki/Joseph_Gian, http://en.wikipedia.org/wiki/Tanya_Roberts, http://en.wikipedia.org/wiki/Joseph_Marco, http://en.wikipedia.org/wiki/Josephine_Earle, http://en.wikipedia.org/wiki/Robert_Maillet, http://en.wikipedia.org/wiki/Christie_Lee_Woods, http://en.wikipedia.org/wiki/Christina_Parie, http://en.wikipedia.org/wiki/Chris_Rene, http://en.wikipedia.org/wiki/Christopher_Stanley, http://en.wikipedia.org/wiki/Christian_Kane]                                                                                                                                                                                                                                                                                                        |[[chunk -> Josephine Roberto (aka Banig, scores -> 0.9783, 0.9746, 0.9723, 0.9708, 0.9697, beginInText -> 37, endInText -> 64], [chunk -> Christina Aguilera, scores -> 0.9755, 0.9747, 0.9726, 0.9711, 0.9711, beginInText -> 87, endInText -> 104]]                                                                                                                                                                                 |\n",
      "+----------------------------------------------------------------------+---------------------------------------------------------------------------------------------------------------------------------------------------------------------------------------------------------------------------------------------------------------------------------------------------------------------------------------------------------------------------------------------------------------------------------------------------------------------------------------------------------------------------------------------------------------------------------------------------------------------------------------------------------------------------------------------------------------------------------------------------------------------------+--------------------------------------------------------------------------------------------------------------------------------------------------------------------------------------------------------------------------------------------------------------------------------------------------------------------------------------------------------------------------------------------------------------------------------------+\n",
      "\n"
     ]
    }
   ],
   "source": [
    "model.transform(data).select('ner_converter.result', 'disambiguation.result', 'disambiguation.metadata').show(truncate=False)"
   ]
  },
  {
   "cell_type": "code",
   "execution_count": null,
   "metadata": {},
   "outputs": [],
   "source": []
  }
 ],
 "metadata": {
  "kernelspec": {
   "display_name": "Python 3",
   "language": "python",
   "name": "python3"
  },
  "language_info": {
   "codemirror_mode": {
    "name": "ipython",
    "version": 3
   },
   "file_extension": ".py",
   "mimetype": "text/x-python",
   "name": "python",
   "nbconvert_exporter": "python",
   "pygments_lexer": "ipython3",
   "version": "3.6.8"
  }
 },
 "nbformat": 4,
 "nbformat_minor": 2
}
