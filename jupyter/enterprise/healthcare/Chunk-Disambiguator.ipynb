{
 "cells": [
  {
   "cell_type": "code",
   "execution_count": 1,
   "metadata": {},
   "outputs": [],
   "source": [
    "from sparknlp.annotator import *\n",
    "from sparknlp_jsl.annotator import *\n",
    "from sparknlp.base import *"
   ]
  },
  {
   "cell_type": "code",
   "execution_count": 7,
   "metadata": {},
   "outputs": [],
   "source": [
    "import sparknlp_jsl\n",
    "\n",
    "spark = sparknlp_jsl.start(\"LBTfY2dAbA\") # Secret code provided as part of the license"
   ]
  },
  {
   "cell_type": "code",
   "execution_count": 8,
   "metadata": {},
   "outputs": [
    {
     "name": "stdout",
     "output_type": "stream",
     "text": [
      "pos_anc download started this may take some time.\n",
      "Approximate size to download 4.3 MB\n",
      "[OK!]\n",
      "glove_100d download started this may take some time.\n",
      "Approximate size to download 145.3 MB\n",
      "[OK!]\n",
      "ner_dl download started this may take some time.\n",
      "Approximate size to download 13.5 MB\n",
      "[OK!]\n",
      "people_disambiguator download started this may take some time.\n",
      "Approximate size to download 54.1 MB\n",
      "[OK!]\n"
     ]
    }
   ],
   "source": [
    "document = DocumentAssembler()\\\n",
    ".setInputCol(\"text\")\\\n",
    ".setOutputCol(\"document\")\n",
    "\n",
    "token = Tokenizer()\\\n",
    ".setInputCols(\"document\")\\\n",
    ".setOutputCol(\"token\")\n",
    "\n",
    "normalizer = Normalizer()\\\n",
    ".setInputCols(\"token\")\\\n",
    ".setOutputCol(\"normal\")\n",
    "\n",
    "pos = PerceptronModel.pretrained(\"pos_anc\", lang = \"en\")\\\n",
    ".setInputCols(\"document\", \"normal\")\\\n",
    ".setOutputCol(\"pos\")\n",
    "\n",
    "wordEmbeddings = WordEmbeddingsModel.pretrained()\\\n",
    ".setInputCols(\"document\", \"normal\")\\\n",
    ".setOutputCol(\"word_embeddings\")\n",
    "\n",
    "ner = NerDLModel.pretrained()\\\n",
    ".setInputCols(\"document\", \"normal\", \"word_embeddings\")\\\n",
    ".setOutputCol(\"ner\")\n",
    "\n",
    "nerConverter = NerConverter()\\\n",
    ".setInputCols(\"document\", \"normal\", \"ner\")\\\n",
    ".setOutputCol(\"ner_converter\")\\\n",
    ".setWhiteList([\"PER\"])\n",
    "\n",
    "disambiguator = DisambiguatorModel.pretrained('people_disambiguator', 'en', 'clinical/models')\\\n",
    ".setInputCols(\"ner_converter\", \"word_embeddings\")\\\n",
    ".setOutputCol(\"disambiguation\")\n",
    "\n",
    "pipeline = Pipeline().setStages([\n",
    "    document,\n",
    "    token,\n",
    "    normalizer,\n",
    "    wordEmbeddings,\n",
    "    pos,\n",
    "    ner,\n",
    "    nerConverter,\n",
    "    disambiguator\n",
    "])"
   ]
  },
  {
   "cell_type": "code",
   "execution_count": null,
   "metadata": {},
   "outputs": [],
   "source": [
    "data = spark.createDataFrame([\n",
    "    [1, \"The 2015 CPAC featured Jamila Bey who became the first atheist activist to address CPAC's annual meeting.\"],\n",
    "    [2, \"The city is the heart of the state's 7th legislative district, represented in the Minnesota Senate by  Erik Simonson\" +\n",
    "      \" and in the Minnesota House of Representatives by Jennifer Schultz (District 7A) and Liz Olson (District 7B), all \" +\n",
    "      \"members of the Democratic-Farmer-Labor Party, which has long dominated the city's politics.\"],\n",
    "    [3, \"His father Dimitri (Zurab), a prince of the House of Orbeliani, served at the court of the last Georgian kings,\" +\n",
    "      \" while mother Khoreshan née Andronikashvili was a granddaughter, on her mother, Princess Elene’s, side, of Erekle\" +\n",
    "      \" II, the penultimate and popular king of Georgia, whose cult would later be introduced into Georgian literature by Grigol Orbeliani himself.\"],\n",
    "    [4, \"The disarmament of Krepost Sveaborg, denying the Reds from using it, was used in White propaganda by how Allan \" +\n",
    "      \"Staffans had duped the Russians and removed the locks without authorization\"],\n",
    "    [5, \"The show also had a contestant named Josephine Roberto (aka Banig),\" +\n",
    "      \" who later defeated Christina Aguilera on the way to become Female Vocalist Champion in the 1989 edition of Star Search in the United States.\"]\n",
    "]).toDF('id', 'text')"
   ]
  },
  {
   "cell_type": "code",
   "execution_count": 42,
   "metadata": {},
   "outputs": [],
   "source": [
    "data = spark.createDataFrame([\n",
    "    [1, \"Bill Gates is the founder of Microsoft.\"]\n",
    "]).toDF('id', 'text')"
   ]
  },
  {
   "cell_type": "code",
   "execution_count": 43,
   "metadata": {},
   "outputs": [
    {
     "name": "stdout",
     "output_type": "stream",
     "text": [
      "+---+--------------------+\n",
      "| id|                text|\n",
      "+---+--------------------+\n",
      "|  1|Bill Gates is the...|\n",
      "+---+--------------------+\n",
      "\n"
     ]
    }
   ],
   "source": [
    "data.show()"
   ]
  },
  {
   "cell_type": "code",
   "execution_count": 44,
   "metadata": {},
   "outputs": [],
   "source": [
    "model = pipeline.fit(data)"
   ]
  },
  {
   "cell_type": "code",
   "execution_count": 45,
   "metadata": {},
   "outputs": [
    {
     "name": "stdout",
     "output_type": "stream",
     "text": [
      "+------------+---------------------------------------------------------------------------------------------------------------------------------------------------------------------------------------------------------------------------------+-----------------------------------------------------------------------------------------------------------+\n",
      "|result      |result                                                                                                                                                                                                                           |metadata                                                                                                   |\n",
      "+------------+---------------------------------------------------------------------------------------------------------------------------------------------------------------------------------------------------------------------------------+-----------------------------------------------------------------------------------------------------------+\n",
      "|[Bill Gates]|[http://en.wikipedia.org/wiki/Bill_H._Myers, http://en.wikipedia.org/wiki/Nancy_Gates, http://en.wikipedia.org/wiki/Bill_Damaschke, http://en.wikipedia.org/wiki/Billy_Corben, http://en.wikipedia.org/wiki/Bill_O'Brien_(actor)]|[[chunk -> Bill Gates, scores -> 0.9101, 0.9005, 0.9005, 0.8995, 0.8945, beginInText -> 0, endInText -> 9]]|\n",
      "+------------+---------------------------------------------------------------------------------------------------------------------------------------------------------------------------------------------------------------------------------+-----------------------------------------------------------------------------------------------------------+\n",
      "\n"
     ]
    }
   ],
   "source": [
    "model.transform(data).select('ner_converter.result', 'disambiguation.result', 'disambiguation.metadata').show(truncate=False)"
   ]
  },
  {
   "cell_type": "code",
   "execution_count": null,
   "metadata": {},
   "outputs": [],
   "source": []
  },
  {
   "cell_type": "code",
   "execution_count": null,
   "metadata": {},
   "outputs": [],
   "source": []
  }
 ],
 "metadata": {
  "kernelspec": {
   "display_name": "Python 3",
   "language": "python",
   "name": "python3"
  },
  "language_info": {
   "codemirror_mode": {
    "name": "ipython",
    "version": 3
   },
   "file_extension": ".py",
   "mimetype": "text/x-python",
   "name": "python",
   "nbconvert_exporter": "python",
   "pygments_lexer": "ipython3",
   "version": "3.6.8"
  }
 },
 "nbformat": 4,
 "nbformat_minor": 2
}
