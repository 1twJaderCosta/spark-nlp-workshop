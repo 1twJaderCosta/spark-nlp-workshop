{
 "cells": [
  {
   "cell_type": "code",
   "execution_count": 1,
   "metadata": {},
   "outputs": [],
   "source": [
    "#Please make sure you have SparkNLP 2.4.2 and SparkNLP Enterprise 2.4.2"
   ]
  },
  {
   "cell_type": "code",
   "execution_count": 2,
   "metadata": {},
   "outputs": [],
   "source": [
    "import sys, time"
   ]
  },
  {
   "cell_type": "code",
   "execution_count": 3,
   "metadata": {},
   "outputs": [],
   "source": [
    "from sparknlp.base import *\n",
    "from sparknlp.annotator import *\n",
    "from sparknlp_jsl.annotator import *\n",
    "from sparknlp.pretrained import ResourceDownloader\n",
    "import pyspark.sql.functions as F\n",
    "from pyspark.ml import Pipeline, PipelineModel\n",
    "from pyspark.ml.feature import HashingTF, IDF\n",
    "from pyspark.ml.feature import StringIndexerModel\n",
    "from pyspark.ml.classification import OneVsRestModel"
   ]
  },
  {
   "cell_type": "code",
   "execution_count": 4,
   "metadata": {},
   "outputs": [],
   "source": [
    "concepts = concepts = spark.read.format(\"csv\").option(\"header\",\"true\").load(\"../../../data/resolution/rxnorm_sample.csv\")\\\n",
    ".withColumn(\"STR\", F.expr(\"lower(STR)\"))"
   ]
  },
  {
   "cell_type": "code",
   "execution_count": 5,
   "metadata": {},
   "outputs": [],
   "source": [
    "tokenizer_chars = [\"'\",\",\",\"/\",\" \",\".\",\"|\",\"@\",\"#\",\"%\",\"&\",\"$\",\"[\",\"]\",\"(\",\")\",\"-\",\";\",\"=\"]"
   ]
  },
  {
   "cell_type": "code",
   "execution_count": 6,
   "metadata": {},
   "outputs": [],
   "source": [
    "docAssembler = DocumentAssembler().setInputCol(\"STR\").setOutputCol(\"document\")\n",
    "\n",
    "tokenizer = Tokenizer().setInputCols(\"document\").setOutputCol(\"token\")\\\n",
    "    .setSplitChars(tokenizer_chars)\n",
    "\n",
    "pipelineModel = Pipeline().setStages([docAssembler, tokenizer]).fit(concepts)"
   ]
  },
  {
   "cell_type": "code",
   "execution_count": 7,
   "metadata": {},
   "outputs": [
    {
     "name": "stdout",
     "output_type": "stream",
     "text": [
      "embeddings_clinical download started this may take some time.\n",
      "Approximate size to download 1.6 GB\n",
      "[OK!]\n"
     ]
    }
   ],
   "source": [
    "embeddingsModel = WordEmbeddingsModel.pretrained(\"embeddings_clinical\", \"en\", \"clinical/models\")\\\n",
    "    .setInputCols(\"document\", \"token\")\\\n",
    "    .setOutputCol(\"embeddings\")"
   ]
  },
  {
   "cell_type": "code",
   "execution_count": 8,
   "metadata": {},
   "outputs": [],
   "source": [
    "doc2Chunk = Doc2Chunk().setInputCols(\"document\").setOutputCol(\"chunk\")\n",
    "\n",
    "chunkEmbeddings = ChunkEmbeddings()\\\n",
    "    .setInputCols(\"chunk\", \"embeddings\")\\\n",
    "    .setOutputCol(\"chunk_embeddings\")\n",
    "\n",
    "pipelineChunkEmbeddings = PipelineModel([doc2Chunk, chunkEmbeddings])"
   ]
  },
  {
   "cell_type": "code",
   "execution_count": 9,
   "metadata": {},
   "outputs": [],
   "source": [
    "concepts_embedded = PipelineModel([pipelineModel, embeddingsModel, pipelineChunkEmbeddings]).transform(concepts)"
   ]
  },
  {
   "cell_type": "code",
   "execution_count": 10,
   "metadata": {},
   "outputs": [],
   "source": [
    "concepts_embedded.write.mode(\"overwrite\").save(\"data/rxnorm_concepts_embedded\")"
   ]
  },
  {
   "cell_type": "code",
   "execution_count": 11,
   "metadata": {},
   "outputs": [],
   "source": [
    "concepts_embedded = spark.read.load(\"data/rxnorm_concepts_embedded\")"
   ]
  },
  {
   "cell_type": "code",
   "execution_count": 12,
   "metadata": {},
   "outputs": [
    {
     "data": {
      "text/plain": [
       "0.9571541962682356"
      ]
     },
     "execution_count": 12,
     "metadata": {},
     "output_type": "execute_result"
    }
   ],
   "source": [
    "#Let's check embeddings coverage\n",
    "concepts_embedded.selectExpr(\"STY_TTY\",\"explode(embeddings) as embs\")\\\n",
    ".selectExpr(\"STY_TTY\",\"case when embs.metadata.isOOV=='false' then 1 else 0 end as coverage\")\\\n",
    ".groupby(\"STY_TTY\").agg(F.expr(\"avg(coverage) as cov\")).orderBy(\"cov\").toPandas()[\"cov\"].mean()"
   ]
  },
  {
   "cell_type": "code",
   "execution_count": 13,
   "metadata": {},
   "outputs": [],
   "source": [
    "#word_distribution = concepts_embedded.selectExpr(\"explode(token.result) as word\").groupby(\"word\").count()\n",
    "#word_distribution.orderBy(\"count\",ascending=False).show(100, False)"
   ]
  },
  {
   "cell_type": "code",
   "execution_count": 14,
   "metadata": {},
   "outputs": [],
   "source": [
    "#word_distribution.count()"
   ]
  },
  {
   "cell_type": "code",
   "execution_count": 15,
   "metadata": {},
   "outputs": [
    {
     "name": "stdout",
     "output_type": "stream",
     "text": [
      "resolve_rxnorm_clinical_l1 download started this may take some time.\n",
      "Approximate size to download 7.5 MB\n",
      "[OK!]\n",
      "resolve_rxnorm_clinical_l2 download started this may take some time.\n",
      "Approx size to download 276.1 MB\n",
      "[OK!]\n"
     ]
    },
    {
     "data": {
      "text/plain": [
       "ChunkEntityResolverSelector_82f461d80b1e"
      ]
     },
     "execution_count": 15,
     "metadata": {},
     "output_type": "execute_result"
    }
   ],
   "source": [
    "#RxNorm Resolution\n",
    "rxnorm_resolver_l1 = DocumentLogRegClassifierModel.pretrained(\"resolve_rxnorm_clinical_l1\", \"en\", \"clinical/models\")\\\n",
    "    .setInputCols(\"token\").setOutputCol(\"partition\")\n",
    "rxnorm_resolver_l2 = ResourceDownloader.downloadPipeline(\"resolve_rxnorm_clinical_l2\", \"en\", \"clinical/models\")\n",
    "rxnorm_resolver_l2.stages[-1].setInputCols(\"partition\",\"token\",\"chunk_embeddings\")"
   ]
  },
  {
   "cell_type": "code",
   "execution_count": 16,
   "metadata": {},
   "outputs": [],
   "source": [
    "fullPipeline = PipelineModel([rxnorm_resolver_l1, RecursivePipelineModel(rxnorm_resolver_l2)])"
   ]
  },
  {
   "cell_type": "code",
   "execution_count": 17,
   "metadata": {},
   "outputs": [],
   "source": [
    "start = time.time()\n",
    "transformed_full = fullPipeline.transform(concepts_embedded)"
   ]
  },
  {
   "cell_type": "code",
   "execution_count": 18,
   "metadata": {},
   "outputs": [],
   "source": [
    "predicted = transformed_full.withColumn(\"prediction\", F.expr(\"partition.result[0]\")).cache()\n",
    "metrics = predicted.withColumn(\"ok\",F.expr(\"case when prediction==STY_TTY then 1 else 0 end\"))\\\n",
    "                                   .groupby(\"STY_TTY\").agg(F.expr(\"avg(ok) as recall\"), F.expr(\"count(ok) as tr_cnt\"))\\\n",
    "                                    .join(\n",
    "predicted.withColumn(\"ok\",F.expr(\"case when prediction==STY_TTY then 1 else 0 end\"))\\\n",
    "                                   .groupby(\"prediction\").agg(F.expr(\"avg(ok) as precision\")),F.col(\"STY_TTY\")==F.col(\"prediction\")\n",
    ").withColumn(\"f1\", F.expr(\"2*precision*recall/(precision+recall)\")).orderBy(\"f1\")\\\n",
    ".selectExpr(\"STY_TTY\",\"tr_cnt\",\"round(precision,3) as train_precision\",\"round(recall,3) as train_recall\",\"round(f1, 3) as train_f1\")"
   ]
  },
  {
   "cell_type": "code",
   "execution_count": 19,
   "metadata": {},
   "outputs": [
    {
     "name": "stdout",
     "output_type": "stream",
     "text": [
      "+------------------------------------------------------+------+---------------+------------+--------+\n",
      "|STY_TTY                                               |tr_cnt|train_precision|train_recall|train_f1|\n",
      "+------------------------------------------------------+------+---------------+------------+--------+\n",
      "|Manufactured Object                                   |1     |0.0            |0.0         |null    |\n",
      "|Clinical Drug Semantic Clinical Drug                  |32    |0.0            |0.0         |null    |\n",
      "|Clinical Drug Semantic branded drug                   |23    |0.2            |0.043       |0.071   |\n",
      "|Clinical Drug Semantic clinical drug and form         |10    |0.237          |0.9         |0.375   |\n",
      "|Biomedical or Dental Material                         |5     |0.4            |0.4         |0.4     |\n",
      "|Immunologic Factor                                    |2     |0.5            |0.5         |0.5     |\n",
      "|Clinical Drug Semantic clinical drug group            |19    |0.875          |0.368       |0.519   |\n",
      "|Organic Chemical                                      |16    |0.529          |0.563       |0.545   |\n",
      "|Pharmacologic Substance                               |46    |0.513          |0.848       |0.639   |\n",
      "|Clinical Drug Clinical Drug                           |69    |0.727          |0.696       |0.711   |\n",
      "|Clinical Drug Semantic Drug Component                 |28    |0.641          |0.893       |0.746   |\n",
      "|Drug Delivery Device                                  |10    |0.692          |0.9         |0.783   |\n",
      "|Clinical Drug Clinical drug name in abbreviated format|28    |0.95           |0.679       |0.792   |\n",
      "|Clinical Drug Semantic branded drug group             |15    |0.813          |0.867       |0.839   |\n",
      "|Food                                                  |9     |0.75           |1.0         |0.857   |\n",
      "|Medical Device                                        |37    |0.814          |0.946       |0.875   |\n",
      "|Substance                                             |17    |0.889          |0.941       |0.914   |\n",
      "+------------------------------------------------------+------+---------------+------------+--------+\n",
      "\n"
     ]
    }
   ],
   "source": [
    "metrics.show(100, False)"
   ]
  },
  {
   "cell_type": "code",
   "execution_count": 20,
   "metadata": {},
   "outputs": [],
   "source": [
    "with_alternatives = predicted\\\n",
    "    .withColumn(\"resolution\",F.expr(\"split(rxnorm_code.metadata[0]['all_k_results'],':|:')\"))"
   ]
  },
  {
   "cell_type": "code",
   "execution_count": 21,
   "metadata": {},
   "outputs": [],
   "source": [
    "evaled = with_alternatives\\\n",
    "    .withColumn(\"good\", F.expr(\"case when RXCUI=rxnorm_code.result[0] then 1 else 0 end\"))\\\n",
    "    .withColumn(\"hat5\", F.expr(\"case when array_contains(slice(resolution, 1, 5), RXCUI) then 1 else 0 end\"))\\\n",
    "    .withColumn(\"hat10\", F.expr(\"case when array_contains(slice(resolution, 1, 10), RXCUI) then 1 else 0 end\"))\\\n",
    "    .withColumn(\"hat20\", F.expr(\"case when array_contains(slice(resolution, 1, 20), RXCUI) then 1 else 0 end\"))\\\n",
    "    .withColumn(\"hat30\", F.expr(\"case when array_contains(slice(resolution, 1, 30), RXCUI) then 1 else 0 end\"))\\\n",
    "    .withColumn(\"hat500\", F.expr(\"case when array_contains(slice(resolution, 1, 500), RXCUI) then 1 else 0 end\"))"
   ]
  },
  {
   "cell_type": "code",
   "execution_count": 22,
   "metadata": {},
   "outputs": [
    {
     "name": "stdout",
     "output_type": "stream",
     "text": [
      "+------------------------------------------------------+----+----+-----+-----+-----+------+-----+\n",
      "|STY_TTY                                               |good|hat5|hat10|hat20|hat30|hat500|total|\n",
      "+------------------------------------------------------+----+----+-----+-----+-----+------+-----+\n",
      "|Clinical Drug Clinical Drug                           |0.61|0.7 |0.7  |0.7  |0.7  |0.7   |69   |\n",
      "|Pharmacologic Substance                               |0.78|0.78|0.78 |0.78 |0.78 |0.78  |46   |\n",
      "|Medical Device                                        |0.73|0.86|0.95 |0.95 |0.95 |0.95  |37   |\n",
      "|Clinical Drug Semantic Clinical Drug                  |0.06|0.06|0.06 |0.06 |0.06 |0.06  |32   |\n",
      "|Clinical Drug Clinical drug name in abbreviated format|0.68|0.75|0.75 |0.75 |0.75 |0.75  |28   |\n",
      "|Clinical Drug Semantic Drug Component                 |0.71|0.89|0.89 |0.89 |0.89 |0.89  |28   |\n",
      "|Clinical Drug Semantic branded drug                   |0.0 |0.04|0.04 |0.04 |0.04 |0.04  |23   |\n",
      "|Clinical Drug Semantic clinical drug group            |0.32|0.37|0.37 |0.37 |0.37 |0.37  |19   |\n",
      "|Substance                                             |0.94|0.94|0.94 |0.94 |0.94 |0.94  |17   |\n",
      "|Organic Chemical                                      |0.56|0.56|0.56 |0.56 |0.56 |0.56  |16   |\n",
      "|Clinical Drug Semantic branded drug group             |0.4 |0.4 |0.4  |0.4  |0.4  |0.4   |15   |\n",
      "|Clinical Drug Semantic Branded Drug Component         |0.0 |0.0 |0.0  |0.0  |0.0  |0.0   |14   |\n",
      "|Drug Delivery Device                                  |0.6 |0.6 |0.6  |0.6  |0.6  |0.6   |10   |\n",
      "|Clinical Drug Semantic clinical drug and form         |0.8 |0.8 |0.9  |0.9  |0.9  |0.9   |10   |\n",
      "|Food                                                  |0.89|1.0 |1.0  |1.0  |1.0  |1.0   |9    |\n",
      "|Biomedical or Dental Material                         |0.2 |0.2 |0.2  |0.2  |0.2  |0.2   |5    |\n",
      "|Immunologic Factor                                    |0.5 |0.5 |0.5  |0.5  |0.5  |0.5   |2    |\n",
      "|Manufactured Object                                   |0.0 |0.0 |0.0  |0.0  |0.0  |0.0   |1    |\n",
      "+------------------------------------------------------+----+----+-----+-----+-----+------+-----+\n",
      "\n"
     ]
    }
   ],
   "source": [
    "evaled.groupby(\"STY_TTY\").agg(\n",
    "    F.mean(\"good\"), \n",
    "    F.mean(\"hat5\"), \n",
    "    F.mean(\"hat10\"), \n",
    "    F.mean(\"hat20\"), \n",
    "    F.mean(\"hat30\"), \n",
    "    F.mean(\"hat500\"), \n",
    "    F.count(\"good\")).orderBy(\"count(good)\", ascending=False)\\\n",
    ".selectExpr(\"STY_TTY\",\n",
    "            \"round(`avg(good)`, 2) as good\",\n",
    "            \"round(`avg(hat5)`, 2) as hat5\",\n",
    "            \"round(`avg(hat10)`, 2) as hat10\",\n",
    "            \"round(`avg(hat20)`, 2) as hat20\",\n",
    "            \"round(`avg(hat30)`, 2) as hat30\",\n",
    "            \"round(`avg(hat500)`, 2) as hat500\",\n",
    "            \"`count(good)` as total\")\\\n",
    ".show(100,False)"
   ]
  },
  {
   "cell_type": "code",
   "execution_count": 24,
   "metadata": {},
   "outputs": [
    {
     "name": "stdout",
     "output_type": "stream",
     "text": [
      "0.26 minutes\n"
     ]
    }
   ],
   "source": [
    "print(round((time.time()-start)/60, 2), \"minutes\")"
   ]
  },
  {
   "cell_type": "code",
   "execution_count": null,
   "metadata": {},
   "outputs": [],
   "source": []
  }
 ],
 "metadata": {
  "kernelspec": {
   "display_name": "jsl368",
   "language": "python",
   "name": "jsl368"
  },
  "language_info": {
   "codemirror_mode": {
    "name": "ipython",
    "version": 3
   },
   "file_extension": ".py",
   "mimetype": "text/x-python",
   "name": "python",
   "nbconvert_exporter": "python",
   "pygments_lexer": "ipython3",
   "version": "3.6.8"
  }
 },
 "nbformat": 4,
 "nbformat_minor": 2
}
