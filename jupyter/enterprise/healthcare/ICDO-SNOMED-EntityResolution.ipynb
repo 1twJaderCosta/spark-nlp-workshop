{
 "cells": [
  {
   "cell_type": "markdown",
   "metadata": {},
   "source": [
    "# ICD-O - SNOMED Entity Resolution - version 2.4.2\n",
    "\n",
    "## Example for ICD-O Entity Resolution Pipeline\n",
    "A common NLP problem in medical applications is to identify histology behaviour in documented cancer studies.\n",
    "\n",
    "In this example we will use Spark-NLP to identify and resolve histology behavior expressions and resolve them to an ICD-O code.\n",
    "\n",
    "Some cancer related clinical notes (taken from https://www.cancernetwork.com/case-studies):  \n",
    "https://www.cancernetwork.com/case-studies/large-scrotal-mass-multifocal-intra-abdominal-retroperitoneal-and-pelvic-metastases  \n",
    "https://oncology.medicinematters.com/lymphoma/chronic-lymphocytic-leukemia/case-study-small-b-cell-lymphocytic-lymphoma-and-chronic-lymphoc/12133054\n",
    "https://oncology.medicinematters.com/lymphoma/epidemiology/central-nervous-system-lymphoma/12124056\n",
    "https://oncology.medicinematters.com/lymphoma/case-study-cutaneous-t-cell-lymphoma/12129416\n",
    "\n",
    "Note 1: Desmoplastic small round cell tumor\n",
    "<div style=\"border:2px solid #747474; background-color: #e3e3e3; margin: 5px; padding: 10px\"> \n",
    "A 35-year-old African-American man was referred to our urology clinic by his primary care physician for consultation about a large left scrotal mass. The patient reported a 3-month history of left scrotal swelling that had progressively increased in size and was associated with mild left scrotal pain. He also had complaints of mild constipation, with hard stools every other day. He denied any urinary complaints. On physical examination, a hard paratesticular mass could be palpated in the left hemiscrotum extending into the left groin, separate from the left testicle, and measuring approximately 10 × 7 cm in size. A hard, lower abdominal mass in the suprapubic region could also be palpated in the midline. The patient was admitted urgently to the hospital for further evaluation with cross-sectional imaging and blood work.\n",
    "\n",
    "Laboratory results, including results of a complete blood cell count with differential, liver function tests, coagulation panel, and basic chemistry panel, were unremarkable except for a serum creatinine level of 2.6 mg/dL. Typical markers for a testicular germ cell tumor were within normal limits: the beta–human chorionic gonadotropin level was less than 1 mIU/mL and the alpha fetoprotein level was less than 2.8 ng/mL. A CT scan of the chest, abdomen, and pelvis with intravenous contrast was obtained, and it showed large multifocal intra-abdominal, retroperitoneal, and pelvic masses (Figure 1). On cross-sectional imaging, a 7.8-cm para-aortic mass was visualized compressing the proximal portion of the left ureter, creating moderate left hydroureteronephrosis. Additionally, three separate pelvic masses were present in the retrovesical space, each measuring approximately 5 to 10 cm at their largest diameter; these displaced the bladder anteriorly and the rectum posteriorly.\n",
    "\n",
    "The patient underwent ultrasound-guided needle biopsy of one of the pelvic masses on hospital day 3 for definitive diagnosis. Microscopic examination of the tissue by our pathologist revealed cellular islands with oval to elongated, irregular, and hyperchromatic nuclei; scant cytoplasm; and invading fibrous tissue—as well as three mitoses per high-powered field (Figure 2). Immunohistochemical staining demonstrated strong positivity for cytokeratin AE1/AE3, vimentin, and desmin. Further mutational analysis of the cells detected the presence of an EWS-WT1 fusion transcript consistent with a diagnosis of desmoplastic small round cell tumor.\n",
    "</div>\n",
    "\n",
    "Note 2: SLL and CLL\n",
    "<div style=\"border:2px solid #747474; background-color: #e3e3e3; margin: 5px; padding: 10px\"> \n",
    "A 72-year-old man with a history of diabetes mellitus, hypertension, and hypercholesterolemia self-palpated a left submandibular lump in 2012. Complete blood count (CBC) in his internist’s office showed solitary leukocytosis (white count 22) with predominant lymphocytes for which he was referred to a hematologist. Peripheral blood flow cytometry on 04/11/12 confirmed chronic lymphocytic leukemia (CLL)/small lymphocytic lymphoma (SLL): abnormal cell population comprising 63% of CD45 positive leukocytes, co-expressing CD5 and CD23 in CD19-positive B cells. CD38 was negative but other prognostic markers were not assessed at that time. The patient was observed regularly for the next 3 years and his white count trend was as follows: 22.8 (4/2012) --> 28.5 (07/2012) --> 32.2 (12/2012) --> 36.5 (02/2013) --> 42 (09/2013) --> 44.9 (01/2014) --> 75.8 (2/2015). His other counts stayed normal until early 2015 when he also developed anemia (hemoglobin [HGB] 10.9) although platelets remained normal at 215. He had been noticing enlargement of his cervical, submandibular, supraclavicular, and axillary lymphadenopathy for several months since 2014 and a positron emission tomography (PET)/computed tomography (CT) scan done in 12/2014 had shown extensive diffuse lymphadenopathy within the neck, chest, abdomen, and pelvis. Maximum standardized uptake value (SUV max) was similar to low baseline activity within the vasculature of the neck and chest. In the abdomen and pelvis, however, there was mild to moderately hypermetabolic adenopathy measuring up to SUV of 4. The largest right neck nodes measured up to 2.3 x 3 cm and left neck nodes measured up to 2.3 x 1.5 cm. His right axillary lymphadenopathy measured up to 5.5 x 2.6 cm and on the left measured up to 4.8 x 3.4 cm. Lymph nodes on the right abdomen and pelvis measured up to 6.7 cm and seemed to have some mass effect with compression on the urinary bladder without symptoms. He underwent a bone marrow biopsy on 02/03/15, which revealed hypercellular marrow (60%) with involvement by CLL (30%); flow cytometry showed CD38 and ZAP-70 positivity; fluorescence in situ hybridization (FISH) analysis showed 13q deletion/monosomy 13; IgVH was unmutated; karyotype was 46XY.\n",
    "</div>\n",
    "\n",
    "Note 3: CNS lymphoma\n",
    "<div style=\"border:2px solid #747474; background-color: #e3e3e3; margin: 5px; padding: 10px\"> \n",
    "A 56-year-old woman began to experience vertigo, headaches, and frequent falls. A computed tomography (CT) scan of the brain revealed the presence of a 1.6 x 1.6 x 2.1 cm mass involving the fourth ventricle (Figure 14.1). A gadolinium-enhanced magnetic resonance imaging (MRI) scan confirmed the presence of the mass, and a stereotactic biopsy was performed that demonstrated a primary central nervous system lymphoma (PCNSL) with a diffuse large B-cell histology. Complete blood count (CBC), lactate dehydrogenase (LDH), and beta-2-microglobulin were normal. Systemic staging with a positron emission tomography (PET)/CT scan and bone marrow biopsy showed no evidence of lymphomatous involvement outside the CNS. An eye exam and lumbar puncture showed no evidence of either ocular or leptomeningeal involvement.\n",
    "</div>\n",
    "\n",
    "Note 4: Cutaneous T-cell lymphoma\n",
    "<div style=\"border:2px solid #747474; background-color: #e3e3e3; margin: 5px; padding: 10px\"> \n",
    "An 83-year-old female presented with a progressing pruritic cutaneous rash that started 8 years ago. On clinical exam there were numerous coalescing, infiltrated, scaly, and partially crusted erythematous plaques distributed over her trunk and extremities and a large fungating ulcerated nodule on her right thigh covering 75% of her total body surface area (Figure 10.1). Lymphoma associated alopecia and a left axillary lymphadenopathy were also noted. For the past 3–4 months she reported fatigue, severe pruritus, night sweats, 20 pounds of weight loss, and loss of appetite. \n",
    "</div>"
   ]
  },
  {
   "cell_type": "code",
   "execution_count": 1,
   "metadata": {},
   "outputs": [],
   "source": [
    "import sys, os, time"
   ]
  },
  {
   "cell_type": "code",
   "execution_count": 2,
   "metadata": {},
   "outputs": [],
   "source": [
    "sys.path.append(\"/home/fernandrez/JSL/repos/spark-nlp/python\")\n",
    "sys.path.append(\"/home/fernandrez/JSL/repos/spark-nlp-internal/python\")"
   ]
  },
  {
   "cell_type": "code",
   "execution_count": 3,
   "metadata": {},
   "outputs": [],
   "source": [
    "from sparknlp.base import *\n",
    "from sparknlp.annotator import *\n",
    "from sparknlp_jsl.annotator import *\n",
    "\n",
    "from sparknlp.pretrained import ResourceDownloader\n",
    "\n",
    "import pyspark.sql.functions as F\n",
    "from pyspark.sql.types import StructType, StructField, StringType"
   ]
  },
  {
   "cell_type": "markdown",
   "metadata": {},
   "source": [
    "Let's create a dataset with all four case studies"
   ]
  },
  {
   "cell_type": "code",
   "execution_count": 4,
   "metadata": {},
   "outputs": [],
   "source": [
    "notes = []\n",
    "notes.append(\"\"\"A 35-year-old African-American man was referred to our urology clinic by his primary care physician for consultation about a large left scrotal mass. The patient reported a 3-month history of left scrotal swelling that had progressively increased in size and was associated with mild left scrotal pain. He also had complaints of mild constipation, with hard stools every other day. He denied any urinary complaints. On physical examination, a hard paratesticular mass could be palpated in the left hemiscrotum extending into the left groin, separate from the left testicle, and measuring approximately 10 × 7 cm in size. A hard, lower abdominal mass in the suprapubic region could also be palpated in the midline. The patient was admitted urgently to the hospital for further evaluation with cross-sectional imaging and blood work.\n",
    "Laboratory results, including results of a complete blood cell count with differential, liver function tests, coagulation panel, and basic chemistry panel, were unremarkable except for a serum creatinine level of 2.6 mg/dL. Typical markers for a testicular germ cell tumor were within normal limits: the beta–human chorionic gonadotropin level was less than 1 mIU/mL and the alpha fetoprotein level was less than 2.8 ng/mL. A CT scan of the chest, abdomen, and pelvis with intravenous contrast was obtained, and it showed large multifocal intra-abdominal, retroperitoneal, and pelvic masses (Figure 1). On cross-sectional imaging, a 7.8-cm para-aortic mass was visualized compressing the proximal portion of the left ureter, creating moderate left hydroureteronephrosis. Additionally, three separate pelvic masses were present in the retrovesical space, each measuring approximately 5 to 10 cm at their largest diameter; these displaced the bladder anteriorly and the rectum posteriorly.\n",
    "The patient underwent ultrasound-guided needle biopsy of one of the pelvic masses on hospital day 3 for definitive diagnosis. Microscopic examination of the tissue by our pathologist revealed cellular islands with oval to elongated, irregular, and hyperchromatic nuclei; scant cytoplasm; and invading fibrous tissue—as well as three mitoses per high-powered field (Figure 2). Immunohistochemical staining demonstrated strong positivity for cytokeratin AE1/AE3, vimentin, and desmin. Further mutational analysis of the cells detected the presence of an EWS-WT1 fusion transcript consistent with a diagnosis of desmoplastic small round cell tumor.\"\"\")\n",
    "notes.append(\"\"\"A 72-year-old man with a history of diabetes mellitus, hypertension, and hypercholesterolemia self-palpated a left submandibular lump in 2012. Complete blood count (CBC) in his internist’s office showed solitary leukocytosis (white count 22) with predominant lymphocytes for which he was referred to a hematologist. Peripheral blood flow cytometry on 04/11/12 confirmed chronic lymphocytic leukemia (CLL)/small lymphocytic lymphoma (SLL): abnormal cell population comprising 63% of CD45 positive leukocytes, co-expressing CD5 and CD23 in CD19-positive B cells. CD38 was negative but other prognostic markers were not assessed at that time. The patient was observed regularly for the next 3 years and his white count trend was as follows: 22.8 (4/2012) --> 28.5 (07/2012) --> 32.2 (12/2012) --> 36.5 (02/2013) --> 42 (09/2013) --> 44.9 (01/2014) --> 75.8 (2/2015). His other counts stayed normal until early 2015 when he also developed anemia (hemoglobin [HGB] 10.9) although platelets remained normal at 215. He had been noticing enlargement of his cervical, submandibular, supraclavicular, and axillary lymphadenopathy for several months since 2014 and a positron emission tomography (PET)/computed tomography (CT) scan done in 12/2014 had shown extensive diffuse lymphadenopathy within the neck, chest, abdomen, and pelvis. Maximum standardized uptake value (SUV max) was similar to low baseline activity within the vasculature of the neck and chest. In the abdomen and pelvis, however, there was mild to moderately hypermetabolic adenopathy measuring up to SUV of 4. The largest right neck nodes measured up to 2.3 x 3 cm and left neck nodes measured up to 2.3 x 1.5 cm. His right axillary lymphadenopathy measured up to 5.5 x 2.6 cm and on the left measured up to 4.8 x 3.4 cm. Lymph nodes on the right abdomen and pelvis measured up to 6.7 cm and seemed to have some mass effect with compression on the urinary bladder without symptoms. He underwent a bone marrow biopsy on 02/03/15, which revealed hypercellular marrow (60%) with involvement by CLL (30%); flow cytometry showed CD38 and ZAP-70 positivity; fluorescence in situ hybridization (FISH) analysis showed 13q deletion/monosomy 13; IgVH was unmutated; karyotype was 46XY.\"\"\")\n",
    "notes.append(\"A 56-year-old woman began to experience vertigo, headaches, and frequent falls. A computed tomography (CT) scan of the brain revealed the presence of a 1.6 x 1.6 x 2.1 cm mass involving the fourth ventricle (Figure 14.1). A gadolinium-enhanced magnetic resonance imaging (MRI) scan confirmed the presence of the mass, and a stereotactic biopsy was performed that demonstrated a primary central nervous system lymphoma (PCNSL) with a diffuse large B-cell histology. Complete blood count (CBC), lactate dehydrogenase (LDH), and beta-2-microglobulin were normal. Systemic staging with a positron emission tomography (PET)/CT scan and bone marrow biopsy showed no evidence of lymphomatous involvement outside the CNS. An eye exam and lumbar puncture showed no evidence of either ocular or leptomeningeal involvement.\") \n",
    "notes.append(\"An 83-year-old female presented with a progressing pruritic cutaneous rash that started 8 years ago. On clinical exam there were numerous coalescing, infiltrated, scaly, and partially crusted erythematous plaques distributed over her trunk and extremities and a large fungating ulcerated nodule on her right thigh covering 75% of her total body surface area (Figure 10.1). Lymphoma associated alopecia and a left axillary lymphadenopathy were also noted. For the past 3–4 months she reported fatigue, severe pruritus, night sweats, 20 pounds of weight loss, and loss of appetite.\")\n",
    "\n",
    "data = spark.createDataFrame([(n,) for n in notes], StructType([StructField(\"description\", StringType())]))"
   ]
  },
  {
   "cell_type": "markdown",
   "metadata": {},
   "source": [
    "And let's build a SparkNLP pipeline with the following stages:\n",
    "- DocumentAssembler: Entry annotator for our pipelines; it creates the data structure for the Annotation Framework\n",
    "- SentenceDetector: Annotator to pragmatically separate complete sentences inside each document\n",
    "- Tokenizer: Annotator to separate sentences in tokens (generally words)\n",
    "- WordEmbeddings: Vectorization of word tokens, in this case using word embeddings trained from PubMed, ICD10 and other clinical resources.\n",
    "- EntityResolver: Annotator that performs search for the KNNs, in this case trained from ICDO Histology Behavior."
   ]
  },
  {
   "cell_type": "markdown",
   "metadata": {},
   "source": [
    "In order to find cancer related chunks, we are going to use a pretrained Search Trie wrapped up in our TextMatcher Annotator; and to identify treatments/procedures we are going to use our good old NER.\n",
    "\n",
    "- TextMatcher: Trained with a Cancer Glossary and an augmented dataset from JSL Data Market this annotator makes sure to return just found phrases in a search Trie. In this case ICDO phrases.\n",
    "\n",
    "\n",
    "- NerDLModel: TensorFlow based Named Entity Recognizer, trained to extract PROBLEMS, TREATMENTS and TESTS\n",
    "- NerConverter: Chunk builder out of tokens tagged by the Ner Model"
   ]
  },
  {
   "cell_type": "code",
   "execution_count": 5,
   "metadata": {},
   "outputs": [
    {
     "name": "stdout",
     "output_type": "stream",
     "text": [
      "embeddings_clinical download started this may take some time.\n",
      "Approximate size to download 1.6 GB\n",
      "[OK!]\n"
     ]
    }
   ],
   "source": [
    "docAssembler = DocumentAssembler().setInputCol(\"description\").setOutputCol(\"document\")\n",
    "\n",
    "sentenceDetector = SentenceDetector().setInputCols(\"document\").setOutputCol(\"sentence\")\n",
    "\n",
    "tokenizer = Tokenizer().setInputCols(\"sentence\").setOutputCol(\"token\")\n",
    "\n",
    "#Working on adjusting WordEmbeddingsModel to work with the subset of matched tokens\n",
    "word_embeddings = WordEmbeddingsModel.pretrained(\"embeddings_clinical\", \"en\", \"clinical/models\")\\\n",
    "    .setInputCols(\"sentence\", \"token\")\\\n",
    "    .setOutputCol(\"word_embeddings\")"
   ]
  },
  {
   "cell_type": "markdown",
   "metadata": {},
   "source": [
    "TextMatcher Strategy"
   ]
  },
  {
   "cell_type": "code",
   "execution_count": 6,
   "metadata": {},
   "outputs": [
    {
     "name": "stdout",
     "output_type": "stream",
     "text": [
      "textmatch_icdo download started this may take some time.\n",
      "Approximate size to download 13.6 MB\n",
      "[OK!]\n",
      "chunkresolve_icdo_clinical download started this may take some time.\n",
      "Approximate size to download 8.2 MB\n",
      "[OK!]\n"
     ]
    }
   ],
   "source": [
    "icdo_chunk = TextMatcherModel.pretrained(\"textmatch_icdo\", \"en\", \"clinical/models\")\\\n",
    "    .setInputCols(\"sentence\", \"token\")\\\n",
    "    .setOutputCol(\"icdo_chunk\")\n",
    "\n",
    "icdo_chunk_embeddings = ChunkEmbeddings()\\\n",
    "    .setInputCols(\"icdo_chunk\", \"word_embeddings\")\\\n",
    "    .setOutputCol(\"icdo_chunk_embeddings\")\n",
    "\n",
    "icdo_chunk_tokenizer = ChunkTokenizer()\\\n",
    "    .setInputCols(\"icdo_chunk\")\\\n",
    "    .setOutputCol(\"icdo_token\")\n",
    "\n",
    "icdo_chunk_resolver = ChunkEntityResolverModel.pretrained(\"chunkresolve_icdo_clinical\", \"en\", \"clinical/models\")\\\n",
    "    .setInputCols(\"token\",\"icdo_chunk_embeddings\")\\\n",
    "    .setOutputCol(\"tm_icdo_code\")"
   ]
  },
  {
   "cell_type": "markdown",
   "metadata": {},
   "source": [
    "Ner Model Strategy"
   ]
  },
  {
   "cell_type": "code",
   "execution_count": 7,
   "metadata": {},
   "outputs": [
    {
     "name": "stdout",
     "output_type": "stream",
     "text": [
      "ner_clinical download started this may take some time.\n",
      "Approximate size to download 13.8 MB\n",
      "[OK!]\n"
     ]
    }
   ],
   "source": [
    "clinical_ner = NerDLModel.pretrained(\"ner_clinical\", \"en\", \"clinical/models\") \\\n",
    "  .setInputCols([\"sentence\", \"token\", \"word_embeddings\"]) \\\n",
    "  .setOutputCol(\"ner\")\n",
    "\n",
    "ner_converter = NerConverter() \\\n",
    "  .setInputCols([\"sentence\", \"token\", \"ner\"]) \\\n",
    "  .setOutputCol(\"ner_chunk\")\n",
    "\n",
    "ner_chunk_tokenizer = ChunkTokenizer()\\\n",
    "    .setInputCols(\"ner_chunk\")\\\n",
    "    .setOutputCol(\"ner_token\")\n",
    "\n",
    "ner_chunk_embeddings = ChunkEmbeddings()\\\n",
    "    .setInputCols(\"ner_chunk\", \"word_embeddings\")\\\n",
    "    .setOutputCol(\"chunk_embeddings\")"
   ]
  },
  {
   "cell_type": "code",
   "execution_count": 8,
   "metadata": {},
   "outputs": [
    {
     "name": "stdout",
     "output_type": "stream",
     "text": [
      "resolve_snomed_clinical_l1 download started this may take some time.\n",
      "Approximate size to download 15.3 MB\n",
      "[OK!]\n",
      "resolve_snomed_clinical_l2 download started this may take some time.\n",
      "Approx size to download 583.4 MB\n",
      "[OK!]\n"
     ]
    },
    {
     "data": {
      "text/plain": [
       "ChunkEntityResolverSelector_d41a7a88595b"
      ]
     },
     "execution_count": 8,
     "metadata": {},
     "output_type": "execute_result"
    }
   ],
   "source": [
    "#SNOMED Resolution\n",
    "ner_snomed_resolver_l1 = DocumentLogRegClassifierModel.pretrained(\"resolve_snomed_clinical_l1\", \"en\", \"clinical/models\")\\\n",
    "    .setInputCols(\"ner_token\").setOutputCol(\"partition\")\n",
    "ner_snomed_resolver_l2 = ResourceDownloader.downloadPipeline(\"resolve_snomed_clinical_l2\", \"en\", \"clinical/models\")\n",
    "ner_snomed_resolver_l2.stages[-1].setInputCols(\"partition\",\"ner_token\",\"chunk_embeddings\")"
   ]
  },
  {
   "cell_type": "code",
   "execution_count": 9,
   "metadata": {},
   "outputs": [],
   "source": [
    "snomed_resolution = PipelineModel([ner_snomed_resolver_l1, RecursivePipelineModel(ner_snomed_resolver_l2)])"
   ]
  },
  {
   "cell_type": "code",
   "execution_count": 10,
   "metadata": {},
   "outputs": [],
   "source": [
    "pipelineFull = Pipeline().setStages([\n",
    "    docAssembler, \n",
    "    sentenceDetector, \n",
    "    tokenizer, \n",
    "    word_embeddings, \n",
    "    \n",
    "    clinical_ner, \n",
    "    ner_converter, \n",
    "    ner_chunk_embeddings,\n",
    "    ner_chunk_tokenizer,\n",
    "    snomed_resolution,\n",
    "    \n",
    "    icdo_chunk,\n",
    "    icdo_chunk_embeddings, \n",
    "    icdo_chunk_resolver,\n",
    "    icdo_chunk_tokenizer,\n",
    "    icdo_chunk_resolver\n",
    "])"
   ]
  },
  {
   "cell_type": "markdown",
   "metadata": {},
   "source": [
    "Let's train our Pipeline and make it ready to start transforming"
   ]
  },
  {
   "cell_type": "code",
   "execution_count": 11,
   "metadata": {},
   "outputs": [],
   "source": [
    "pipelineModelFull = pipelineFull.fit(data)"
   ]
  },
  {
   "cell_type": "code",
   "execution_count": 12,
   "metadata": {},
   "outputs": [],
   "source": [
    "output = pipelineModelFull.transform(data)"
   ]
  },
  {
   "cell_type": "markdown",
   "metadata": {},
   "source": [
    "### EntityResolver:  \n",
    "Trained on an augmented ICDO Dataset from JSL Data Market it provides histology codes resolution for the matched expressions. Other than providing the code in the \"result\" field it provides more metadata about the matching process:  \n",
    "\n",
    "- target_text -> Text to resolve\n",
    "- resolved_text -> Best match text\n",
    "- confidence -> Relative confidence for the top match (distance to probability)\n",
    "- confidence_ratio -> Relative confidence for the top match. TopMatchConfidence / SecondMatchConfidence\n",
    "- alternative_codes -> List of other plausible codes (in the KNN neighborhood)\n",
    "- alternative_confidence_ratios -> Rest of confidence ratios\n",
    "- all_k_results -> All resolved codes for metrics calculation purposes\n",
    "- sentence -> SentenceId\n",
    "- chunk -> ChunkId"
   ]
  },
  {
   "cell_type": "code",
   "execution_count": 13,
   "metadata": {},
   "outputs": [
    {
     "name": "stdout",
     "output_type": "stream",
     "text": [
      "+-------------+-----------------------------------+-------------------------+------+----------+\n",
      "|note         |chunk                              |resolved_text            |code  |confidence|\n",
      "+-------------+-----------------------------------+-------------------------+------+----------+\n",
      "|936302870528 |lymphocytic lymphoma               |Chronic lymphocytic leuke|9823/3|2.2       |\n",
      "|936302870528 |chronic lymphocytic leukemia       |Precursor T-cell lymphobl|9729/3|1.0       |\n",
      "|936302870528 |bone marrow                        |Myelosclerosis with myelo|9961/3|1.0       |\n",
      "|1245540515840|diffuse large                      |ML, large B-cell, diffuse|9680/3|1.04      |\n",
      "|1245540515840|bone marrow                        |Myelosclerosis with myelo|9961/3|1.0       |\n",
      "|1245540515840|central nervous system             |Medulloepithelioma, NOS  |9501/3|1.0       |\n",
      "|1305670057984|germ cell tumor                    |Mixed germ cell tumor    |9085/3|1.1       |\n",
      "|1305670057984|desmoplastic small round cell tumor|Desmoplastic small round |8806/3|1.0       |\n",
      "+-------------+-----------------------------------+-------------------------+------+----------+\n",
      "\n"
     ]
    }
   ],
   "source": [
    "output.withColumn(\"note\",F.monotonically_increasing_id()).select(F.col(\"note\"),F.explode(F.arrays_zip(\"icdo_chunk.result\",\"tm_icdo_code.result\",\"tm_icdo_code.metadata\")).alias(\"icdo_result\")) \\\n",
    ".select(\"note\",\n",
    "        F.expr(\"icdo_result['0']\").alias(\"chunk\"),\n",
    "        F.expr(\"substring(icdo_result['2'].resolved_text,0,25)\").alias(\"resolved_text\"),\n",
    "        F.expr(\"icdo_result['1']\").alias(\"code\"),\n",
    "        #F.expr(\"icdo_result['2'].alternative_codes\").alias(\"alternative_codes\"),\n",
    "        F.expr(\"round(icdo_result['2'].confidence_ratio,2)\").alias(\"confidence\")) \\\n",
    ".distinct() \\\n",
    ".orderBy([\"note\",\"confidence\"], ascending=[True,False]) \\\n",
    ".show(100, False)"
   ]
  },
  {
   "cell_type": "code",
   "execution_count": 14,
   "metadata": {},
   "outputs": [
    {
     "name": "stdout",
     "output_type": "stream",
     "text": [
      "+--------------------+-------+-----------------------------------------------------------------------------------------+---------------------------------------------------------------------------------------------------------------------------------------------+\n",
      "|chunk               |entity |target_text                                                                              |resolved_text                                                                                                                                |\n",
      "+--------------------+-------+-----------------------------------------------------------------------------------------+---------------------------------------------------------------------------------------------------------------------------------------------+\n",
      "|pelvic masses       |PROBLEM|pelvic masses                                                                            |pelvic cavity                                                                                                                                |\n",
      "|hypercholesterolemia|PROBLEM|hypercholesterolemia                                                                     |hypercholesterolemia                                                                                                                         |\n",
      "|anemia              |PROBLEM|anemia                                                                                   |anemia                                                                                                                                       |\n",
      "|IgVH                |TEST   |IgVH                                                                                     |gene rearrangement analysis                                                                                                                  |\n",
      "|Complete blood count|TEST   |Complete blood count                                                                     |complete blood count                                                                                                                         |\n",
      "|a large left scrotal|PROBLEM|a large left scrotal mass                                                                |mass of skin of left thumb                                                                                                                   |\n",
      "|scaly               |PROBLEM|scaly                                                                                    |gritty                                                                                                                                       |\n",
      "|His other counts    |TEST   |His other counts                                                                         |other roofer                                                                                                                                 |\n",
      "|fluorescence in situ|TEST   |fluorescence in situ hybridization                                                       |fluorescence in situ hybridization                                                                                                           |\n",
      "|blood work          |TEST   |blood work                                                                               |uncongenial work                                                                                                                             |\n",
      "|karyotype           |TEST   |karyotype                                                                                |karyotype                                                                                                                                    |\n",
      "|chronic lymphocytic |PROBLEM|chronic lymphocytic leukemia                                                             |smoldering chronic lymphocytic leukemia                                                                                                      |\n",
      "|LDH                 |TEST   |LDH                                                                                      |lactate dehydrogenase deficiency                                                                                                             |\n",
      "|lymphomatous involve|PROBLEM|lymphomatous involvement outside the CNS                                                 |excision of neoplasm of central nervous system                                                                                               |\n",
      "|the mass            |PROBLEM|the mass                                                                                 |mass of face                                                                                                                                 |\n",
      "|CD23                |TEST   |CD23                                                                                     |platelet antigen system hpa - 3                                                                                                              |\n",
      "|His right axillary l|PROBLEM|His right axillary lymphadenopathy                                                       |right axillary neuropathy                                                                                                                    |\n",
      "|coagulation panel   |TEST   |coagulation panel                                                                        |blood coagulation panel                                                                                                                      |\n",
      "|white count         |TEST   |white count                                                                              |metamyelocyte count                                                                                                                          |\n",
      "|An eye exam         |TEST   |An eye exam                                                                              |eye poking ( finding )                                                                                                                       |\n",
      "|urinary complaints  |PROBLEM|urinary complaints                                                                       |urinary hesitation                                                                                                                           |\n",
      "|mild constipation   |PROBLEM|mild constipation                                                                        |intractable constipation                                                                                                                     |\n",
      "|basic chemistry pane|TEST   |basic chemistry panel                                                                    |diagnostic panel or profile                                                                                                                  |\n",
      "|severe pruritus     |PROBLEM|severe pruritus                                                                          |pruritus scroti                                                                                                                              |\n",
      "|a 7.8-cm para-aortic|PROBLEM|a 7.8-cm para-aortic mass                                                                |lymph nodes of body as a whole                                                                                                               |\n",
      "|mild left scrotal pa|PROBLEM|mild left scrotal pain                                                                   |mild pain                                                                                                                                    |\n",
      "|desmin              |TEST   |desmin                                                                                   |cytokeratin filaments                                                                                                                        |\n",
      "|either ocular or lep|PROBLEM|either ocular or leptomeningeal involvement                                              |structure of choroid and / or retinal of left eye                                                                                            |\n",
      "|invading fibrous tis|PROBLEM|invading fibrous tissue—as                                                               |localised fibrous tumour                                                                                                                     |\n",
      "|Lymphoma            |PROBLEM|Lymphoma                                                                                 |suspected lymphoma                                                                                                                           |\n",
      "|SLL                 |TEST   |SLL                                                                                      |t - cell leukaemia - lymphoma gene 3                                                                                                         |\n",
      "|liver function tests|TEST   |liver function tests                                                                     |liver function                                                                                                                               |\n",
      "|hypertension        |PROBLEM|hypertension                                                                             |hypertension                                                                                                                                 |\n",
      "|vertigo             |PROBLEM|vertigo                                                                                  |tenebric vertigo                                                                                                                             |\n",
      "|diabetes mellitus   |PROBLEM|diabetes mellitus                                                                        |diabetes mellitus                                                                                                                            |\n",
      "|flow cytometry      |TEST   |flow cytometry                                                                           |blood flow                                                                                                                                   |\n",
      "|Immunohistochemical |TEST   |Immunohistochemical staining                                                             |staining of skin                                                                                                                             |\n",
      "|beta-2-microglobulin|TEST   |beta-2-microglobulin                                                                     |serum beta 2 microglobulin level                                                                                                             |\n",
      "|bone marrow biopsy  |TEST   |bone marrow biopsy                                                                       |bone marrow biopsy                                                                                                                           |\n",
      "|A computed tomograph|TEST   |A computed tomography                                                                    |computed tomography scan normal                                                                                                              |\n",
      "|cellular islands wit|PROBLEM|cellular islands with oval to elongated                                                  |projection of areola and papilla to form distinct secondary mound                                                                            |\n",
      "|platelets           |TEST   |platelets                                                                                |platelet haematocrit                                                                                                                         |\n",
      "|other prognostic mar|TEST   |other prognostic markers                                                                 |other tanner and fellmonger                                                                                                                  |\n",
      "|these displaced the |PROBLEM|these displaced the bladder anteriorly and the rectum posteriorly                        |pseudodiverticulum of the rectum                                                                                                             |\n",
      "|strong positivity   |PROBLEM|strong positivity                                                                        |ortolani test positive                                                                                                                       |\n",
      "|hemoglobin [HGB]    |TEST   |hemoglobin [HGB]                                                                         |hemoglobin pigmentation                                                                                                                      |\n",
      "|a 1.6 x 1.6 x 2.1 cm|PROBLEM|a 1.6 x 1.6 x 2.1 cm mass involving the fourth ventricle                                 |abdominal aorta diameter less than 3 . 0 centimeters ( finding )                                                                             |\n",
      "|three separate pelvi|PROBLEM|three separate pelvic masses                                                             |intra - abdominal and pelvic swelling , mass and lump                                                                                        |\n",
      "|a left submandibular|PROBLEM|a left submandibular lump                                                                |lump in left breast                                                                                                                          |\n",
      "|leukocytes          |TEST   |leukocytes                                                                               |aggregated leukocytes                                                                                                                        |\n",
      "|compression on the u|PROBLEM|compression on the urinary bladder                                                       |neoplasm of apex of urinary bladder                                                                                                          |\n",
      "|PCNSL)              |PROBLEM|PCNSL)                                                                                   |high grade ( lymphoma grade ) ( finding )                                                                                                    |\n",
      "|SUV max             |TEST   |SUV max                                                                                  |max                                                                                                                                          |\n",
      "|a stereotactic biops|TEST   |a stereotactic biopsy                                                                    |stereotactic biopsy of brain                                                                                                                 |\n",
      "|lumbar puncture     |TEST   |lumbar puncture                                                                          |lumbar puncture                                                                                                                              |\n",
      "|a bone marrow biopsy|TEST   |a bone marrow biopsy                                                                     |bone marrow biopsy                                                                                                                           |\n",
      "|loss of appetite    |PROBLEM|loss of appetite                                                                         |loss of appetite                                                                                                                             |\n",
      "|extensive diffuse ly|PROBLEM|extensive diffuse lymphadenopathy within the neck, chest, abdomen, and pelvis            |internal injury of chest , abdomen and pelvis                                                                                                |\n",
      "|a serum creatinine l|TEST   |a serum creatinine level                                                                 |corrected serum creatinine level                                                                                                             |\n",
      "|A gadolinium-enhance|TEST   |A gadolinium-enhanced magnetic resonance imaging                                         |mpmri - multiparametric magnetic resonance imaging                                                                                           |\n",
      "|an EWS-WT1 fusion tr|TEST   |an EWS-WT1 fusion transcript                                                             |fusion of testes                                                                                                                             |\n",
      "|a diffuse large B-ce|PROBLEM|a diffuse large B-cell histology                                                         |primary malignant neoplasm of large intestine                                                                                                |\n",
      "|a progressing prurit|PROBLEM|a progressing pruritic cutaneous rash                                                    |pruritic rash ( disorder )                                                                                                                   |\n",
      "|abnormal cell popula|PROBLEM|abnormal cell population                                                                 |abnormal cell size                                                                                                                           |\n",
      "|symptoms            |PROBLEM|symptoms                                                                                 |neuropsychiatric symptoms                                                                                                                    |\n",
      "|Further mutational a|TEST   |Further mutational analysis of the cells                                                 |measurement of ratio of cell type to abnormal blood cells                                                                                    |\n",
      "|CT) scan of the brai|TEST   |CT) scan of the brain                                                                    |ultrasound brain scan ( procedure )                                                                                                          |\n",
      "|solitary leukocytosi|PROBLEM|solitary leukocytosis                                                                    |solitary aggregation                                                                                                                         |\n",
      "|moderate left hydrou|PROBLEM|moderate left hydroureteronephrosis                                                      |left pseudopapilloedema                                                                                                                      |\n",
      "|desmoplastic small r|PROBLEM|desmoplastic small round cell tumor                                                      |desmoplastic small round cell tumor                                                                                                          |\n",
      "|progressively increa|PROBLEM|progressively increased in size                                                          |increased size                                                                                                                               |\n",
      "|CLL                 |TEST   |CLL                                                                                      |bone marrow myeloid cells                                                                                                                    |\n",
      "|Figure              |TEST   |Figure                                                                                   |on examination - visual agnosia present ( situation )                                                                                        |\n",
      "|a complete blood cel|TEST   |a complete blood cell count                                                              |blood cell count , manual                                                                                                                    |\n",
      "|CLL)/small lymphocyt|PROBLEM|CLL)/small lymphocytic lymphoma                                                          |lymphocytic lymphoma                                                                                                                         |\n",
      "|lactate dehydrogenas|TEST   |lactate dehydrogenase                                                                    |lactate dehydrogenase isoenzyme                                                                                                              |\n",
      "|Microscopic examinat|TEST   |Microscopic examination of the tissue                                                    |microscopic examination of specimen from periureteral tissue                                                                                 |\n",
      "|CT) scan            |TEST   |CT) scan                                                                                 |midliner ultrasound scan ( procedure )                                                                                                       |\n",
      "|hyperchromatic nucle|PROBLEM|hyperchromatic nuclei                                                                    |habenular nuclei                                                                                                                             |\n",
      "|MRI) scan           |TEST   |MRI) scan                                                                                |midliner ultrasound scan ( procedure )                                                                                                       |\n",
      "|clinical exam       |TEST   |clinical exam                                                                            |clinical stage 4                                                                                                                             |\n",
      "|A hard, lower abdomi|PROBLEM|A hard, lower abdominal mass in the suprapubic region                                    |left lower quadrant abdominal swelling , mass , or lump ( finding )                                                                          |\n",
      "|a positron emission |TEST   |a positron emission tomography                                                           |positron emission tomography                                                                                                                 |\n",
      "|alopecia            |PROBLEM|alopecia                                                                                 |alopecia localis                                                                                                                             |\n",
      "|predominant lymphocy|PROBLEM|predominant lymphocytes                                                                  |tumour infiltrating lymphocytes absent                                                                                                       |\n",
      "|ZAP-70 positivity   |TEST   |ZAP-70 positivity                                                                        |severe combined immunodeficiency due to lck ( lymphocyte - specific protein - tyrosine kinase ) deficiency                                   |\n",
      "|frequent falls      |PROBLEM|frequent falls                                                                           |unusually frequent menses                                                                                                                    |\n",
      "|his white count     |TEST   |his white count                                                                          |total white blood count                                                                                                                      |\n",
      "|further evaluation  |TEST   |further evaluation                                                                       |preanaesthesia evaluation                                                                                                                    |\n",
      "|hypercellular marrow|PROBLEM|hypercellular marrow                                                                     |bone marrow donor                                                                                                                            |\n",
      "|left scrotal swellin|PROBLEM|left scrotal swelling                                                                    |swelling of left foot                                                                                                                        |\n",
      "|ultrasound-guided ne|TEST   |ultrasound-guided needle biopsy                                                          |percutaneous needle biopsy                                                                                                                   |\n",
      "|Systemic staging    |TEST   |Systemic staging                                                                         |staging laparoscopy ( procedure )                                                                                                            |\n",
      "|physical examination|TEST   |physical examination                                                                     |physical examination                                                                                                                         |\n",
      "|large multifocal int|PROBLEM|large multifocal intra-abdominal                                                         |malignant lymphoma , mixed small and large cell , diffuse                                                                                    |\n",
      "|vimentin            |TEST   |vimentin                                                                                 |keratin antibody level                                                                                                                       |\n",
      "|Peripheral blood flo|TEST   |Peripheral blood flow cytometry                                                          |peripheral blood flow                                                                                                                        |\n",
      "|mild to moderately h|PROBLEM|mild to moderately hypermetabolic adenopathy                                             |pancreatic intraepithelial neoplasia - 2 : flat or papillary mucinous epithelium with mild to moderate dysplasia ( morphologic abnormality ) |\n",
      "|enlargement of his c|PROBLEM|enlargement of his cervical, submandibular, supraclavicular, and axillary lymphadenopathy|on examination - axillary lymphadenopathy                                                                                                    |\n",
      "|Lymph nodes on the r|PROBLEM|Lymph nodes on the right abdomen and pelvis                                              |pn 3 : metastasis in perirectal and inguinal lymph nodes and / or bilateral internal iliac and / or inguinal lymph nodes ( anal canal )      |\n",
      "+--------------------+-------+-----------------------------------------------------------------------------------------+---------------------------------------------------------------------------------------------------------------------------------------------+\n",
      "only showing top 100 rows\n",
      "\n"
     ]
    }
   ],
   "source": [
    "#.where(\"entity in ('TREATMENT','TEST')\")\\\n",
    "output.select(F.explode(F.arrays_zip(\"ner_chunk.result\",\"ner_chunk.metadata\",\"snomed_code.result\",\"snomed_code.metadata\")).alias(\"icdo_result\")) \\\n",
    ".select(F.expr(\"substring(icdo_result['0'],0,20)\").alias(\"chunk\"),\n",
    "        F.expr(\"icdo_result['1'].entity\").alias(\"entity\"),\n",
    "        F.expr(\"icdo_result['3'].target_text\").alias(\"target_text\"),\n",
    "        F.expr(\"icdo_result['3'].resolved_text\").alias(\"resolved_text\"),\n",
    "        #F.expr(\"icdo_result['2']\").alias(\"code\"),\n",
    "        #F.expr(\"icdo_result['2'].alternative_codes\").alias(\"alternative_codes\"),\n",
    "        #F.expr(\"round(icdo_result['3'].confidence_ratio,2)\").alias(\"confidence\")\n",
    "       ) \\\n",
    ".distinct() \\\n",
    ".show(100, False)"
   ]
  },
  {
   "cell_type": "code",
   "execution_count": null,
   "metadata": {},
   "outputs": [],
   "source": [
    "list(zip(firstAnnotation[\"matched_icdo\"], firstAnnotation[\"icdo_code\"]))"
   ]
  },
  {
   "cell_type": "code",
   "execution_count": null,
   "metadata": {},
   "outputs": [],
   "source": []
  }
 ],
 "metadata": {
  "kernelspec": {
   "display_name": "jsl368",
   "language": "python",
   "name": "jsl368"
  },
  "language_info": {
   "codemirror_mode": {
    "name": "ipython",
    "version": 3
   },
   "file_extension": ".py",
   "mimetype": "text/x-python",
   "name": "python",
   "nbconvert_exporter": "python",
   "pygments_lexer": "ipython3",
   "version": "3.6.8"
  }
 },
 "nbformat": 4,
 "nbformat_minor": 2
}
