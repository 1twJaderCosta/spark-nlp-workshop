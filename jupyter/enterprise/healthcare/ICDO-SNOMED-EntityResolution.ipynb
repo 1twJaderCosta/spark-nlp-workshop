{
 "cells": [
  {
   "cell_type": "markdown",
   "metadata": {},
   "source": [
    "# ICD-O - SNOMED Entity Resolution - version 2.4.2\n",
    "\n",
    "## Example for ICD-O Entity Resolution Pipeline\n",
    "A common NLP problem in medical applications is to identify histology behaviour in documented cancer studies.\n",
    "\n",
    "In this example we will use Spark-NLP to identify and resolve histology behavior expressions and resolve them to an ICD-O code.\n",
    "\n",
    "Some cancer related clinical notes (taken from https://www.cancernetwork.com/case-studies):  \n",
    "https://www.cancernetwork.com/case-studies/large-scrotal-mass-multifocal-intra-abdominal-retroperitoneal-and-pelvic-metastases  \n",
    "https://oncology.medicinematters.com/lymphoma/chronic-lymphocytic-leukemia/case-study-small-b-cell-lymphocytic-lymphoma-and-chronic-lymphoc/12133054\n",
    "https://oncology.medicinematters.com/lymphoma/epidemiology/central-nervous-system-lymphoma/12124056\n",
    "https://oncology.medicinematters.com/lymphoma/case-study-cutaneous-t-cell-lymphoma/12129416\n",
    "\n",
    "Note 1: Desmoplastic small round cell tumor\n",
    "<div style=\"border:2px solid #747474; background-color: #e3e3e3; margin: 5px; padding: 10px\"> \n",
    "A 35-year-old African-American man was referred to our urology clinic by his primary care physician for consultation about a large left scrotal mass. The patient reported a 3-month history of left scrotal swelling that had progressively increased in size and was associated with mild left scrotal pain. He also had complaints of mild constipation, with hard stools every other day. He denied any urinary complaints. On physical examination, a hard paratesticular mass could be palpated in the left hemiscrotum extending into the left groin, separate from the left testicle, and measuring approximately 10 × 7 cm in size. A hard, lower abdominal mass in the suprapubic region could also be palpated in the midline. The patient was admitted urgently to the hospital for further evaluation with cross-sectional imaging and blood work.\n",
    "\n",
    "Laboratory results, including results of a complete blood cell count with differential, liver function tests, coagulation panel, and basic chemistry panel, were unremarkable except for a serum creatinine level of 2.6 mg/dL. Typical markers for a testicular germ cell tumor were within normal limits: the beta–human chorionic gonadotropin level was less than 1 mIU/mL and the alpha fetoprotein level was less than 2.8 ng/mL. A CT scan of the chest, abdomen, and pelvis with intravenous contrast was obtained, and it showed large multifocal intra-abdominal, retroperitoneal, and pelvic masses (Figure 1). On cross-sectional imaging, a 7.8-cm para-aortic mass was visualized compressing the proximal portion of the left ureter, creating moderate left hydroureteronephrosis. Additionally, three separate pelvic masses were present in the retrovesical space, each measuring approximately 5 to 10 cm at their largest diameter; these displaced the bladder anteriorly and the rectum posteriorly.\n",
    "\n",
    "The patient underwent ultrasound-guided needle biopsy of one of the pelvic masses on hospital day 3 for definitive diagnosis. Microscopic examination of the tissue by our pathologist revealed cellular islands with oval to elongated, irregular, and hyperchromatic nuclei; scant cytoplasm; and invading fibrous tissue—as well as three mitoses per high-powered field (Figure 2). Immunohistochemical staining demonstrated strong positivity for cytokeratin AE1/AE3, vimentin, and desmin. Further mutational analysis of the cells detected the presence of an EWS-WT1 fusion transcript consistent with a diagnosis of desmoplastic small round cell tumor.\n",
    "</div>\n",
    "\n",
    "Note 2: SLL and CLL\n",
    "<div style=\"border:2px solid #747474; background-color: #e3e3e3; margin: 5px; padding: 10px\"> \n",
    "A 72-year-old man with a history of diabetes mellitus, hypertension, and hypercholesterolemia self-palpated a left submandibular lump in 2012. Complete blood count (CBC) in his internist’s office showed solitary leukocytosis (white count 22) with predominant lymphocytes for which he was referred to a hematologist. Peripheral blood flow cytometry on 04/11/12 confirmed chronic lymphocytic leukemia (CLL)/small lymphocytic lymphoma (SLL): abnormal cell population comprising 63% of CD45 positive leukocytes, co-expressing CD5 and CD23 in CD19-positive B cells. CD38 was negative but other prognostic markers were not assessed at that time. The patient was observed regularly for the next 3 years and his white count trend was as follows: 22.8 (4/2012) --> 28.5 (07/2012) --> 32.2 (12/2012) --> 36.5 (02/2013) --> 42 (09/2013) --> 44.9 (01/2014) --> 75.8 (2/2015). His other counts stayed normal until early 2015 when he also developed anemia (hemoglobin [HGB] 10.9) although platelets remained normal at 215. He had been noticing enlargement of his cervical, submandibular, supraclavicular, and axillary lymphadenopathy for several months since 2014 and a positron emission tomography (PET)/computed tomography (CT) scan done in 12/2014 had shown extensive diffuse lymphadenopathy within the neck, chest, abdomen, and pelvis. Maximum standardized uptake value (SUV max) was similar to low baseline activity within the vasculature of the neck and chest. In the abdomen and pelvis, however, there was mild to moderately hypermetabolic adenopathy measuring up to SUV of 4. The largest right neck nodes measured up to 2.3 x 3 cm and left neck nodes measured up to 2.3 x 1.5 cm. His right axillary lymphadenopathy measured up to 5.5 x 2.6 cm and on the left measured up to 4.8 x 3.4 cm. Lymph nodes on the right abdomen and pelvis measured up to 6.7 cm and seemed to have some mass effect with compression on the urinary bladder without symptoms. He underwent a bone marrow biopsy on 02/03/15, which revealed hypercellular marrow (60%) with involvement by CLL (30%); flow cytometry showed CD38 and ZAP-70 positivity; fluorescence in situ hybridization (FISH) analysis showed 13q deletion/monosomy 13; IgVH was unmutated; karyotype was 46XY.\n",
    "</div>\n",
    "\n",
    "Note 3: CNS lymphoma\n",
    "<div style=\"border:2px solid #747474; background-color: #e3e3e3; margin: 5px; padding: 10px\"> \n",
    "A 56-year-old woman began to experience vertigo, headaches, and frequent falls. A computed tomography (CT) scan of the brain revealed the presence of a 1.6 x 1.6 x 2.1 cm mass involving the fourth ventricle (Figure 14.1). A gadolinium-enhanced magnetic resonance imaging (MRI) scan confirmed the presence of the mass, and a stereotactic biopsy was performed that demonstrated a primary central nervous system lymphoma (PCNSL) with a diffuse large B-cell histology. Complete blood count (CBC), lactate dehydrogenase (LDH), and beta-2-microglobulin were normal. Systemic staging with a positron emission tomography (PET)/CT scan and bone marrow biopsy showed no evidence of lymphomatous involvement outside the CNS. An eye exam and lumbar puncture showed no evidence of either ocular or leptomeningeal involvement.\n",
    "</div>\n",
    "\n",
    "Note 4: Cutaneous T-cell lymphoma\n",
    "<div style=\"border:2px solid #747474; background-color: #e3e3e3; margin: 5px; padding: 10px\"> \n",
    "An 83-year-old female presented with a progressing pruritic cutaneous rash that started 8 years ago. On clinical exam there were numerous coalescing, infiltrated, scaly, and partially crusted erythematous plaques distributed over her trunk and extremities and a large fungating ulcerated nodule on her right thigh covering 75% of her total body surface area (Figure 10.1). Lymphoma associated alopecia and a left axillary lymphadenopathy were also noted. For the past 3–4 months she reported fatigue, severe pruritus, night sweats, 20 pounds of weight loss, and loss of appetite. \n",
    "</div>"
   ]
  },
  {
   "cell_type": "code",
   "execution_count": 1,
   "metadata": {},
   "outputs": [],
   "source": [
    "import sys, os, time\n",
    "import sparknlp_jsl\n",
    "from sparknlp.base import *\n",
    "from sparknlp.annotator import *\n",
    "from sparknlp_jsl.annotator import *\n",
    "\n",
    "from sparknlp.pretrained import ResourceDownloader\n",
    "\n",
    "import pyspark.sql.functions as F\n",
    "from pyspark.sql.types import StructType, StructField, StringType"
   ]
  },
  {
   "cell_type": "code",
   "execution_count": 2,
   "metadata": {},
   "outputs": [],
   "source": [
    "spark = sparknlp_jsl.start(\"####\")"
   ]
  },
  {
   "cell_type": "markdown",
   "metadata": {},
   "source": [
    "Let's create a dataset with all four case studies"
   ]
  },
  {
   "cell_type": "code",
   "execution_count": 3,
   "metadata": {},
   "outputs": [],
   "source": [
    "notes = []\n",
    "notes.append(\"\"\"A 35-year-old African-American man was referred to our urology clinic by his primary care physician for consultation about a large left scrotal mass. The patient reported a 3-month history of left scrotal swelling that had progressively increased in size and was associated with mild left scrotal pain. He also had complaints of mild constipation, with hard stools every other day. He denied any urinary complaints. On physical examination, a hard paratesticular mass could be palpated in the left hemiscrotum extending into the left groin, separate from the left testicle, and measuring approximately 10 × 7 cm in size. A hard, lower abdominal mass in the suprapubic region could also be palpated in the midline. The patient was admitted urgently to the hospital for further evaluation with cross-sectional imaging and blood work.\n",
    "Laboratory results, including results of a complete blood cell count with differential, liver function tests, coagulation panel, and basic chemistry panel, were unremarkable except for a serum creatinine level of 2.6 mg/dL. Typical markers for a testicular germ cell tumor were within normal limits: the beta–human chorionic gonadotropin level was less than 1 mIU/mL and the alpha fetoprotein level was less than 2.8 ng/mL. A CT scan of the chest, abdomen, and pelvis with intravenous contrast was obtained, and it showed large multifocal intra-abdominal, retroperitoneal, and pelvic masses (Figure 1). On cross-sectional imaging, a 7.8-cm para-aortic mass was visualized compressing the proximal portion of the left ureter, creating moderate left hydroureteronephrosis. Additionally, three separate pelvic masses were present in the retrovesical space, each measuring approximately 5 to 10 cm at their largest diameter; these displaced the bladder anteriorly and the rectum posteriorly.\n",
    "The patient underwent ultrasound-guided needle biopsy of one of the pelvic masses on hospital day 3 for definitive diagnosis. Microscopic examination of the tissue by our pathologist revealed cellular islands with oval to elongated, irregular, and hyperchromatic nuclei; scant cytoplasm; and invading fibrous tissue—as well as three mitoses per high-powered field (Figure 2). Immunohistochemical staining demonstrated strong positivity for cytokeratin AE1/AE3, vimentin, and desmin. Further mutational analysis of the cells detected the presence of an EWS-WT1 fusion transcript consistent with a diagnosis of desmoplastic small round cell tumor.\"\"\")\n",
    "notes.append(\"\"\"A 72-year-old man with a history of diabetes mellitus, hypertension, and hypercholesterolemia self-palpated a left submandibular lump in 2012. Complete blood count (CBC) in his internist’s office showed solitary leukocytosis (white count 22) with predominant lymphocytes for which he was referred to a hematologist. Peripheral blood flow cytometry on 04/11/12 confirmed chronic lymphocytic leukemia (CLL)/small lymphocytic lymphoma (SLL): abnormal cell population comprising 63% of CD45 positive leukocytes, co-expressing CD5 and CD23 in CD19-positive B cells. CD38 was negative but other prognostic markers were not assessed at that time. The patient was observed regularly for the next 3 years and his white count trend was as follows: 22.8 (4/2012) --> 28.5 (07/2012) --> 32.2 (12/2012) --> 36.5 (02/2013) --> 42 (09/2013) --> 44.9 (01/2014) --> 75.8 (2/2015). His other counts stayed normal until early 2015 when he also developed anemia (hemoglobin [HGB] 10.9) although platelets remained normal at 215. He had been noticing enlargement of his cervical, submandibular, supraclavicular, and axillary lymphadenopathy for several months since 2014 and a positron emission tomography (PET)/computed tomography (CT) scan done in 12/2014 had shown extensive diffuse lymphadenopathy within the neck, chest, abdomen, and pelvis. Maximum standardized uptake value (SUV max) was similar to low baseline activity within the vasculature of the neck and chest. In the abdomen and pelvis, however, there was mild to moderately hypermetabolic adenopathy measuring up to SUV of 4. The largest right neck nodes measured up to 2.3 x 3 cm and left neck nodes measured up to 2.3 x 1.5 cm. His right axillary lymphadenopathy measured up to 5.5 x 2.6 cm and on the left measured up to 4.8 x 3.4 cm. Lymph nodes on the right abdomen and pelvis measured up to 6.7 cm and seemed to have some mass effect with compression on the urinary bladder without symptoms. He underwent a bone marrow biopsy on 02/03/15, which revealed hypercellular marrow (60%) with involvement by CLL (30%); flow cytometry showed CD38 and ZAP-70 positivity; fluorescence in situ hybridization (FISH) analysis showed 13q deletion/monosomy 13; IgVH was unmutated; karyotype was 46XY.\"\"\")\n",
    "notes.append(\"A 56-year-old woman began to experience vertigo, headaches, and frequent falls. A computed tomography (CT) scan of the brain revealed the presence of a 1.6 x 1.6 x 2.1 cm mass involving the fourth ventricle (Figure 14.1). A gadolinium-enhanced magnetic resonance imaging (MRI) scan confirmed the presence of the mass, and a stereotactic biopsy was performed that demonstrated a primary central nervous system lymphoma (PCNSL) with a diffuse large B-cell histology. Complete blood count (CBC), lactate dehydrogenase (LDH), and beta-2-microglobulin were normal. Systemic staging with a positron emission tomography (PET)/CT scan and bone marrow biopsy showed no evidence of lymphomatous involvement outside the CNS. An eye exam and lumbar puncture showed no evidence of either ocular or leptomeningeal involvement.\") \n",
    "notes.append(\"An 83-year-old female presented with a progressing pruritic cutaneous rash that started 8 years ago. On clinical exam there were numerous coalescing, infiltrated, scaly, and partially crusted erythematous plaques distributed over her trunk and extremities and a large fungating ulcerated nodule on her right thigh covering 75% of her total body surface area (Figure 10.1). Lymphoma associated alopecia and a left axillary lymphadenopathy were also noted. For the past 3–4 months she reported fatigue, severe pruritus, night sweats, 20 pounds of weight loss, and loss of appetite.\")\n",
    "\n",
    "data = spark.createDataFrame([(n,) for n in notes], StructType([StructField(\"description\", StringType())]))"
   ]
  },
  {
   "cell_type": "markdown",
   "metadata": {},
   "source": [
    "And let's build a SparkNLP pipeline with the following stages:\n",
    "- DocumentAssembler: Entry annotator for our pipelines; it creates the data structure for the Annotation Framework\n",
    "- SentenceDetector: Annotator to pragmatically separate complete sentences inside each document\n",
    "- Tokenizer: Annotator to separate sentences in tokens (generally words)\n",
    "- WordEmbeddings: Vectorization of word tokens, in this case using word embeddings trained from PubMed, ICD10 and other clinical resources.\n",
    "- EntityResolver: Annotator that performs search for the KNNs, in this case trained from ICDO Histology Behavior."
   ]
  },
  {
   "cell_type": "markdown",
   "metadata": {},
   "source": [
    "In order to find cancer related chunks, we are going to use a pretrained Search Trie wrapped up in our TextMatcher Annotator; and to identify treatments/procedures we are going to use our good old NER.\n",
    "\n",
    "- TextMatcher: Trained with a Cancer Glossary and an augmented dataset from JSL Data Market this annotator makes sure to return just found phrases in a search Trie. In this case ICDO phrases.\n",
    "\n",
    "\n",
    "- NerDLModel: TensorFlow based Named Entity Recognizer, trained to extract PROBLEMS, TREATMENTS and TESTS\n",
    "- NerConverter: Chunk builder out of tokens tagged by the Ner Model"
   ]
  },
  {
   "cell_type": "code",
   "execution_count": 4,
   "metadata": {},
   "outputs": [
    {
     "name": "stdout",
     "output_type": "stream",
     "text": [
      "embeddings_clinical download started this may take some time.\n",
      "Approximate size to download 1.6 GB\n",
      "[OK!]\n"
     ]
    }
   ],
   "source": [
    "docAssembler = DocumentAssembler().setInputCol(\"description\").setOutputCol(\"document\")\n",
    "\n",
    "sentenceDetector = SentenceDetector().setInputCols(\"document\").setOutputCol(\"sentence\")\n",
    "\n",
    "tokenizer = Tokenizer().setInputCols(\"sentence\").setOutputCol(\"token\")\n",
    "\n",
    "#Working on adjusting WordEmbeddingsModel to work with the subset of matched tokens\n",
    "word_embeddings = WordEmbeddingsModel.pretrained(\"embeddings_clinical\", \"en\", \"clinical/models\")\\\n",
    "    .setInputCols(\"sentence\", \"token\")\\\n",
    "    .setOutputCol(\"word_embeddings\")"
   ]
  },
  {
   "cell_type": "markdown",
   "metadata": {},
   "source": [
    "TextMatcher Strategy"
   ]
  },
  {
   "cell_type": "code",
   "execution_count": 5,
   "metadata": {},
   "outputs": [
    {
     "name": "stdout",
     "output_type": "stream",
     "text": [
      "textmatch_icdo download started this may take some time.\n",
      "Approximate size to download 13.6 MB\n",
      "[OK!]\n",
      "chunkresolve_icdo_clinical download started this may take some time.\n",
      "Approximate size to download 8.2 MB\n",
      "[OK!]\n"
     ]
    }
   ],
   "source": [
    "icdo_chunk = TextMatcherModel.pretrained(\"textmatch_icdo\", \"en\", \"clinical/models\")\\\n",
    "    .setInputCols(\"sentence\", \"token\")\\\n",
    "    .setOutputCol(\"icdo_chunk\")\n",
    "\n",
    "icdo_chunk_embeddings = ChunkEmbeddings()\\\n",
    "    .setInputCols(\"icdo_chunk\", \"word_embeddings\")\\\n",
    "    .setOutputCol(\"icdo_chunk_embeddings\")\n",
    "\n",
    "icdo_chunk_tokenizer = ChunkTokenizer()\\\n",
    "    .setInputCols(\"icdo_chunk\")\\\n",
    "    .setOutputCol(\"icdo_token\")\n",
    "\n",
    "icdo_chunk_resolver = ChunkEntityResolverModel.pretrained(\"chunkresolve_icdo_clinical\", \"en\", \"clinical/models\")\\\n",
    "    .setInputCols(\"token\",\"icdo_chunk_embeddings\")\\\n",
    "    .setOutputCol(\"tm_icdo_code\")"
   ]
  },
  {
   "cell_type": "markdown",
   "metadata": {},
   "source": [
    "Ner Model Strategy"
   ]
  },
  {
   "cell_type": "code",
   "execution_count": 6,
   "metadata": {},
   "outputs": [
    {
     "name": "stdout",
     "output_type": "stream",
     "text": [
      "ner_clinical download started this may take some time.\n",
      "Approximate size to download 13.8 MB\n",
      "[OK!]\n"
     ]
    }
   ],
   "source": [
    "clinical_ner = NerDLModel.pretrained(\"ner_clinical\", \"en\", \"clinical/models\") \\\n",
    "  .setInputCols([\"sentence\", \"token\", \"word_embeddings\"]) \\\n",
    "  .setOutputCol(\"ner\")\n",
    "\n",
    "ner_converter = NerConverter() \\\n",
    "  .setInputCols([\"sentence\", \"token\", \"ner\"]) \\\n",
    "  .setOutputCol(\"ner_chunk\")\n",
    "\n",
    "ner_chunk_tokenizer = ChunkTokenizer()\\\n",
    "    .setInputCols(\"ner_chunk\")\\\n",
    "    .setOutputCol(\"ner_token\")\n",
    "\n",
    "ner_chunk_embeddings = ChunkEmbeddings()\\\n",
    "    .setInputCols(\"ner_chunk\", \"word_embeddings\")\\\n",
    "    .setOutputCol(\"ner_chunk_embeddings\")"
   ]
  },
  {
   "cell_type": "code",
   "execution_count": 7,
   "metadata": {},
   "outputs": [
    {
     "name": "stdout",
     "output_type": "stream",
     "text": [
      "resolve_snomed_clinical_l1 download started this may take some time.\n",
      "Approximate size to download 15.3 MB\n",
      "[OK!]\n",
      "resolve_snomed_clinical_l2 download started this may take some time.\n",
      "Approx size to download 583.4 MB\n",
      "[OK!]\n"
     ]
    },
    {
     "data": {
      "text/plain": [
       "ChunkEntityResolverSelector_d41a7a88595b"
      ]
     },
     "execution_count": 7,
     "metadata": {},
     "output_type": "execute_result"
    }
   ],
   "source": [
    "#SNOMED Resolution\n",
    "ner_snomed_resolver_l1 = DocumentLogRegClassifierModel.pretrained(\"resolve_snomed_clinical_l1\", \"en\", \"clinical/models\")\\\n",
    "    .setInputCols(\"ner_token\").setOutputCol(\"partition\")\n",
    "ner_snomed_resolver_l2 = ResourceDownloader.downloadPipeline(\"resolve_snomed_clinical_l2\", \"en\", \"clinical/models\")\n",
    "for s in ner_snomed_resolver_l2.stages[:-1]:\n",
    "    s.setInputCols(\"ner_token\",\"ner_chunk_embeddings\")\n",
    "ner_snomed_resolver_l2.stages[-1].setInputCols(\"partition\",\"ner_token\",\"ner_chunk_embeddings\")"
   ]
  },
  {
   "cell_type": "code",
   "execution_count": 8,
   "metadata": {},
   "outputs": [],
   "source": [
    "snomed_resolution = PipelineModel([ner_snomed_resolver_l1, RecursivePipelineModel(ner_snomed_resolver_l2)])"
   ]
  },
  {
   "cell_type": "code",
   "execution_count": 9,
   "metadata": {},
   "outputs": [],
   "source": [
    "pipelineFull = Pipeline().setStages([\n",
    "    docAssembler, \n",
    "    sentenceDetector, \n",
    "    tokenizer, \n",
    "    word_embeddings, \n",
    "    \n",
    "    clinical_ner, \n",
    "    ner_converter, \n",
    "    ner_chunk_embeddings,\n",
    "    ner_chunk_tokenizer,\n",
    "    snomed_resolution,\n",
    "    \n",
    "    icdo_chunk,\n",
    "    icdo_chunk_embeddings, \n",
    "    icdo_chunk_resolver,\n",
    "    icdo_chunk_tokenizer,\n",
    "    icdo_chunk_resolver\n",
    "])"
   ]
  },
  {
   "cell_type": "markdown",
   "metadata": {},
   "source": [
    "Let's train our Pipeline and make it ready to start transforming"
   ]
  },
  {
   "cell_type": "code",
   "execution_count": 10,
   "metadata": {},
   "outputs": [],
   "source": [
    "pipelineModelFull = pipelineFull.fit(data)"
   ]
  },
  {
   "cell_type": "code",
   "execution_count": 11,
   "metadata": {},
   "outputs": [],
   "source": [
    "output = pipelineModelFull.transform(data)"
   ]
  },
  {
   "cell_type": "markdown",
   "metadata": {},
   "source": [
    "### EntityResolver:  \n",
    "Trained on an augmented ICDO Dataset from JSL Data Market it provides histology codes resolution for the matched expressions. Other than providing the code in the \"result\" field it provides more metadata about the matching process:  \n",
    "\n",
    "- target_text -> Text to resolve\n",
    "- resolved_text -> Best match text\n",
    "- confidence -> Relative confidence for the top match (distance to probability)\n",
    "- confidence_ratio -> Relative confidence for the top match. TopMatchConfidence / SecondMatchConfidence\n",
    "- alternative_codes -> List of other plausible codes (in the KNN neighborhood)\n",
    "- alternative_confidence_ratios -> Rest of confidence ratios\n",
    "- all_k_results -> All resolved codes for metrics calculation purposes\n",
    "- sentence -> SentenceId\n",
    "- chunk -> ChunkId"
   ]
  },
  {
   "cell_type": "code",
   "execution_count": 12,
   "metadata": {},
   "outputs": [
    {
     "name": "stdout",
     "output_type": "stream",
     "text": [
      "+-------------+-----------------------------------+-------------------------+------+----------+\n",
      "|note         |chunk                              |resolved_text            |code  |confidence|\n",
      "+-------------+-----------------------------------+-------------------------+------+----------+\n",
      "|283467841536 |diffuse large                      |ML, large B-cell, diffuse|9680/3|1.04      |\n",
      "|283467841536 |bone marrow                        |Myelosclerosis with myelo|9961/3|1.0       |\n",
      "|283467841536 |central nervous system             |Medulloepithelioma, NOS  |9501/3|1.0       |\n",
      "|936302870528 |germ cell tumor                    |Mixed germ cell tumor    |9085/3|1.1       |\n",
      "|936302870528 |desmoplastic small round cell tumor|Desmoplastic small round |8806/3|1.0       |\n",
      "|1537598291968|lymphocytic lymphoma               |Chronic lymphocytic leuke|9823/3|2.2       |\n",
      "|1537598291968|chronic lymphocytic leukemia       |Precursor T-cell lymphobl|9729/3|1.0       |\n",
      "|1537598291968|bone marrow                        |Myelosclerosis with myelo|9961/3|1.0       |\n",
      "+-------------+-----------------------------------+-------------------------+------+----------+\n",
      "\n"
     ]
    }
   ],
   "source": [
    "output.withColumn(\"note\",F.monotonically_increasing_id()).select(F.col(\"note\"),F.explode(F.arrays_zip(\"icdo_chunk.result\",\"tm_icdo_code.result\",\"tm_icdo_code.metadata\")).alias(\"icdo_result\")) \\\n",
    ".select(\"note\",\n",
    "        F.expr(\"icdo_result['0']\").alias(\"chunk\"),\n",
    "        F.expr(\"substring(icdo_result['2'].resolved_text,0,25)\").alias(\"resolved_text\"),\n",
    "        F.expr(\"icdo_result['1']\").alias(\"code\"),\n",
    "        #F.expr(\"icdo_result['2'].alternative_codes\").alias(\"alternative_codes\"),\n",
    "        F.expr(\"round(icdo_result['2'].confidence_ratio,2)\").alias(\"confidence\")) \\\n",
    ".distinct() \\\n",
    ".orderBy([\"note\",\"confidence\"], ascending=[True,False]) \\\n",
    ".show(100, False)"
   ]
  },
  {
   "cell_type": "code",
   "execution_count": 13,
   "metadata": {},
   "outputs": [
    {
     "name": "stdout",
     "output_type": "stream",
     "text": [
      "+-----------------------------------+-------+-----------------------------------+----+\n",
      "|chunk                              |entity |resolved_text                      |conf|\n",
      "+-----------------------------------+-------+-----------------------------------+----+\n",
      "|Complete blood count               |TEST   |complete blood count               |2.22|\n",
      "|further evaluation                 |TEST   |preanaesthesia evaluation          |1.75|\n",
      "|these displaced the bladder anterio|PROBLEM|pseudodiverticulum of the rectum   |1.58|\n",
      "|a bone marrow biopsy               |TEST   |bone marrow biopsy                 |1.55|\n",
      "|a serum creatinine level           |TEST   |corrected serum creatinine level   |1.54|\n",
      "|urinary complaints                 |PROBLEM|urinary hesitation                 |1.47|\n",
      "|a progressing pruritic cutaneous ra|PROBLEM|pruritic rash ( disorder )         |1.44|\n",
      "|partially crusted erythematous plaq|PROBLEM|erythematous plaques of pinta      |1.44|\n",
      "|coagulation panel                  |TEST   |blood coagulation panel            |1.36|\n",
      "|a stereotactic biopsy              |TEST   |stereotactic biopsy of brain       |1.35|\n",
      "|a hard paratesticular mass         |PROBLEM|mass of hard palate                |1.34|\n",
      "|mild constipation                  |PROBLEM|intractable constipation           |1.33|\n",
      "|pelvic masses                      |PROBLEM|pelvic cavity                      |1.32|\n",
      "|FISH) analysis                     |TEST   |chromosome analysis ( procedure )  |1.31|\n",
      "|the beta–human chorionic gonadotrop|TEST   |human chorionic gonadotropin level |1.3 |\n",
      "|a large fungating ulcerated nodule |PROBLEM|ulcerated cutaneous sporotrichoid n|1.27|\n",
      "|hypercellular marrow               |PROBLEM|bone marrow donor                  |1.23|\n",
      "|scaly                              |PROBLEM|gritty                             |1.23|\n",
      "|leukocytes                         |TEST   |aggregated leukocytes              |1.22|\n",
      "|hyperchromatic nuclei              |PROBLEM|habenular nuclei                   |1.22|\n",
      "|chronic lymphocytic leukemia       |PROBLEM|smoldering chronic lymphocytic leuk|1.19|\n",
      "|PCNSL)                             |PROBLEM|high grade ( lymphoma grade ) ( fin|1.19|\n",
      "|Peripheral blood flow cytometry    |TEST   |peripheral blood flow              |1.18|\n",
      "|a left submandibular lump          |PROBLEM|lump in left breast                |1.18|\n",
      "|PET)/computed tomography           |TEST   |textiloma                          |1.17|\n",
      "|progressively increased in size    |PROBLEM|increased size                     |1.17|\n",
      "|retroperitoneal, and pelvic masses |PROBLEM|intra - abdominal and pelvic swelli|1.17|\n",
      "|mild left scrotal pain             |PROBLEM|mild pain                          |1.17|\n",
      "|desmin                             |TEST   |cytokeratin filaments              |1.17|\n",
      "|a large left scrotal mass          |PROBLEM|mass of skin of left thumb         |1.16|\n",
      "|ultrasound-guided needle biopsy    |TEST   |percutaneous needle biopsy         |1.14|\n",
      "|An eye exam                        |TEST   |eye poking ( finding )             |1.14|\n",
      "|a testicular germ cell tumor       |PROBLEM|germ cell tumor of testis          |1.14|\n",
      "|a 1.6 x 1.6 x 2.1 cm mass involving|PROBLEM|abdominal aorta diameter less than |1.12|\n",
      "|A computed tomography              |TEST   |computed tomography scan normal    |1.12|\n",
      "|SUV max                            |TEST   |max                                |1.12|\n",
      "|basic chemistry panel              |TEST   |diagnostic panel or profile        |1.12|\n",
      "|compression on the urinary bladder |PROBLEM|neoplasm of apex of urinary bladder|1.11|\n",
      "|lactate dehydrogenase              |TEST   |lactate dehydrogenase isoenzyme    |1.1 |\n",
      "|white count                        |TEST   |metamyelocyte count                |1.1 |\n",
      "|three separate pelvic masses       |PROBLEM|intra - abdominal and pelvic swelli|1.09|\n",
      "|MRI) scan                          |TEST   |midliner ultrasound scan ( procedur|1.09|\n",
      "|severe pruritus                    |PROBLEM|pruritus scroti                    |1.08|\n",
      "|the alpha fetoprotein level        |TEST   |maternal serum alpha fetoprotein le|1.08|\n",
      "|CT) scan                           |TEST   |midliner ultrasound scan ( procedur|1.08|\n",
      "|platelets                          |TEST   |platelet haematocrit               |1.08|\n",
      "|A hard, lower abdominal mass in the|PROBLEM|left lower quadrant abdominal swell|1.08|\n",
      "|large multifocal intra-abdominal   |PROBLEM|malignant lymphoma , mixed small an|1.07|\n",
      "|His right axillary lymphadenopathy |PROBLEM|right axillary neuropathy          |1.07|\n",
      "|solitary leukocytosis              |PROBLEM|solitary aggregation               |1.07|\n",
      "|Immunohistochemical staining       |TEST   |staining of skin                   |1.07|\n",
      "|Lymphoma                           |PROBLEM|suspected lymphoma                 |1.07|\n",
      "|clinical exam                      |TEST   |clinical stage 4                   |1.07|\n",
      "|blood work                         |TEST   |uncongenial work                   |1.07|\n",
      "|some mass effect                   |PROBLEM|difference in mass concentration   |1.07|\n",
      "|A gadolinium-enhanced magnetic reso|TEST   |mpmri - multiparametric magnetic re|1.06|\n",
      "|mild to moderately hypermetabolic a|PROBLEM|pancreatic intraepithelial neoplasi|1.06|\n",
      "|a diffuse large B-cell histology   |PROBLEM|primary malignant neoplasm of large|1.06|\n",
      "|cross-sectional imaging            |TEST   |cardiovascular flow study imaging  |1.06|\n",
      "|abnormal cell population           |PROBLEM|abnormal cell size                 |1.06|\n",
      "|flow cytometry                     |TEST   |blood flow                         |1.05|\n",
      "|PET)/CT scan                       |TEST   |dxa scan t score                   |1.05|\n",
      "|CT) scan of the brain              |TEST   |ultrasound brain scan ( procedure )|1.05|\n",
      "|CLL                                |TEST   |bone marrow myeloid cells          |1.05|\n",
      "|lymphomatous involvement outside th|PROBLEM|excision of neoplasm of central ner|1.05|\n",
      "|extensive diffuse lymphadenopathy w|PROBLEM|internal injury of chest , abdomen |1.04|\n",
      "|a 7.8-cm para-aortic mass          |PROBLEM|lymph nodes of body as a whole     |1.04|\n",
      "|Systemic staging                   |TEST   |staging laparoscopy ( procedure )  |1.04|\n",
      "|LDH                                |TEST   |lactate dehydrogenase deficiency   |1.04|\n",
      "|hemoglobin [HGB]                   |TEST   |hemoglobin pigmentation            |1.04|\n",
      "|Further mutational analysis of the |TEST   |measurement of ratio of cell type t|1.03|\n",
      "|left scrotal swelling              |PROBLEM|swelling of left foot              |1.03|\n",
      "|a positron emission tomography     |TEST   |positron emission tomography       |1.03|\n",
      "|a left axillary lymphadenopathy    |PROBLEM|central axillary lymphadenopathy   |1.03|\n",
      "|strong positivity                  |PROBLEM|ortolani test positive             |1.03|\n",
      "|Microscopic examination of the tiss|TEST   |microscopic examination of specimen|1.03|\n",
      "|his white count                    |TEST   |total white blood count            |1.03|\n",
      "|Typical markers                    |TEST   |long qt syndrome with genetic marke|1.03|\n",
      "|invading fibrous tissue—as         |PROBLEM|localised fibrous tumour           |1.02|\n",
      "|the mass                           |PROBLEM|mass of face                       |1.02|\n",
      "|moderate left hydroureteronephrosis|PROBLEM|left pseudopapilloedema            |1.02|\n",
      "|numerous coalescing                |PROBLEM|multiple piloleiomyoma             |1.02|\n",
      "|Lymph nodes on the right abdomen an|PROBLEM|pn 3 : metastasis in perirectal and|1.02|\n",
      "|deletion/monosomy                  |TEST   |polysomia                          |1.02|\n",
      "|frequent falls                     |PROBLEM|unusually frequent menses          |1.02|\n",
      "|a complete blood cell count        |TEST   |blood cell count , manual          |1.02|\n",
      "|A CT scan of the chest, abdomen, an|TEST   |computed tomography of thorax , abd|1.02|\n",
      "|other prognostic markers           |TEST   |other tanner and fellmonger        |1.02|\n",
      "|symptoms                           |PROBLEM|neuropsychiatric symptoms          |1.02|\n",
      "|predominant lymphocytes            |PROBLEM|tumour infiltrating lymphocytes abs|1.01|\n",
      "|an EWS-WT1 fusion transcript       |TEST   |fusion of testes                   |1.01|\n",
      "|ZAP-70 positivity                  |TEST   |severe combined immunodeficiency du|1.01|\n",
      "|vimentin                           |TEST   |keratin antibody level             |1.01|\n",
      "|a primary central nervous system ly|PROBLEM|structure of central nervous system|1.01|\n",
      "|Figure                             |TEST   |on examination - visual agnosia pre|1.01|\n",
      "|liver function tests               |TEST   |liver function                     |1.01|\n",
      "|His other counts                   |TEST   |other roofer                       |1.01|\n",
      "|IgVH                               |TEST   |gene rearrangement analysis        |1.0 |\n",
      "|alopecia                           |PROBLEM|alopecia localis                   |1.0 |\n",
      "|beta-2-microglobulin               |TEST   |serum beta 2 microglobulin level   |1.0 |\n",
      "+-----------------------------------+-------+-----------------------------------+----+\n",
      "only showing top 100 rows\n",
      "\n"
     ]
    }
   ],
   "source": [
    "output.select(F.explode(F.arrays_zip(\"ner_chunk.result\",\"ner_chunk.metadata\",\"snomed_code.result\",\"snomed_code.metadata\")).alias(\"icdo_result\")) \\\n",
    ".select(F.expr(\"substring(icdo_result['0'],0,35)\").alias(\"chunk\"),\n",
    "        F.expr(\"icdo_result['1'].entity\").alias(\"entity\"),\n",
    "        #F.expr(\"icdo_result['3'].target_text\").alias(\"target_text\"),\n",
    "        F.expr(\"substring(icdo_result['3'].resolved_text,0,35)\").alias(\"resolved_text\"),\n",
    "        #F.expr(\"icdo_result['2']\").alias(\"code\"),\n",
    "        #F.expr(\"icdo_result['2'].alternative_codes\").alias(\"alternative_codes\"),\n",
    "        F.expr(\"round(icdo_result['3'].confidence_ratio,2)\").alias(\"conf\")\n",
    "       ) \\\n",
    ".distinct() \\\n",
    ".orderBy(\"conf\",ascending=False)\\\n",
    ".show(100, False)"
   ]
  },
  {
   "cell_type": "code",
   "execution_count": null,
   "metadata": {},
   "outputs": [],
   "source": []
  }
 ],
 "metadata": {
  "kernelspec": {
   "display_name": "jsl240",
   "language": "python",
   "name": "jsl240"
  },
  "language_info": {
   "codemirror_mode": {
    "name": "ipython",
    "version": 3
   },
   "file_extension": ".py",
   "mimetype": "text/x-python",
   "name": "python",
   "nbconvert_exporter": "python",
   "pygments_lexer": "ipython3",
   "version": "3.6.9"
  }
 },
 "nbformat": 4,
 "nbformat_minor": 2
}
