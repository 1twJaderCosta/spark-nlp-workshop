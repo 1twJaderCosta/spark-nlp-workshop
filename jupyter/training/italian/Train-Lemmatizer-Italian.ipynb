{
 "cells": [
  {
   "cell_type": "markdown",
   "metadata": {},
   "source": [
    "![JohnSnowLabs](https://nlp.johnsnowlabs.com/assets/images/logo.png)"
   ]
  },
  {
   "cell_type": "markdown",
   "metadata": {},
   "source": [
    "# Training Lemmatizer Model in Italian language"
   ]
  },
  {
   "cell_type": "markdown",
   "metadata": {},
   "source": [
    "### Spark `2.4` and Spark NLP `2.0.0`"
   ]
  },
  {
   "cell_type": "markdown",
   "metadata": {},
   "source": [
    "### A brief explaination about `Lemmatizer` annotator in Spark NLP:\n",
    "\n",
    "Retrieves lemmas out of words with the objective of returning a base dictionary word<br><br>\n",
    "**Type:** Token<br>\n",
    "**Requires:** None<br>\n",
    "**Input:** abduct -> abducted abducting abduct abducts<br><br>\n",
    "**Functions:**<br>\n",
    "* setDictionary(path, keyDelimiter, valueDelimiter, readAs, options): Path and options to lemma dictionary, in lemma vs possible words format. readAs can be LINE_BY_LINE or SPARK_DATASET. options contain option passed to spark reader if readAs is SPARK_DATASET.\n",
    "<br>\n",
    "\n",
    "**Example:**\n",
    "```Python\n",
    "lemmatizer = Lemmatizer() \\\n",
    "  .setInputCols([\"token\"]) \\\n",
    "  .setOutputCol(\"lemma\") \\\n",
    "  .setDictionary(\"./lemmas001.txt\")\n",
    "```"
   ]
  },
  {
   "cell_type": "markdown",
   "metadata": {},
   "source": [
    "Let's import required libraries including `SQL` and `ML` from Spark and some annotators from Spark NLP"
   ]
  },
  {
   "cell_type": "code",
   "execution_count": null,
   "metadata": {},
   "outputs": [],
   "source": [
    "#Spark ML and SQL\n",
    "from pyspark.ml import Pipeline, PipelineModel\n",
    "from pyspark.sql.functions import array_contains\n",
    "from pyspark.sql import SparkSession\n",
    "from pyspark.sql.types import StructType, StructField, IntegerType, StringType\n",
    "#Spark NLP\n",
    "from sparknlp.annotator import *\n",
    "from sparknlp.common import RegexRule\n",
    "from sparknlp.base import DocumentAssembler, Finisher"
   ]
  },
  {
   "cell_type": "markdown",
   "metadata": {},
   "source": [
    "### Let's create a Spark Session for our app"
   ]
  },
  {
   "cell_type": "code",
   "execution_count": null,
   "metadata": {},
   "outputs": [],
   "source": [
    "spark = SparkSession.builder \\\n",
    "    .appName(\"Training_Lemmatizer\")\\\n",
    "    .master(\"local[*]\")\\\n",
    "    .config(\"spark.driver.memory\",\"8G\")\\\n",
    "    .config(\"spark.driver.maxResultSize\", \"2G\")\\\n",
    "    .config(\"spark.jars.packages\", \"JohnSnowLabs:spark-nlp:2.0.0\")\\\n",
    "    .config(\"spark.kryoserializer.buffer.max\", \"500m\")\\\n",
    "    .getOrCreate()"
   ]
  },
  {
   "cell_type": "code",
   "execution_count": null,
   "metadata": {},
   "outputs": [],
   "source": [
    "spark.version"
   ]
  },
  {
   "cell_type": "code",
   "execution_count": 1,
   "metadata": {},
   "outputs": [
    {
     "name": "stdout",
     "output_type": "stream",
     "text": [
      "--2019-03-17 18:22:36--  https://s3.amazonaws.com/auxdata.johnsnowlabs.com/public/resources/it/lemma/dxc.technology/lemma_italian.txt\n",
      "Resolving s3.amazonaws.com (s3.amazonaws.com)... 52.216.236.205\n",
      "Connecting to s3.amazonaws.com (s3.amazonaws.com)|52.216.236.205|:443... connected.\n",
      "HTTP request sent, awaiting response... 200 OK\n",
      "Length: 6900964 (6.6M) [text/plain]\n",
      "Saving to: ‘/tmp/lemma_italian.txt’\n",
      "\n",
      "lemma_italian.txt   100%[===================>]   6.58M  2.90MB/s    in 2.3s    \n",
      "\n",
      "2019-03-17 18:22:39 (2.90 MB/s) - ‘/tmp/lemma_italian.txt’ saved [6900964/6900964]\n",
      "\n"
     ]
    }
   ],
   "source": [
    "! wget -N https://s3.amazonaws.com/auxdata.johnsnowlabs.com/public/resources/it/lemma/dxc.technology/lemma_italian.txt -P /tmp"
   ]
  },
  {
   "cell_type": "markdown",
   "metadata": {},
   "source": [
    "### Now we are going to create a Spark NLP Pipeline by using Spark ML Pipeline natively"
   ]
  },
  {
   "cell_type": "code",
   "execution_count": null,
   "metadata": {},
   "outputs": [],
   "source": [
    "document_assembler = DocumentAssembler() \\\n",
    "    .setInputCol(\"text\")\n",
    "\n",
    "sentence_detector = SentenceDetector() \\\n",
    "    .setInputCols([\"document\"]) \\\n",
    "    .setOutputCol(\"sentence\")\n",
    "\n",
    "tokenizer = Tokenizer() \\\n",
    "    .setInputCols([\"sentence\"]) \\\n",
    "    .setOutputCol(\"token\")\n",
    "\n",
    "normalizer = Normalizer() \\\n",
    "    .setInputCols([\"token\"]) \\\n",
    "    .setOutputCol(\"normal\")\n",
    "    \n",
    "lemmatizer = Lemmatizer() \\\n",
    "    .setInputCols([\"normal\"]) \\\n",
    "    .setOutputCol(\"lemma\") \\\n",
    "    .setDictionary(\n",
    "          path = \"/tmp/lemma_italian.txt\",\n",
    "          read_as = \"LINE_BY_LINE\",\n",
    "          key_delimiter = \"\\\\s+\", \n",
    "          value_delimiter = \"->\"\n",
    "        )\n",
    "pipeline = Pipeline(stages=[document_assembler, sentence_detector, tokenizer, normalizer, lemmatizer])"
   ]
  },
  {
   "cell_type": "code",
   "execution_count": null,
   "metadata": {},
   "outputs": [],
   "source": [
    "emptyDF = spark.createDataFrame([], StringType()).toDF(\"text\")\n",
    "model = pipeline.fit(emptyDF)"
   ]
  },
  {
   "cell_type": "markdown",
   "metadata": {},
   "source": [
    "Let's see how good our model does when it comes to prediction. We are going to create a DataFrame with Italian text for testing purposes and use `transform()` to predict."
   ]
  },
  {
   "cell_type": "code",
   "execution_count": null,
   "metadata": {},
   "outputs": [],
   "source": [
    "# Let's create a DataFrame with Italian text for testing our Spark NLP Pipeline\n",
    "dfTest = spark.createDataFrame([\"Finchè non avevo la linea ADSL di fastweb potevo entrare nel router e configurare quelle pochissime cose configurabili (es. nome dei device), da ieri che ho avuto la linea niente è più configurabile...\", \n",
    "    \"L'uomo è insoddisfatto del prodotto.\", \n",
    "    \"La coppia contenta si abbraccia sulla spiaggia.\"], StringType()).toDF(\"text\")\n",
    "\n",
    "# Of course you can select multiple columns at the same time however, this way we see each annotator without truncating their results\n",
    "model.transform(dfTest).select(\"token.result\").show(truncate=False)\n",
    "model.transform(dfTest).select(\"normal.result\").show(truncate=False)\n",
    "model.transform(dfTest).select(\"lemma.result\").show(truncate=False)\n",
    "\n",
    "# Print the schema of the Pipeline\n",
    "model.transform(dfTest).printSchema()"
   ]
  },
  {
   "cell_type": "markdown",
   "metadata": {},
   "source": [
    "### Credits \n",
    "We would like to thank `DXC.Technology` for sharing their Italian datasets and models with Spark NLP community. The datasets are used to train `Lemmatizer` and `SentimentDetector` Models."
   ]
  }
 ],
 "metadata": {
  "kernelspec": {
   "display_name": "Python 3",
   "language": "python",
   "name": "python3"
  },
  "language_info": {
   "codemirror_mode": {
    "name": "ipython",
    "version": 3
   },
   "file_extension": ".py",
   "mimetype": "text/x-python",
   "name": "python",
   "nbconvert_exporter": "python",
   "pygments_lexer": "ipython3",
   "version": "3.6.8"
  }
 },
 "nbformat": 4,
 "nbformat_minor": 2
}
