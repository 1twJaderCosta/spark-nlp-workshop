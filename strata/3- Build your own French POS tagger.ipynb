{
 "cells": [
  {
   "cell_type": "markdown",
   "metadata": {},
   "source": [
    "![JohnSnowLabs](https://nlp.johnsnowlabs.com/assets/images/logo.png)"
   ]
  },
  {
   "cell_type": "markdown",
   "metadata": {},
   "source": [
    "# Train POS Tagger in French by Spark NLP\n",
    "### Based on Universal Dependency `UD_French-GSD` version 2.3\n"
   ]
  },
  {
   "cell_type": "code",
   "execution_count": 1,
   "metadata": {},
   "outputs": [],
   "source": [
    "import sys\n",
    "import time\n",
    "\n",
    "#Spark ML and SQL\n",
    "from pyspark.ml import Pipeline, PipelineModel\n",
    "from pyspark.sql.functions import array_contains\n",
    "from pyspark.sql import SparkSession\n",
    "from pyspark.sql.types import StructType, StructField, IntegerType, StringType\n",
    "#Spark NLP\n",
    "import sparknlp\n",
    "from sparknlp.annotator import *\n",
    "from sparknlp.common import RegexRule\n",
    "from sparknlp.base import DocumentAssembler, Finisher\n"
   ]
  },
  {
   "cell_type": "markdown",
   "metadata": {},
   "source": [
    "### Let's create a Spark Session for our app"
   ]
  },
  {
   "cell_type": "code",
   "execution_count": 2,
   "metadata": {},
   "outputs": [],
   "source": [
    "spark = sparknlp.start()"
   ]
  },
  {
   "cell_type": "code",
   "execution_count": 3,
   "metadata": {},
   "outputs": [
    {
     "data": {
      "text/plain": [
       "'2.4.0'"
      ]
     },
     "execution_count": 3,
     "metadata": {},
     "output_type": "execute_result"
    }
   ],
   "source": [
    "spark.version"
   ]
  },
  {
   "cell_type": "markdown",
   "metadata": {},
   "source": [
    "Let's prepare our training datasets containing `token_posTag` like `de_DET`. You can download this data set from Amazon S3:\n",
    "\n",
    "```\n",
    "wget -N https://s3.amazonaws.com/auxdata.johnsnowlabs.com/public/resources/fr/pos/UD_French/UD_French-GSD_2.3.txt -P /tmp\n",
    "```"
   ]
  },
  {
   "cell_type": "code",
   "execution_count": 4,
   "metadata": {},
   "outputs": [
    {
     "name": "stdout",
     "output_type": "stream",
     "text": [
      "--2019-03-24 12:12:35--  https://s3.amazonaws.com/auxdata.johnsnowlabs.com/public/resources/fr/pos/UD_French/UD_French-GSD_2.3.txt\n",
      "Resolving s3.amazonaws.com (s3.amazonaws.com)... 52.216.169.69\n",
      "Connecting to s3.amazonaws.com (s3.amazonaws.com)|52.216.169.69|:443... connected.\n",
      "HTTP request sent, awaiting response... 200 OK\n",
      "Length: 3565213 (3.4M) [text/plain]\n",
      "Saving to: ‘/tmp/UD_French-GSD_2.3.txt’\n",
      "\n",
      "UD_French-GSD_2.3.t 100%[===================>]   3.40M  4.53MB/s    in 0.7s    \n",
      "\n",
      "2019-03-24 12:12:37 (4.53 MB/s) - ‘/tmp/UD_French-GSD_2.3.txt’ saved [3565213/3565213]\n",
      "\n"
     ]
    }
   ],
   "source": [
    "! wget -N https://s3.amazonaws.com/auxdata.johnsnowlabs.com/public/resources/fr/pos/UD_French/UD_French-GSD_2.3.txt -P /tmp"
   ]
  },
  {
   "cell_type": "code",
   "execution_count": 4,
   "metadata": {},
   "outputs": [],
   "source": [
    "from sparknlp.training import POS\n",
    "training_data = POS().readDataset(spark, '/tmp/UD_French-GSD_2.3.txt', '_', 'tags')"
   ]
  },
  {
   "cell_type": "code",
   "execution_count": 5,
   "metadata": {},
   "outputs": [
    {
     "name": "stdout",
     "output_type": "stream",
     "text": [
      "+--------------------+--------------------+--------------------+\n",
      "|                text|            document|                tags|\n",
      "+--------------------+--------------------+--------------------+\n",
      "|Les commotions cé...|[[document, 0, 11...|[[pos, 0, 2, DET,...|\n",
      "|L' œuvre est situ...|[[document, 0, 82...|[[pos, 0, 1, DET,...|\n",
      "|Le comportement d...|[[document, 0, 18...|[[pos, 0, 1, DET,...|\n",
      "|Toutefois , les f...|[[document, 0, 44...|[[pos, 0, 8, ADV,...|\n",
      "|Ismene entre et a...|[[document, 0, 80...|[[pos, 0, 5, PROP...|\n",
      "|je reviendrais av...|[[document, 0, 28...|[[pos, 0, 1, PRON...|\n",
      "|Les forfaits comp...|[[document, 0, 30...|[[pos, 0, 2, DET,...|\n",
      "|Il prévient que d...|[[document, 0, 99...|[[pos, 0, 1, PRON...|\n",
      "|Ils tiraient à ba...|[[document, 0, 43...|[[pos, 0, 2, PRON...|\n",
      "|Le château est en...|[[document, 0, 44...|[[pos, 0, 1, DET,...|\n",
      "|En effet , la bir...|[[document, 0, 10...|[[pos, 0, 1, ADP,...|\n",
      "|Le point final de...|[[document, 0, 15...|[[pos, 0, 1, DET,...|\n",
      "|L' information gé...|[[document, 0, 53...|[[pos, 0, 1, DET,...|\n",
      "|Motivé par la cha...|[[document, 0, 21...|[[pos, 0, 5, VERB...|\n",
      "|Il exploitait un ...|[[document, 0, 12...|[[pos, 0, 1, PRON...|\n",
      "|Plus tard dans la...|[[document, 0, 84...|[[pos, 0, 3, ADV,...|\n",
      "|Ils deviennent al...|[[document, 0, 97...|[[pos, 0, 2, PRON...|\n",
      "|Le chevalier lui ...|[[document, 0, 17...|[[pos, 0, 1, DET,...|\n",
      "|Créée au cours du...|[[document, 0, 15...|[[pos, 0, 4, VERB...|\n",
      "|On ne peut éviter...|[[document, 0, 11...|[[pos, 0, 1, PRON...|\n",
      "+--------------------+--------------------+--------------------+\n",
      "only showing top 20 rows\n",
      "\n"
     ]
    }
   ],
   "source": [
    "training_data.show()"
   ]
  },
  {
   "cell_type": "code",
   "execution_count": 6,
   "metadata": {},
   "outputs": [],
   "source": [
    "document_assembler = DocumentAssembler() \\\n",
    "    .setInputCol(\"text\")\n",
    "\n",
    "sentence_detector = SentenceDetector() \\\n",
    "    .setInputCols([\"document\"]) \\\n",
    "    .setOutputCol(\"sentence\")\n",
    "\n",
    "tokenizer = Tokenizer() \\\n",
    "    .setInputCols([\"sentence\"]) \\\n",
    "    .setOutputCol(\"token\")\\\n",
    "    .addInfixPattern(\"(\\\\w+)([^\\\\s\\\\p{L}]{1})+(\\\\w+)\")\\\n",
    "    .addInfixPattern(\"(\\\\w+'{1})(\\\\w+)\")\\\n",
    "    .addInfixPattern(\"(\\\\p{L}+)(n't\\\\b)\")\\\n",
    "    .addInfixPattern(\"((?:\\\\p{L}\\\\.)+)\")\\\n",
    "    .addInfixPattern(\"([\\\\$#]?\\\\d+(?:[^\\\\s\\\\d]{1}\\\\d+)*)\")\\\n",
    "    .addInfixPattern(\"([\\\\p{L}\\\\w]+)\")\n",
    "\n",
    "posTagger = PerceptronApproach() \\\n",
    "    .setNIterations(1) \\\n",
    "    .setInputCols([\"sentence\", \"token\"]) \\\n",
    "    .setOutputCol(\"pos\") \\\n",
    "    .setPosCol(\"tags\")\n",
    "    \n",
    "pipeline = Pipeline(stages=[\n",
    "    document_assembler, \n",
    "    sentence_detector, \n",
    "    tokenizer,\n",
    "    posTagger\n",
    "])"
   ]
  },
  {
   "cell_type": "code",
   "execution_count": 7,
   "metadata": {},
   "outputs": [
    {
     "name": "stdout",
     "output_type": "stream",
     "text": [
      "CPU times: user 27.1 ms, sys: 9.5 ms, total: 36.6 ms\n",
      "Wall time: 32.6 s\n"
     ]
    }
   ],
   "source": [
    "# Let's train our Pipeline by using our training dataset\n",
    "model = pipeline.fit(training_data)"
   ]
  },
  {
   "cell_type": "markdown",
   "metadata": {},
   "source": [
    "This is our testing DataFrame where we get some sentences in French. We are going to use our trained Pipeline to transform these sentence and predict each token's `Part Of Speech`."
   ]
  },
  {
   "cell_type": "code",
   "execution_count": 8,
   "metadata": {},
   "outputs": [],
   "source": [
    "dfTest = spark.createDataFrame([\n",
    "    \"Je sens qu'entre ça et les films de médecins et scientifiques fous que nous avons déjà vus, nous pourrions emprunter un autre chemin pour l'origine.\",\n",
    "    \"On pourra toujours parler à propos d'Averroès de décentrement du Sujet.\"\n",
    "], StringType()).toDF(\"text\")"
   ]
  },
  {
   "cell_type": "code",
   "execution_count": 9,
   "metadata": {},
   "outputs": [],
   "source": [
    "predict = model.transform(dfTest)"
   ]
  },
  {
   "cell_type": "code",
   "execution_count": 10,
   "metadata": {},
   "outputs": [
    {
     "name": "stdout",
     "output_type": "stream",
     "text": [
      "+--------------------+--------------------+\n",
      "|              result|              result|\n",
      "+--------------------+--------------------+\n",
      "|[Je, sens, qu', e...|[PRON, NOUN, SCON...|\n",
      "|[On, pourra, touj...|[PRON, VERB, ADV,...|\n",
      "+--------------------+--------------------+\n",
      "\n"
     ]
    }
   ],
   "source": [
    "predict.select(\"token.result\", \"pos.result\").show()"
   ]
  }
 ],
 "metadata": {
  "kernelspec": {
   "display_name": "Python 3",
   "language": "python",
   "name": "python3"
  },
  "language_info": {
   "codemirror_mode": {
    "name": "ipython",
    "version": 3
   },
   "file_extension": ".py",
   "mimetype": "text/x-python",
   "name": "python",
   "nbconvert_exporter": "python",
   "pygments_lexer": "ipython3",
   "version": "3.6.8"
  }
 },
 "nbformat": 4,
 "nbformat_minor": 2
}
