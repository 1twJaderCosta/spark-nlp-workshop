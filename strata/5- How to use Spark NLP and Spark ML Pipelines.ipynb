{
 "cells": [
  {
   "cell_type": "markdown",
   "metadata": {},
   "source": [
    "![JohnSnowLabs](https://nlp.johnsnowlabs.com/assets/images/logo.png)"
   ]
  },
  {
   "cell_type": "markdown",
   "metadata": {},
   "source": [
    "# Spark-NLP and Spark ML Pipelines"
   ]
  },
  {
   "cell_type": "markdown",
   "metadata": {},
   "source": [
    "## Simple Topic Modeling\n",
    "\n",
    "`Spark-NLP`\n",
    "* Tokenizing\n",
    "* Normalizing\n",
    "* POS tagging\n",
    "* Chunking\n",
    "\n",
    "`Spark ML`\n",
    "* Hashing\n",
    "* TF-IDF\n",
    "* LDA"
   ]
  },
  {
   "cell_type": "code",
   "execution_count": 17,
   "metadata": {},
   "outputs": [],
   "source": [
    "import sys\n",
    "\n",
    "from pyspark.sql.functions import col\n",
    "from pyspark.ml.feature import CountVectorizer, HashingTF, IDF, Tokenizer\n",
    "from pyspark.ml.clustering import LDA, LDAModel\n",
    "\n",
    "#Spark NLP\n",
    "import sparknlp\n",
    "from sparknlp.pretrained import PretrainedPipeline\n",
    "from sparknlp.annotator import *\n",
    "from sparknlp.common import RegexRule\n",
    "from sparknlp.base import *"
   ]
  },
  {
   "cell_type": "markdown",
   "metadata": {},
   "source": [
    "### Let's create a Spark Session for our app"
   ]
  },
  {
   "cell_type": "code",
   "execution_count": 2,
   "metadata": {},
   "outputs": [],
   "source": [
    "spark = sparknlp.start()"
   ]
  },
  {
   "cell_type": "markdown",
   "metadata": {},
   "source": [
    "Let's download some scientific sample from PubMed dataset:\n",
    "```\n",
    "wget -N \thttps://s3.amazonaws.com/auxdata.johnsnowlabs.com/public/resources/en/pubmed/pubmed-sample.csv -P /tmp\n",
    "```"
   ]
  },
  {
   "cell_type": "code",
   "execution_count": 3,
   "metadata": {},
   "outputs": [
    {
     "name": "stdout",
     "output_type": "stream",
     "text": [
      "--2019-03-23 11:36:51--  https://s3.amazonaws.com/auxdata.johnsnowlabs.com/public/resources/en/pubmed/pubmed-sample.csv\n",
      "Resolving s3.amazonaws.com (s3.amazonaws.com)... 52.216.168.221\n",
      "Connecting to s3.amazonaws.com (s3.amazonaws.com)|52.216.168.221|:443... connected.\n",
      "HTTP request sent, awaiting response... 304 Not Modified\n",
      "File ‘/tmp/pubmed-sample.csv’ not modified on server. Omitting download.\n",
      "\n"
     ]
    }
   ],
   "source": [
    "! wget -N \thttps://s3.amazonaws.com/auxdata.johnsnowlabs.com/public/resources/en/pubmed/pubmed-sample.csv -P /tmp"
   ]
  },
  {
   "cell_type": "code",
   "execution_count": 4,
   "metadata": {},
   "outputs": [],
   "source": [
    "pubMedDF = spark.read\\\n",
    "                .option(\"header\", \"true\")\\\n",
    "                .csv(\"/tmp/pubmed-sample.csv\")\\\n",
    "                .filter(\"AB IS NOT null\")\\\n",
    "                .withColumn(\"text\", col(\"AB\"))\\\n",
    "                .drop(\"TI\", \"AB\")"
   ]
  },
  {
   "cell_type": "code",
   "execution_count": 5,
   "metadata": {},
   "outputs": [
    {
     "name": "stdout",
     "output_type": "stream",
     "text": [
      "root\n",
      " |-- text: string (nullable = true)\n",
      "\n",
      "+--------------------+\n",
      "|                text|\n",
      "+--------------------+\n",
      "|The human KCNJ9 (...|\n",
      "|BACKGROUND: At pr...|\n",
      "|OBJECTIVE: To inv...|\n",
      "|Combined EEG/fMRI...|\n",
      "|Kohlschutter synd...|\n",
      "|Statistical analy...|\n",
      "|The synthetic DOX...|\n",
      "|Our objective was...|\n",
      "|We conducted a ph...|\n",
      "|\"Monomeric sarcos...|\n",
      "|We presented the ...|\n",
      "|The literature de...|\n",
      "|A novel approach ...|\n",
      "|An HPLC-ESI-MS-MS...|\n",
      "|The localizing an...|\n",
      "|OBJECTIVE: To eva...|\n",
      "|For the construct...|\n",
      "|We report the res...|\n",
      "|Intraparenchymal ...|\n",
      "|It is known that ...|\n",
      "+--------------------+\n",
      "only showing top 20 rows\n",
      "\n"
     ]
    }
   ],
   "source": [
    "pubMedDF.printSchema()\n",
    "pubMedDF.show()"
   ]
  },
  {
   "cell_type": "code",
   "execution_count": 6,
   "metadata": {
    "scrolled": true
   },
   "outputs": [
    {
     "data": {
      "text/plain": [
       "7537"
      ]
     },
     "execution_count": 6,
     "metadata": {},
     "output_type": "execute_result"
    }
   ],
   "source": [
    "pubMedDF.count()"
   ]
  },
  {
   "cell_type": "markdown",
   "metadata": {},
   "source": [
    "### Let's create Spark-NLP Pipeline"
   ]
  },
  {
   "cell_type": "code",
   "execution_count": 7,
   "metadata": {},
   "outputs": [
    {
     "name": "stdout",
     "output_type": "stream",
     "text": [
      "CPU times: user 13.9 ms, sys: 3.5 ms, total: 17.4 ms\n",
      "Wall time: 4.89 s\n"
     ]
    }
   ],
   "source": [
    "%%time\n",
    "# Spark-NLP Pipeline\n",
    "\n",
    "document_assembler = DocumentAssembler() \\\n",
    "    .setInputCol(\"text\")\n",
    "\n",
    "sentence_detector = SentenceDetector() \\\n",
    "    .setInputCols([\"document\"]) \\\n",
    "    .setOutputCol(\"sentence\")\n",
    "\n",
    "tokenizer = Tokenizer() \\\n",
    "    .setInputCols([\"sentence\"]) \\\n",
    "    .setOutputCol(\"token\")\n",
    "\n",
    "normalizer = Normalizer() \\\n",
    "  .setInputCols([\"token\"]) \\\n",
    "  .setOutputCol(\"normalized\") \\\n",
    "  .setLowercase(True)\n",
    "\n",
    "posTagger = PerceptronModel.pretrained() \\\n",
    "  .setInputCols([\"sentence\", \"normalized\"])\n",
    "\n",
    "chunker = Chunker() \\\n",
    "    .setInputCols([\"sentence\", \"pos\"]) \\\n",
    "    .setOutputCol(\"chunk\") \\\n",
    "    .setRegexParsers([\"<NNP>+\", \"<DT|PP\\\\$>?<JJ>*<NN>\"])\n",
    "\n",
    "finisher = Finisher() \\\n",
    "  .setInputCols([\"chunk\"]) \\\n",
    "  .setIncludeMetadata(False)\n",
    "\n",
    "nlpPipeline = Pipeline(stages=[\n",
    "    document_assembler, \n",
    "    sentence_detector, \n",
    "    tokenizer,\n",
    "    normalizer,\n",
    "    posTagger,\n",
    "    chunker,\n",
    "    finisher\n",
    "])"
   ]
  },
  {
   "cell_type": "code",
   "execution_count": 8,
   "metadata": {},
   "outputs": [
    {
     "name": "stdout",
     "output_type": "stream",
     "text": [
      "CPU times: user 50.7 ms, sys: 15 ms, total: 65.7 ms\n",
      "Wall time: 646 ms\n"
     ]
    }
   ],
   "source": [
    "%%time\n",
    "nlpPipelineDF = nlpPipeline.fit(pubMedDF).transform(pubMedDF)"
   ]
  },
  {
   "cell_type": "markdown",
   "metadata": {},
   "source": [
    "### Let's create Spark ML Pipeline"
   ]
  },
  {
   "cell_type": "code",
   "execution_count": 11,
   "metadata": {},
   "outputs": [
    {
     "name": "stdout",
     "output_type": "stream",
     "text": [
      "CPU times: user 4.12 ms, sys: 2.43 ms, total: 6.55 ms\n",
      "Wall time: 28.3 ms\n"
     ]
    }
   ],
   "source": [
    "%%time\n",
    "# SPark ML Pipeline\n",
    "\n",
    "cv = CountVectorizer(inputCol=\"finished_chunk\", outputCol=\"features\", vocabSize=3, minDF=10.0)\n",
    "idf = IDF(inputCol=\"features\", outputCol=\"idf\")\n",
    "lda = LDA(k=10, maxIter=10)\n",
    "### Let's create Spark-NLP Pipeline\n",
    "mlPipeline = Pipeline(stages=[\n",
    "    cv,\n",
    "    idf,\n",
    "    lda\n",
    "])"
   ]
  },
  {
   "cell_type": "markdown",
   "metadata": {},
   "source": [
    "### We are going to train Spark ML Pipeline by using Spark-NLP Pipeline"
   ]
  },
  {
   "cell_type": "code",
   "execution_count": 12,
   "metadata": {},
   "outputs": [
    {
     "name": "stdout",
     "output_type": "stream",
     "text": [
      "CPU times: user 223 ms, sys: 190 ms, total: 413 ms\n",
      "Wall time: 29min 19s\n"
     ]
    }
   ],
   "source": [
    "### Let's create Spark-NLP Pipeline%%time\n",
    "mlModel = mlPipeline.fit(nlpPipelineDF)"
   ]
  },
  {
   "cell_type": "code",
   "execution_count": 23,
   "metadata": {},
   "outputs": [
    {
     "name": "stdout",
     "output_type": "stream",
     "text": [
      "CPU times: user 17 ms, sys: 7.83 ms, total: 24.8 ms\n",
      "Wall time: 145 ms\n"
     ]
    }
   ],
   "source": [
    "%%time\n",
    "mlPipelineDF = mlModel.transform(nlpPipelineDF)"
   ]
  },
  {
   "cell_type": "code",
   "execution_count": 24,
   "metadata": {},
   "outputs": [
    {
     "name": "stdout",
     "output_type": "stream",
     "text": [
      "+--------------------+--------------------+-------------------+--------------------+--------------------+\n",
      "|                text|      finished_chunk|           features|                 idf|   topicDistribution|\n",
      "+--------------------+--------------------+-------------------+--------------------+--------------------+\n",
      "|The human KCNJ9 (...|[The human KCNJ, ...|          (3,[],[])|           (3,[],[])|[0.0,0.0,0.0,0.0,...|\n",
      "|BACKGROUND: At pr...|[BACKGROUND, the ...|      (3,[0],[2.0])|(3,[0],[5.0816657...|[0.03203122232777...|\n",
      "|OBJECTIVE: To inv...|[OBJECTIVE, the r...|          (3,[],[])|           (3,[],[])|[0.0,0.0,0.0,0.0,...|\n",
      "|Combined EEG/fMRI...|[EEG/fMR, recordi...|          (3,[],[])|           (3,[],[])|[0.0,0.0,0.0,0.0,...|\n",
      "|Kohlschutter synd...|[Kohlschutter, sy...|          (3,[],[])|           (3,[],[])|[0.0,0.0,0.0,0.0,...|\n",
      "|Statistical analy...|[Statistical anal...|          (3,[],[])|           (3,[],[])|[0.0,0.0,0.0,0.0,...|\n",
      "|The synthetic DOX...|[The synthetic DO...|      (3,[2],[1.0])|(3,[2],[2.3103091...|[0.04816101692295...|\n",
      "|Our objective was...|[objective, blood...|(3,[0,1],[4.0,1.0])|(3,[0,1],[10.1633...|[0.01598361314590...|\n",
      "|We conducted a ph...|[a phase, II, stu...|          (3,[],[])|           (3,[],[])|[0.0,0.0,0.0,0.0,...|\n",
      "|\"Monomeric sarcos...|[Monomeric sarcos...|      (3,[1],[2.0])|(3,[1],[5.0783015...|[0.03203076666048...|\n",
      "|We presented the ...|[the tachinid, fl...|          (3,[],[])|           (3,[],[])|[0.0,0.0,0.0,0.0,...|\n",
      "|The literature de...|[The literature, ...|          (3,[],[])|           (3,[],[])|[0.0,0.0,0.0,0.0,...|\n",
      "|A novel approach ...|[A novel, approac...|          (3,[],[])|           (3,[],[])|[0.0,0.0,0.0,0.0,...|\n",
      "|An HPLC-ESI-MS-MS...|[I, I, method, th...|      (3,[0],[1.0])|(3,[0],[2.5408328...|[0.04814391033031...|\n",
      "|The localizing an...|[eye, head, durin...|          (3,[],[])|           (3,[],[])|[0.0,0.0,0.0,0.0,...|\n",
      "|OBJECTIVE: To eva...|[June, OBJECTIVE,...|          (3,[],[])|           (3,[],[])|[0.0,0.0,0.0,0.0,...|\n",
      "|For the construct...|[the construction...|          (3,[],[])|           (3,[],[])|[0.0,0.0,0.0,0.0,...|\n",
      "|We report the res...|[a screen, geneti...|          (3,[],[])|           (3,[],[])|[0.0,0.0,0.0,0.0,...|\n",
      "|Intraparenchymal ...|[Intraparenchymal...|          (3,[],[])|           (3,[],[])|[0.0,0.0,0.0,0.0,...|\n",
      "|It is known that ...|[Klinefelter, syn...|      (3,[2],[1.0])|(3,[2],[2.3103091...|[0.04816101692295...|\n",
      "+--------------------+--------------------+-------------------+--------------------+--------------------+\n",
      "only showing top 20 rows\n",
      "\n"
     ]
    }
   ],
   "source": [
    "mlPipelineDF.show()"
   ]
  },
  {
   "cell_type": "code",
   "execution_count": 25,
   "metadata": {},
   "outputs": [
    {
     "name": "stdout",
     "output_type": "stream",
     "text": [
      "The lower bound on the log likelihood of the entire corpus: -6398.161171643155\n",
      "The upper bound on perplexity: 1.251106994846139\n"
     ]
    }
   ],
   "source": [
    "%%time\n",
    "ldaModel = mlModel.stages[2]\n",
    "\n",
    "ll = ldaModel.logLikelihood(mlPipelineDF)\n",
    "lp = ldaModel.logPerplexity(mlPipelineDF)\n",
    "print(\"The lower bound on the log likelihood of the entire corpus: \" + str(ll))\n",
    "print(\"The upper bound on perplexity: \" + str(lp))\n"
   ]
  },
  {
   "cell_type": "code",
   "execution_count": 26,
   "metadata": {},
   "outputs": [
    {
     "name": "stdout",
     "output_type": "stream",
     "text": [
      "The topics described by their top-weighted terms:\n",
      "+-----+-----------+------------------------------------------------------------------+\n",
      "|topic|termIndices|termWeights                                                       |\n",
      "+-----+-----------+------------------------------------------------------------------+\n",
      "|0    |[2, 0, 1]  |[0.7876887969680446, 0.1346394774230584, 0.07767172560889692]     |\n",
      "|1    |[1, 2, 0]  |[0.9430415347300795, 0.030109588311868034, 0.026848876958052586]  |\n",
      "|2    |[2, 0, 1]  |[0.9935477161368587, 0.004148321791835057, 0.0023039620713063338] |\n",
      "|3    |[0, 2, 1]  |[0.936065526361783, 0.057030930370560715, 0.006903543267656342]   |\n",
      "|4    |[0, 2, 1]  |[0.35467818364632037, 0.33720574198641157, 0.30811607436726807]   |\n",
      "|5    |[0, 2, 1]  |[0.3606145766335865, 0.3244837665839638, 0.3149016567824498]      |\n",
      "|6    |[2, 0, 1]  |[0.3432113103200083, 0.33038981935530154, 0.3263988703246901]     |\n",
      "|7    |[0, 2, 1]  |[0.41745612904290647, 0.3100640016172902, 0.2724798693398032]     |\n",
      "|8    |[1, 2, 0]  |[0.9897315032370344, 0.0067792499596743055, 0.0034892468032913836]|\n",
      "|9    |[0, 1, 2]  |[0.9602925341605721, 0.03496700375888067, 0.004740462080547255]   |\n",
      "+-----+-----------+------------------------------------------------------------------+\n",
      "\n",
      "CPU times: user 2.66 ms, sys: 4.81 ms, total: 7.47 ms\n",
      "Wall time: 895 ms\n"
     ]
    }
   ],
   "source": [
    "%%time\n",
    "# Describe topics.\n",
    "topics = ldaModel.describeTopics(3)\n",
    "print(\"The topics described by their top-weighted terms:\")\n",
    "topics.show(truncate=False)\n"
   ]
  },
  {
   "cell_type": "code",
   "execution_count": 41,
   "metadata": {},
   "outputs": [
    {
     "name": "stdout",
     "output_type": "stream",
     "text": [
      "Learned topics (as distributions over vocab of 3 words):\n",
      "Topic 0:DenseMatrix([[  1.29551777,   0.93421984,   1.35343263, 108.21335739,\n",
      "                0.73581343,   0.80706986,   0.82055818,   3.00094254,\n",
      "                1.44194442, 486.82380145],\n",
      "             [  0.74736699,  32.81359253,   0.75169131,   0.79808045,\n",
      "                0.63921593,   0.70476251,   0.81064624,   1.95876016,\n",
      "              409.01028234,  17.72665005],\n",
      "             [  7.57923943,   1.04767789, 324.15515726,   6.59303038,\n",
      "                0.6995652 ,   0.72620766,   0.85240172,   2.22893902,\n",
      "                2.80155065,   2.40319454]])\n",
      "Topic 1:DenseMatrix([[  1.29551777,   0.93421984,   1.35343263, 108.21335739,\n",
      "                0.73581343,   0.80706986,   0.82055818,   3.00094254,\n",
      "                1.44194442, 486.82380145],\n",
      "             [  0.74736699,  32.81359253,   0.75169131,   0.79808045,\n",
      "                0.63921593,   0.70476251,   0.81064624,   1.95876016,\n",
      "              409.01028234,  17.72665005],\n",
      "             [  7.57923943,   1.04767789, 324.15515726,   6.59303038,\n",
      "                0.6995652 ,   0.72620766,   0.85240172,   2.22893902,\n",
      "                2.80155065,   2.40319454]])\n",
      "Topic 2:DenseMatrix([[  1.29551777,   0.93421984,   1.35343263, 108.21335739,\n",
      "                0.73581343,   0.80706986,   0.82055818,   3.00094254,\n",
      "                1.44194442, 486.82380145],\n",
      "             [  0.74736699,  32.81359253,   0.75169131,   0.79808045,\n",
      "                0.63921593,   0.70476251,   0.81064624,   1.95876016,\n",
      "              409.01028234,  17.72665005],\n",
      "             [  7.57923943,   1.04767789, 324.15515726,   6.59303038,\n",
      "                0.6995652 ,   0.72620766,   0.85240172,   2.22893902,\n",
      "                2.80155065,   2.40319454]])\n"
     ]
    }
   ],
   "source": [
    "# Output topics. Each is a distribution over words (matching word count vectors)\n",
    "print(\"Learned topics (as distributions over vocab of \" + str(ldaModel.vocabSize())\n",
    "      + \" words):\")\n",
    "\n",
    "topics = ldaModel.topicsMatrix()\n",
    "\n",
    "for topic in range(3):\n",
    "    print(\"Topic \" + str(topic) + \":\" + str(topics))\n",
    "#     for word in range(0, ldaModel.vocabSize()):\n",
    "#         print(\" \" + str(topics[word][topic]))\n"
   ]
  },
  {
   "cell_type": "code",
   "execution_count": null,
   "metadata": {},
   "outputs": [],
   "source": []
  }
 ],
 "metadata": {
  "kernelspec": {
   "display_name": "Python 3",
   "language": "python",
   "name": "python3"
  },
  "language_info": {
   "codemirror_mode": {
    "name": "ipython",
    "version": 3
   },
   "file_extension": ".py",
   "mimetype": "text/x-python",
   "name": "python",
   "nbconvert_exporter": "python",
   "pygments_lexer": "ipython3",
   "version": "3.6.8"
  }
 },
 "nbformat": 4,
 "nbformat_minor": 2
}
