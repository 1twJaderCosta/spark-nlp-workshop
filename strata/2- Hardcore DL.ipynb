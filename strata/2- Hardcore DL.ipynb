{
 "cells": [
  {
   "cell_type": "markdown",
   "metadata": {},
   "source": [
    "![JohnSnowLabs](https://nlp.johnsnowlabs.com/assets/images/logo.png)"
   ]
  },
  {
   "cell_type": "markdown",
   "metadata": {},
   "source": [
    "# Hardcore DL by Spark-NLP"
   ]
  },
  {
   "cell_type": "markdown",
   "metadata": {},
   "source": [
    "## Explain Documents with Deep Learning"
   ]
  },
  {
   "cell_type": "code",
   "execution_count": 2,
   "metadata": {},
   "outputs": [],
   "source": [
    "import sys\n",
    "\n",
    "#Spark ML and SQL\n",
    "from pyspark.ml import Pipeline, PipelineModel\n",
    "from pyspark.sql.functions import array_contains\n",
    "from pyspark.sql import SparkSession\n",
    "from pyspark.sql.types import StructType, StructField, IntegerType, StringType\n",
    "#Spark NLP\n",
    "import sparknlp\n",
    "from sparknlp.pretrained import PretrainedPipeline\n",
    "from sparknlp.annotator import *\n",
    "from sparknlp.common import RegexRule\n",
    "from sparknlp.base import *"
   ]
  },
  {
   "cell_type": "markdown",
   "metadata": {},
   "source": [
    "### Let's create a Spark Session for our app"
   ]
  },
  {
   "cell_type": "code",
   "execution_count": 3,
   "metadata": {},
   "outputs": [],
   "source": [
    "spark = sparknlp.start()"
   ]
  },
  {
   "cell_type": "code",
   "execution_count": 4,
   "metadata": {},
   "outputs": [
    {
     "name": "stdout",
     "output_type": "stream",
     "text": [
      "CPU times: user 7.87 ms, sys: 3.74 ms, total: 11.6 ms\n",
      "Wall time: 39.6 s\n"
     ]
    }
   ],
   "source": [
    "%%time\n",
    "pipeline = PretrainedPipeline('explain_document_dl', lang='en')"
   ]
  },
  {
   "cell_type": "markdown",
   "metadata": {},
   "source": [
    "We simply send the text we want to transform and the pipeline does the work."
   ]
  },
  {
   "cell_type": "code",
   "execution_count": 5,
   "metadata": {},
   "outputs": [
    {
     "name": "stdout",
     "output_type": "stream",
     "text": [
      "CPU times: user 52.6 ms, sys: 22.3 ms, total: 74.9 ms\n",
      "Wall time: 3.37 s\n"
     ]
    }
   ],
   "source": [
    "%%time\n",
    "text = 'He would love to visit many beautful cities wth you. He lives in an amazing country.'\n",
    "result = pipeline.annotate(text)"
   ]
  },
  {
   "cell_type": "markdown",
   "metadata": {},
   "source": [
    "We can see the output of each annotator below. This one is doing so many things at once!"
   ]
  },
  {
   "cell_type": "code",
   "execution_count": 6,
   "metadata": {
    "scrolled": false
   },
   "outputs": [
    {
     "data": {
      "text/plain": [
       "['stem',\n",
       " 'checked',\n",
       " 'lemma',\n",
       " 'document',\n",
       " 'pos',\n",
       " 'token',\n",
       " 'ner_con',\n",
       " 'ner',\n",
       " 'embeddings',\n",
       " 'sentence']"
      ]
     },
     "execution_count": 6,
     "metadata": {},
     "output_type": "execute_result"
    }
   ],
   "source": [
    "list(result.keys())"
   ]
  },
  {
   "cell_type": "code",
   "execution_count": 7,
   "metadata": {
    "scrolled": true
   },
   "outputs": [
    {
     "data": {
      "text/plain": [
       "['He would love to visit many beautful cities wth you.',\n",
       " 'He lives in an amazing country.']"
      ]
     },
     "execution_count": 7,
     "metadata": {},
     "output_type": "execute_result"
    }
   ],
   "source": [
    "result['sentence']"
   ]
  },
  {
   "cell_type": "code",
   "execution_count": 8,
   "metadata": {
    "scrolled": true
   },
   "outputs": [
    {
     "data": {
      "text/plain": [
       "['He',\n",
       " 'would',\n",
       " 'love',\n",
       " 'to',\n",
       " 'visit',\n",
       " 'many',\n",
       " 'beautful',\n",
       " 'city',\n",
       " 'wth',\n",
       " 'you',\n",
       " '.',\n",
       " 'He',\n",
       " 'life',\n",
       " 'in',\n",
       " 'an',\n",
       " 'amazing',\n",
       " 'country',\n",
       " '.']"
      ]
     },
     "execution_count": 8,
     "metadata": {},
     "output_type": "execute_result"
    }
   ],
   "source": [
    "result['lemma']"
   ]
  },
  {
   "cell_type": "code",
   "execution_count": 9,
   "metadata": {},
   "outputs": [
    {
     "data": {
      "text/plain": [
       "[('He', 'PRP'),\n",
       " ('Fould', 'MD'),\n",
       " ('love', 'VB'),\n",
       " ('to', 'TO'),\n",
       " ('list', 'VB'),\n",
       " ('many', 'JJ'),\n",
       " ('beautful', 'JJ'),\n",
       " ('ties', 'NNS'),\n",
       " ('with', 'NN'),\n",
       " ('you', 'PRP'),\n",
       " ('.', '.'),\n",
       " ('He', 'PRP'),\n",
       " ('live', 'VBZ'),\n",
       " ('in', 'IN'),\n",
       " ('an', 'DT'),\n",
       " ('main', 'JJ'),\n",
       " ('countrymen', 'NN'),\n",
       " ('.', '.')]"
      ]
     },
     "execution_count": 9,
     "metadata": {},
     "output_type": "execute_result"
    }
   ],
   "source": [
    "list(zip(result['checked'], result['pos']))"
   ]
  },
  {
   "cell_type": "code",
   "execution_count": 10,
   "metadata": {},
   "outputs": [
    {
     "data": {
      "text/plain": [
       "[('He', 'PRP'),\n",
       " ('Fould', 'MD'),\n",
       " ('love', 'VB'),\n",
       " ('to', 'TO'),\n",
       " ('list', 'VB'),\n",
       " ('many', 'JJ'),\n",
       " ('beautful', 'JJ'),\n",
       " ('ties', 'NNS'),\n",
       " ('with', 'NN'),\n",
       " ('you', 'PRP'),\n",
       " ('.', '.'),\n",
       " ('He', 'PRP'),\n",
       " ('live', 'VBZ'),\n",
       " ('in', 'IN'),\n",
       " ('an', 'DT'),\n",
       " ('main', 'JJ'),\n",
       " ('countrymen', 'NN'),\n",
       " ('.', '.')]"
      ]
     },
     "execution_count": 10,
     "metadata": {},
     "output_type": "execute_result"
    }
   ],
   "source": [
    "list(zip(result['checked'], result['pos']))"
   ]
  },
  {
   "cell_type": "markdown",
   "metadata": {},
   "source": [
    "### Now let's try to use this pipleine to explain a PDF file"
   ]
  },
  {
   "cell_type": "code",
   "execution_count": null,
   "metadata": {},
   "outputs": [],
   "source": [
    "%%time\n",
    "from sparknlp.ocr import OcrHelper\n",
    "data = OcrHelper().createDataset(spark, './immortal_text.pdf')\n",
    "data.show()"
   ]
  },
  {
   "cell_type": "markdown",
   "metadata": {},
   "source": [
    "We can see the output of each annotator below."
   ]
  },
  {
   "cell_type": "code",
   "execution_count": 6,
   "metadata": {
    "scrolled": true
   },
   "outputs": [
    {
     "name": "stdout",
     "output_type": "stream",
     "text": [
      "+--------------------+--------------------+\n",
      "|                 ner|             checked|\n",
      "+--------------------+--------------------+\n",
      "|[[named_entity, 0...|[[token, 0, 4, wo...|\n",
      "+--------------------+--------------------+\n",
      "\n"
     ]
    }
   ],
   "source": [
    "pipeline.transform(data).select(\"ner\", \"checked\").show()"
   ]
  },
  {
   "cell_type": "code",
   "execution_count": 6,
   "metadata": {
    "scrolled": true
   },
   "outputs": [
    {
     "name": "stdout",
     "output_type": "stream",
     "text": [
      "+--------------------+--------------------+\n",
      "|                 ner|             checked|\n",
      "+--------------------+--------------------+\n",
      "|[[named_entity, 0...|[[token, 0, 4, wo...|\n",
      "+--------------------+--------------------+\n",
      "\n"
     ]
    }
   ],
   "source": [
    "pipeline.transform(data).select(\"ner\", \"checked\").show()"
   ]
  },
  {
   "cell_type": "code",
   "execution_count": 13,
   "metadata": {},
   "outputs": [
    {
     "data": {
      "text/plain": [
       "[('would', 'B-sent'),\n",
       " ('have', 'O'),\n",
       " ('been', 'O'),\n",
       " ('a', 'O'),\n",
       " ('liberation', 'O'),\n",
       " (',', 'O'),\n",
       " ('a', 'B-sent'),\n",
       " ('joy', 'O'),\n",
       " (',', 'O'),\n",
       " ('and', 'B-sent'),\n",
       " ('a', 'O'),\n",
       " ('fiesta', 'O'),\n",
       " ('.', 'O'),\n",
       " ('He', 'B-sent'),\n",
       " ('sensed', 'O'),\n",
       " ('that', 'O'),\n",
       " ('had', 'O'),\n",
       " ('he', 'O'),\n",
       " ('been', 'O'),\n",
       " ('able', 'O'),\n",
       " ('to', 'O'),\n",
       " ('choose', 'O'),\n",
       " ('or', 'O'),\n",
       " ('dream', 'O'),\n",
       " ('his', 'O'),\n",
       " ('death', 'O'),\n",
       " ('that', 'O'),\n",
       " ('night', 'B-sent'),\n",
       " (',', 'O'),\n",
       " ('this', 'O'),\n",
       " ('is', 'O'),\n",
       " ('the', 'B-sent'),\n",
       " ('death', 'O'),\n",
       " ('he', 'O'),\n",
       " ('would', 'O'),\n",
       " ('have', 'O'),\n",
       " ('dreamed', 'O'),\n",
       " ('or', 'O'),\n",
       " ('chosen', 'O'),\n",
       " ('.', 'O'),\n",
       " ('Dahlmann', 'B-sent'),\n",
       " ('firmly', 'O'),\n",
       " ('grips', 'O'),\n",
       " ('the', 'O'),\n",
       " ('knife', 'O'),\n",
       " (',', 'O'),\n",
       " ('which', 'O'),\n",
       " ('he', 'B-sent'),\n",
       " ('may', 'O'),\n",
       " ('have', 'B-sent'),\n",
       " ('no', 'O'),\n",
       " ('idea', 'O'),\n",
       " ('how', 'O'),\n",
       " ('to', 'O'),\n",
       " ('manage', 'O'),\n",
       " (',', 'O'),\n",
       " ('and', 'B-sent'),\n",
       " ('steps', 'O'),\n",
       " ('out', 'O'),\n",
       " ('into', 'O'),\n",
       " ('the', 'O'),\n",
       " ('plains', 'O'),\n",
       " ('.', 'O'),\n",
       " ('The', 'B-sent'),\n",
       " ('Aleph', 'O'),\n",
       " ('(', 'O'),\n",
       " ('1949', 'O'),\n",
       " (')', 'O'),\n",
       " ('The', 'B-sent'),\n",
       " ('Immortal', 'O'),\n",
       " ('Solomon', 'O'),\n",
       " ('saith', 'O'),\n",
       " (':', 'O'),\n",
       " ('There', 'B-sent'),\n",
       " ('is', 'O'),\n",
       " ('no', 'O'),\n",
       " ('new', 'O'),\n",
       " ('thing', 'O'),\n",
       " ('upon', 'O'),\n",
       " ('the', 'O'),\n",
       " ('earth', 'O'),\n",
       " ('.', 'O'),\n",
       " ('So', 'O'),\n",
       " ('that', 'O'),\n",
       " ('as', 'O'),\n",
       " ('Plato', 'O'),\n",
       " ('had', 'O'),\n",
       " ('an', 'O'),\n",
       " ('imagination', 'O'),\n",
       " (',', 'O'),\n",
       " ('that', 'O'),\n",
       " ('all', 'O'),\n",
       " ('knowledge', 'O'),\n",
       " ('was', 'O'),\n",
       " ('but', 'O'),\n",
       " ('remembrance', 'B-sent'),\n",
       " (';', 'O'),\n",
       " ('so', 'B-sent'),\n",
       " ('Solomon', 'O'),\n",
       " ('giveth', 'O'),\n",
       " ('his', 'O'),\n",
       " ('sentence', 'O'),\n",
       " (',', 'O'),\n",
       " ('that', 'O'),\n",
       " ('all', 'O'),\n",
       " ('novelty', 'O'),\n",
       " ('is', 'O'),\n",
       " ('but', 'O'),\n",
       " ('oblivion', 'B-sent'),\n",
       " ('.', 'O'),\n",
       " ('Francis', 'B-sent'),\n",
       " ('Bacon', 'O'),\n",
       " (':', 'O'),\n",
       " ('Essays', 'B-sent'),\n",
       " (',', 'O'),\n",
       " ('LVIII', 'B-sent'),\n",
       " ('In', 'O'),\n",
       " ('London', 'O'),\n",
       " (',', 'O'),\n",
       " ('in', 'B-sent'),\n",
       " ('early', 'O'),\n",
       " ('June', 'O'),\n",
       " ('of', 'O'),\n",
       " ('the', 'O'),\n",
       " ('year', 'O'),\n",
       " ('1929', 'O'),\n",
       " (',', 'O')]"
      ]
     },
     "execution_count": 13,
     "metadata": {},
     "output_type": "execute_result"
    }
   ],
   "source": [
    "result = pipeline.annotate(local_data)\n",
    "list(zip(result['token'], result['ner']))"
   ]
  }
 ],
 "metadata": {
  "kernelspec": {
   "display_name": "Python 3",
   "language": "python",
   "name": "python3"
  },
  "language_info": {
   "codemirror_mode": {
    "name": "ipython",
    "version": 3
   },
   "file_extension": ".py",
   "mimetype": "text/x-python",
   "name": "python",
   "nbconvert_exporter": "python",
   "pygments_lexer": "ipython3",
   "version": "3.6.8"
  }
 },
 "nbformat": 4,
 "nbformat_minor": 2
}
