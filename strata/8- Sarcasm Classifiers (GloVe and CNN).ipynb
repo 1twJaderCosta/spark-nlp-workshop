{
 "cells": [
  {
   "cell_type": "code",
   "execution_count": 2,
   "metadata": {
    "scrolled": false
   },
   "outputs": [
    {
     "name": "stdout",
     "output_type": "stream",
     "text": [
      "--2019-03-25 12:07:07--  https://s3.amazonaws.com/auxdata.johnsnowlabs.com/public/resources/en/sarcasm/train-balanced-sarcasm.csv\n",
      "Resolving s3.amazonaws.com (s3.amazonaws.com)... 52.217.1.182\n",
      "Connecting to s3.amazonaws.com (s3.amazonaws.com)|52.217.1.182|:443... connected.\n",
      "HTTP request sent, awaiting response... 200 OK\n",
      "Length: 255268960 (243M) [text/csv]\n",
      "Saving to: ‘/tmp/train-balanced-sarcasm.csv’\n",
      "\n",
      "train-balanced-sarc 100%[===================>] 243.44M  11.3MB/s    in 20s     \n",
      "\n",
      "2019-03-25 12:07:28 (12.3 MB/s) - ‘/tmp/train-balanced-sarcasm.csv’ saved [255268960/255268960]\n",
      "\n"
     ]
    }
   ],
   "source": [
    "! wget -N https://s3.amazonaws.com/auxdata.johnsnowlabs.com/public/resources/en/sarcasm/train-balanced-sarcasm.csv -P /tmp"
   ]
  },
  {
   "cell_type": "code",
   "execution_count": 3,
   "metadata": {},
   "outputs": [],
   "source": [
    "import sys\n",
    "import time\n",
    "\n",
    "from pyspark.sql import SparkSession\n",
    "packages = [\n",
    "    'JohnSnowLabs:spark-nlp:2.0.1'\n",
    "]\n",
    "spark = SparkSession \\\n",
    "    .builder \\\n",
    "    .appName(\"ML SQL session\") \\\n",
    "    .config('spark.jars.packages', ','.join(packages)) \\\n",
    "    .config('spark.executor.instances','4') \\\n",
    "    .config(\"spark.executor.memory\", \"16g\") \\\n",
    "    .config(\"spark.driver.memory\",\"12g\") \\\n",
    "    .getOrCreate()"
   ]
  },
  {
   "cell_type": "code",
   "execution_count": 4,
   "metadata": {
    "scrolled": true
   },
   "outputs": [
    {
     "name": "stdout",
     "output_type": "stream",
     "text": [
      "root\n",
      " |-- label: integer (nullable = true)\n",
      " |-- comment: string (nullable = true)\n",
      " |-- author: string (nullable = true)\n",
      " |-- subreddit: string (nullable = true)\n",
      " |-- score: string (nullable = true)\n",
      " |-- ups: string (nullable = true)\n",
      " |-- downs: string (nullable = true)\n",
      " |-- date: string (nullable = true)\n",
      " |-- created_utc: string (nullable = true)\n",
      " |-- parent_comment: string (nullable = true)\n",
      "\n"
     ]
    },
    {
     "data": {
      "text/plain": [
       "[Row(count(1)=1010826)]"
      ]
     },
     "execution_count": 4,
     "metadata": {},
     "output_type": "execute_result"
    }
   ],
   "source": [
    "from pyspark.sql import SQLContext\n",
    "\n",
    "sql = SQLContext(spark)\n",
    "\n",
    "trainBalancedSarcasmDF = spark.read.option(\"header\", True).option(\"inferSchema\", True).csv(\"/tmp/train-balanced-sarcasm.csv\")\n",
    "trainBalancedSarcasmDF.printSchema()\n",
    "\n",
    "# Let's create a temp view (table) for our SQL queries\n",
    "trainBalancedSarcasmDF.createOrReplaceTempView('data')\n",
    "\n",
    "sql.sql('SELECT COUNT(*) FROM data').collect()"
   ]
  },
  {
   "cell_type": "code",
   "execution_count": 5,
   "metadata": {},
   "outputs": [
    {
     "name": "stdout",
     "output_type": "stream",
     "text": [
      "<class 'pyspark.sql.dataframe.DataFrame'>\n",
      "root\n",
      " |-- label: integer (nullable = true)\n",
      " |-- comment: string (nullable = true)\n",
      "\n",
      "+-----+--------------------+\n",
      "|label|             comment|\n",
      "+-----+--------------------+\n",
      "|    0|Yeah, I get that ...|\n",
      "|    0|The blazers and M...|\n",
      "|    0|They're favored t...|\n",
      "|    0|deadass don't kil...|\n",
      "|    0|Yep can confirm I...|\n",
      "|    0|do you find arian...|\n",
      "|    0|What's your weird...|\n",
      "|    0|Probably Sephirot...|\n",
      "|    0|What to upgrade? ...|\n",
      "|    0|Probably count Ka...|\n",
      "|    0|I bet if that mon...|\n",
      "|    0|James Shields Wil...|\n",
      "|    0|There's no time t...|\n",
      "|    0|Team Specific Thr...|\n",
      "|    0|Ill give you a hi...|\n",
      "|    0|Star Wars, easy. ...|\n",
      "|    0|You're adorable.\n",
      "...|\n",
      "|    0|He actually acts ...|\n",
      "|    0|Clinton struggles...|\n",
      "|    0|Is that the Older...|\n",
      "+-----+--------------------+\n",
      "only showing top 20 rows\n",
      "\n"
     ]
    }
   ],
   "source": [
    "df = sql.sql('select label,concat(parent_comment,\"\\n\",comment) as comment from data where comment is not null and parent_comment is not null limit 100000')\n",
    "print(type(df))\n",
    "df.printSchema()\n",
    "df.show()"
   ]
  },
  {
   "cell_type": "code",
   "execution_count": 6,
   "metadata": {},
   "outputs": [
    {
     "name": "stdout",
     "output_type": "stream",
     "text": [
      "+-----+--------------------+--------------------+--------------------+--------------------+\n",
      "|label|             comment|            document|            sentence|               token|\n",
      "+-----+--------------------+--------------------+--------------------+--------------------+\n",
      "|    0|Yeah, I get that ...|[[document, 0, 90...|[[document, 0, 25...|[[token, 0, 3, Ye...|\n",
      "|    0|The blazers and M...|[[document, 0, 20...|[[document, 0, 13...|[[token, 0, 2, Th...|\n",
      "|    0|They're favored t...|[[document, 0, 14...|[[document, 0, 22...|[[token, 0, 3, Th...|\n",
      "|    0|deadass don't kil...|[[document, 0, 90...|[[document, 0, 90...|[[token, 0, 6, de...|\n",
      "|    0|Yep can confirm I...|[[document, 0, 11...|[[document, 0, 48...|[[token, 0, 2, Ye...|\n",
      "|    0|do you find arian...|[[document, 0, 14...|[[document, 0, 14...|[[token, 0, 1, do...|\n",
      "|    0|What's your weird...|[[document, 0, 98...|[[document, 0, 52...|[[token, 0, 3, Wh...|\n",
      "|    0|Probably Sephirot...|[[document, 0, 14...|[[document, 0, 18...|[[token, 0, 7, Pr...|\n",
      "|    0|What to upgrade? ...|[[document, 0, 77...|[[document, 0, 15...|[[token, 0, 3, Wh...|\n",
      "|    0|Probably count Ka...|[[document, 0, 33...|[[document, 0, 93...|[[token, 0, 7, Pr...|\n",
      "|    0|I bet if that mon...|[[document, 0, 20...|[[document, 0, 11...|[[token, 0, 0, I,...|\n",
      "|    0|James Shields Wil...|[[document, 0, 76...|[[document, 0, 76...|[[token, 0, 4, Ja...|\n",
      "|    0|There's no time t...|[[document, 0, 99...|[[document, 0, 78...|[[token, 0, 4, Th...|\n",
      "|    0|Team Specific Thr...|[[document, 0, 51...|[[document, 0, 15...|[[token, 0, 3, Te...|\n",
      "|    0|Ill give you a hi...|[[document, 0, 10...|[[document, 0, 19...|[[token, 0, 2, Il...|\n",
      "|    0|Star Wars, easy. ...|[[document, 0, 75...|[[document, 0, 15...|[[token, 0, 3, St...|\n",
      "|    0|You're adorable.\n",
      "...|[[document, 0, 22...|[[document, 0, 15...|[[token, 0, 2, Yo...|\n",
      "|    0|He actually acts ...|[[document, 0, 27...|[[document, 0, 49...|[[token, 0, 1, He...|\n",
      "|    0|Clinton struggles...|[[document, 0, 13...|[[document, 0, 13...|[[token, 0, 6, Cl...|\n",
      "|    0|Is that the Older...|[[document, 0, 69...|[[document, 0, 38...|[[token, 0, 1, Is...|\n",
      "+-----+--------------------+--------------------+--------------------+--------------------+\n",
      "only showing top 20 rows\n",
      "\n",
      "70136\n",
      "29864\n",
      "CPU times: user 210 ms, sys: 50.3 ms, total: 261 ms\n",
      "Wall time: 2min 41s\n"
     ]
    }
   ],
   "source": [
    "%%time\n",
    "\n",
    "from sparknlp.annotator import *\n",
    "from sparknlp.common import *\n",
    "from sparknlp.base import *\n",
    "\n",
    "\n",
    "from pyspark.ml import Pipeline\n",
    "\n",
    "\n",
    "document_assembler = DocumentAssembler() \\\n",
    "    .setInputCol(\"comment\") \\\n",
    "    .setOutputCol(\"document\")\n",
    "    \n",
    "sentence_detector = SentenceDetector() \\\n",
    "    .setInputCols([\"document\"]) \\\n",
    "    .setOutputCol(\"sentence\") \\\n",
    "    .setUseAbbreviations(True)\n",
    "    \n",
    "tokenizer = Tokenizer() \\\n",
    "  .setInputCols([\"sentence\"]) \\\n",
    "  .setOutputCol(\"token\")\n",
    "\n",
    "nlp_pipeline = Pipeline(stages=[document_assembler, sentence_detector, tokenizer])\n",
    "nlp_model = nlp_pipeline.fit(df)\n",
    "\n",
    "processed = nlp_model.transform(df).persist()\n",
    "processed.count()\n",
    "processed.show()\n",
    "\n",
    "train, test = processed.randomSplit(weights=[0.7, 0.3], seed=123)\n",
    "print(train.count())\n",
    "print(test.count())"
   ]
  },
  {
   "cell_type": "code",
   "execution_count": 7,
   "metadata": {},
   "outputs": [
    {
     "name": "stdout",
     "output_type": "stream",
     "text": [
      "+-----+--------------------+--------------------+--------------------+--------------------+--------------------+\n",
      "|label|             comment|            document|            sentence|               token|          embeddings|\n",
      "+-----+--------------------+--------------------+--------------------+--------------------+--------------------+\n",
      "|    0|              !\n",
      "Goes|[[document, 0, 5,...|[[document, 0, 5,...|[[token, 0, 0, !,...|[[word_embeddings...|\n",
      "|    0|!completed\n",
      "!compl...|[[document, 0, 20...|[[document, 0, 20...|[[token, 0, 0, !,...|[[word_embeddings...|\n",
      "|    0|\"\"\" \"\"Very Right ...|[[document, 0, 10...|[[document, 0, 10...|[[token, 0, 2, \"\"...|[[word_embeddings...|\n",
      "|    0|\"\"\" Perhaps you n...|[[document, 0, 61...|[[document, 0, 46...|[[token, 0, 2, \"\"...|[[word_embeddings...|\n",
      "|    0|\"\"\" This covering...|[[document, 0, 33...|[[document, 0, 84...|[[token, 0, 2, \"\"...|[[word_embeddings...|\n",
      "|    0|\"\"\"*Kirk\n",
      "I am sin...|[[document, 0, 44...|[[document, 0, 44...|[[token, 0, 3, \"\"...|[[word_embeddings...|\n",
      "|    0|\"\"\"*looks at hand...|[[document, 0, 73...|[[document, 0, 73...|[[token, 0, 3, \"\"...|[[word_embeddings...|\n",
      "|    0|\"\"\"+100\"\" indicat...|[[document, 0, 10...|[[document, 0, 10...|[[token, 0, 3, \"\"...|[[word_embeddings...|\n",
      "|    0|\"\"\".$witty_remark...|[[document, 0, 39...|[[document, 0, 3,...|[[token, 0, 3, \"\"...|[[word_embeddings...|\n",
      "|    0|\"\"\"... and Fancy ...|[[document, 0, 60...|[[document, 0, 60...|[[token, 0, 5, \"\"...|[[word_embeddings...|\n",
      "|    0|\"\"\"...and then th...|[[document, 0, 20...|[[document, 0, 20...|[[token, 0, 8, \"\"...|[[word_embeddings...|\n",
      "|    0|\"\"\"...newtons.\"\" ...|[[document, 0, 72...|[[document, 0, 72...|[[token, 0, 15, \"...|[[word_embeddings...|\n",
      "|    0|\"\"\"100 level and ...|[[document, 0, 19...|[[document, 0, 19...|[[token, 0, 2, \"\"...|[[word_embeddings...|\n",
      "|    0|\"\"\"8 operators.\"\"...|[[document, 0, 15...|[[document, 0, 15...|[[token, 0, 2, \"\"...|[[word_embeddings...|\n",
      "|    0|\"\"\"@wikileaks - A...|[[document, 0, 42...|[[document, 0, 42...|[[token, 0, 3, \"\"...|[[word_embeddings...|\n",
      "|    0|\"\"\"A Cyborg... Ni...|[[document, 0, 44...|[[document, 0, 13...|[[token, 0, 2, \"\"...|[[word_embeddings...|\n",
      "|    0|\"\"\"A Victoria's S...|[[document, 0, 13...|[[document, 0, 13...|[[token, 0, 2, \"\"...|[[word_embeddings...|\n",
      "|    0|\"\"\"A basic aspect...|[[document, 0, 44...|[[document, 0, 96...|[[token, 0, 2, \"\"...|[[word_embeddings...|\n",
      "|    0|\"\"\"A sense of pur...|[[document, 0, 52...|[[document, 0, 52...|[[token, 0, 2, \"\"...|[[word_embeddings...|\n",
      "|    0|\"\"\"Agreed. I thin...|[[document, 0, 13...|[[document, 0, 9,...|[[token, 0, 2, \"\"...|[[word_embeddings...|\n",
      "+-----+--------------------+--------------------+--------------------+--------------------+--------------------+\n",
      "only showing top 20 rows\n",
      "\n",
      "CPU times: user 13.6 ms, sys: 5.32 ms, total: 19 ms\n",
      "Wall time: 9.3 s\n"
     ]
    }
   ],
   "source": [
    "%%time\n",
    "\n",
    "glove =  WordEmbeddingsModel.pretrained()\n",
    "train_featurized =glove.transform(train)\n",
    "train_featurized.count()\n",
    "train_featurized.show()"
   ]
  },
  {
   "cell_type": "code",
   "execution_count": 8,
   "metadata": {},
   "outputs": [
    {
     "name": "stdout",
     "output_type": "stream",
     "text": [
      "CPU times: user 6.38 ms, sys: 3.04 ms, total: 9.42 ms\n",
      "Wall time: 115 ms\n"
     ]
    }
   ],
   "source": [
    "%%time\n",
    "\n",
    "test_featurized =glove.transform(test)"
   ]
  },
  {
   "cell_type": "code",
   "execution_count": 9,
   "metadata": {},
   "outputs": [
    {
     "name": "stdout",
     "output_type": "stream",
     "text": [
      "CPU times: user 2min 22s, sys: 3min 25s, total: 5min 48s\n",
      "Wall time: 12min 53s\n"
     ]
    }
   ],
   "source": [
    "%%time\n",
    "\n",
    "x_train_df = train_featurized.select(['embeddings']).toPandas()\n",
    "y_train_df = train_featurized.select(['label']).toPandas()\n",
    "x_test_df = test_featurized.select(['embeddings']).toPandas()\n",
    "y_test_df = test_featurized.select(['label']).toPandas()"
   ]
  },
  {
   "cell_type": "code",
   "execution_count": 10,
   "metadata": {},
   "outputs": [
    {
     "name": "stdout",
     "output_type": "stream",
     "text": [
      "Train Labels:\n",
      " 0    40466\n",
      "1    29670\n",
      "Name: label, dtype: int64\n",
      "Test Labels:\n",
      " 0    17224\n",
      "1    12640\n",
      "Name: label, dtype: int64\n"
     ]
    }
   ],
   "source": [
    "print('Train Labels:\\n',y_train_df.label.value_counts())\n",
    "print('Test Labels:\\n',y_test_df.label.value_counts())"
   ]
  },
  {
   "cell_type": "code",
   "execution_count": 11,
   "metadata": {},
   "outputs": [
    {
     "name": "stdout",
     "output_type": "stream",
     "text": [
      "CPU times: user 42.5 s, sys: 31.2 s, total: 1min 13s\n",
      "Wall time: 2min 43s\n"
     ]
    }
   ],
   "source": [
    "%%time\n",
    "\n",
    "import numpy as np\n",
    "def get_features(row):\n",
    "    result = []\n",
    "    for tk in row:\n",
    "      result.append(tk['embeddings'])\n",
    "    return np.array(result)\n",
    "\n",
    "x_train_df['features'] = x_train_df['embeddings'].apply(lambda z: get_features(z))\n",
    "# x_train\n",
    "x_test_df['features'] = x_test_df['embeddings'].apply(lambda z: get_features(z))\n",
    "# x_test.drop(['embeddings'],axis=1,inplace=True)\n",
    "\n",
    "x_train = x_train_df['features'].values\n",
    "x_test = x_test_df['features'].values\n",
    "y_train = y_train_df['label'].values\n",
    "y_test = y_test_df['label'].values"
   ]
  },
  {
   "cell_type": "code",
   "execution_count": 12,
   "metadata": {},
   "outputs": [
    {
     "name": "stdout",
     "output_type": "stream",
     "text": [
      "CPU times: user 5.1 s, sys: 10.1 s, total: 15.2 s\n",
      "Wall time: 16.4 s\n"
     ]
    }
   ],
   "source": [
    "%%time\n",
    "\n",
    "from keras.preprocessing import sequence\n",
    "from keras.models import Sequential\n",
    "from keras.layers import Dense, Dropout, Activation\n",
    "from keras.layers import Embedding\n",
    "from keras.layers import Conv1D, GlobalMaxPooling1D\n",
    "\n",
    "# set parameters for our model:\n",
    "maxlen = 100 #max 50 words per article\n",
    "batch_size = 32 #size of the batch \n",
    "filters = 50 #dimension of filters for the convolutional layer\n",
    "kernel_size = 3 #size of the kernel used in the convolutional layer\n",
    "hidden_dims = 250 #dimension of the hidden layer\n",
    "epochs = 5 #number of training epochs\n",
    "\n",
    "x_train = sequence.pad_sequences(x_train, maxlen=maxlen)\n",
    "x_test = sequence.pad_sequences(x_test, maxlen=maxlen)"
   ]
  },
  {
   "cell_type": "code",
   "execution_count": 13,
   "metadata": {
    "scrolled": false
   },
   "outputs": [
    {
     "name": "stdout",
     "output_type": "stream",
     "text": [
      "Build model...\n",
      "Train on 70136 samples, validate on 29864 samples\n",
      "Epoch 1/5\n",
      "70136/70136 [==============================] - 83s 1ms/step - loss: 0.6554 - acc: 0.6178 - mean_absolute_error: 0.4620 - val_loss: 0.6464 - val_acc: 0.6298 - val_mean_absolute_error: 0.4492\n",
      "Epoch 2/5\n",
      "70136/70136 [==============================] - 79s 1ms/step - loss: 0.6289 - acc: 0.6495 - mean_absolute_error: 0.4384 - val_loss: 0.6391 - val_acc: 0.6387 - val_mean_absolute_error: 0.4506\n",
      "Epoch 3/5\n",
      "70136/70136 [==============================] - 78s 1ms/step - loss: 0.6095 - acc: 0.6687 - mean_absolute_error: 0.4216 - val_loss: 0.6379 - val_acc: 0.6429 - val_mean_absolute_error: 0.4368\n",
      "Epoch 4/5\n",
      "70136/70136 [==============================] - 80s 1ms/step - loss: 0.5913 - acc: 0.6862 - mean_absolute_error: 0.4055 - val_loss: 0.6522 - val_acc: 0.6226 - val_mean_absolute_error: 0.4489\n",
      "Epoch 5/5\n",
      "70136/70136 [==============================] - 83s 1ms/step - loss: 0.5737 - acc: 0.7012 - mean_absolute_error: 0.3908 - val_loss: 0.6712 - val_acc: 0.6373 - val_mean_absolute_error: 0.4196\n",
      "CPU times: user 21min 34s, sys: 3min 2s, total: 24min 36s\n",
      "Wall time: 6min 53s\n"
     ]
    }
   ],
   "source": [
    "%%time\n",
    "\n",
    "print('Build model...')\n",
    "model = Sequential()\n",
    "\n",
    "# we add a Convolution1D, which will learn filters\n",
    "# word group filters of size filter_length:\n",
    "model.add(Conv1D(filters,\n",
    "                 kernel_size,\n",
    "                 padding='valid',\n",
    "                 activation='relu',\n",
    "                 strides=1))\n",
    "# we use max pooling:\n",
    "model.add(GlobalMaxPooling1D())\n",
    "\n",
    "# We add a vanilla hidden layer:\n",
    "model.add(Dense(hidden_dims))\n",
    "model.add(Dropout(0.2))\n",
    "model.add(Activation('relu'))\n",
    "\n",
    "# We project onto a single unit output layer, and squash it with a sigmoid:\n",
    "model.add(Dense(1))\n",
    "model.add(Activation('sigmoid'))\n",
    "\n",
    "from keras import backend as K\n",
    "\n",
    "\n",
    "model.compile(loss='binary_crossentropy',\n",
    "              optimizer='adam',\n",
    "              metrics=['accuracy','mae'])\n",
    "\n",
    "model.fit(x_train, y_train,\n",
    "          batch_size=batch_size,\n",
    "          epochs=epochs,\n",
    "          validation_data=(x_test, y_test))"
   ]
  },
  {
   "cell_type": "code",
   "execution_count": 14,
   "metadata": {},
   "outputs": [
    {
     "data": {
      "image/svg+xml": [
       "<svg height=\"556pt\" viewBox=\"0.00 0.00 300.00 556.00\" width=\"300pt\" xmlns=\"http://www.w3.org/2000/svg\" xmlns:xlink=\"http://www.w3.org/1999/xlink\">\n",
       "<g class=\"graph\" id=\"graph0\" transform=\"scale(1 1) rotate(0) translate(4 552)\">\n",
       "<title>G</title>\n",
       "<polygon fill=\"#ffffff\" points=\"-4,4 -4,-552 296,-552 296,4 -4,4\" stroke=\"transparent\"/>\n",
       "<!-- 61795367736 -->\n",
       "<g class=\"node\" id=\"node1\">\n",
       "<title>61795367736</title>\n",
       "<polygon fill=\"none\" points=\"82.5,-438.5 82.5,-474.5 209.5,-474.5 209.5,-438.5 82.5,-438.5\" stroke=\"#000000\"/>\n",
       "<text fill=\"#000000\" font-family=\"Times,serif\" font-size=\"14.00\" text-anchor=\"middle\" x=\"146\" y=\"-452.8\">conv1d_1: Conv1D</text>\n",
       "</g>\n",
       "<!-- 61795368128 -->\n",
       "<g class=\"node\" id=\"node2\">\n",
       "<title>61795368128</title>\n",
       "<polygon fill=\"none\" points=\"0,-365.5 0,-401.5 292,-401.5 292,-365.5 0,-365.5\" stroke=\"#000000\"/>\n",
       "<text fill=\"#000000\" font-family=\"Times,serif\" font-size=\"14.00\" text-anchor=\"middle\" x=\"146\" y=\"-379.8\">global_max_pooling1d_1: GlobalMaxPooling1D</text>\n",
       "</g>\n",
       "<!-- 61795367736&#45;&gt;61795368128 -->\n",
       "<g class=\"edge\" id=\"edge2\">\n",
       "<title>61795367736-&gt;61795368128</title>\n",
       "<path d=\"M146,-438.4551C146,-430.3828 146,-420.6764 146,-411.6817\" fill=\"none\" stroke=\"#000000\"/>\n",
       "<polygon fill=\"#000000\" points=\"149.5001,-411.5903 146,-401.5904 142.5001,-411.5904 149.5001,-411.5903\" stroke=\"#000000\"/>\n",
       "</g>\n",
       "<!-- 61795368240 -->\n",
       "<g class=\"node\" id=\"node3\">\n",
       "<title>61795368240</title>\n",
       "<polygon fill=\"none\" points=\"93.5,-292.5 93.5,-328.5 198.5,-328.5 198.5,-292.5 93.5,-292.5\" stroke=\"#000000\"/>\n",
       "<text fill=\"#000000\" font-family=\"Times,serif\" font-size=\"14.00\" text-anchor=\"middle\" x=\"146\" y=\"-306.8\">dense_1: Dense</text>\n",
       "</g>\n",
       "<!-- 61795368128&#45;&gt;61795368240 -->\n",
       "<g class=\"edge\" id=\"edge3\">\n",
       "<title>61795368128-&gt;61795368240</title>\n",
       "<path d=\"M146,-365.4551C146,-357.3828 146,-347.6764 146,-338.6817\" fill=\"none\" stroke=\"#000000\"/>\n",
       "<polygon fill=\"#000000\" points=\"149.5001,-338.5903 146,-328.5904 142.5001,-338.5904 149.5001,-338.5903\" stroke=\"#000000\"/>\n",
       "</g>\n",
       "<!-- 61795368632 -->\n",
       "<g class=\"node\" id=\"node4\">\n",
       "<title>61795368632</title>\n",
       "<polygon fill=\"none\" points=\"82,-219.5 82,-255.5 210,-255.5 210,-219.5 82,-219.5\" stroke=\"#000000\"/>\n",
       "<text fill=\"#000000\" font-family=\"Times,serif\" font-size=\"14.00\" text-anchor=\"middle\" x=\"146\" y=\"-233.8\">dropout_1: Dropout</text>\n",
       "</g>\n",
       "<!-- 61795368240&#45;&gt;61795368632 -->\n",
       "<g class=\"edge\" id=\"edge4\">\n",
       "<title>61795368240-&gt;61795368632</title>\n",
       "<path d=\"M146,-292.4551C146,-284.3828 146,-274.6764 146,-265.6817\" fill=\"none\" stroke=\"#000000\"/>\n",
       "<polygon fill=\"#000000\" points=\"149.5001,-265.5903 146,-255.5904 142.5001,-265.5904 149.5001,-265.5903\" stroke=\"#000000\"/>\n",
       "</g>\n",
       "<!-- 61795368688 -->\n",
       "<g class=\"node\" id=\"node5\">\n",
       "<title>61795368688</title>\n",
       "<polygon fill=\"none\" points=\"70,-146.5 70,-182.5 222,-182.5 222,-146.5 70,-146.5\" stroke=\"#000000\"/>\n",
       "<text fill=\"#000000\" font-family=\"Times,serif\" font-size=\"14.00\" text-anchor=\"middle\" x=\"146\" y=\"-160.8\">activation_1: Activation</text>\n",
       "</g>\n",
       "<!-- 61795368632&#45;&gt;61795368688 -->\n",
       "<g class=\"edge\" id=\"edge5\">\n",
       "<title>61795368632-&gt;61795368688</title>\n",
       "<path d=\"M146,-219.4551C146,-211.3828 146,-201.6764 146,-192.6817\" fill=\"none\" stroke=\"#000000\"/>\n",
       "<polygon fill=\"#000000\" points=\"149.5001,-192.5903 146,-182.5904 142.5001,-192.5904 149.5001,-192.5903\" stroke=\"#000000\"/>\n",
       "</g>\n",
       "<!-- 61795368744 -->\n",
       "<g class=\"node\" id=\"node6\">\n",
       "<title>61795368744</title>\n",
       "<polygon fill=\"none\" points=\"93.5,-73.5 93.5,-109.5 198.5,-109.5 198.5,-73.5 93.5,-73.5\" stroke=\"#000000\"/>\n",
       "<text fill=\"#000000\" font-family=\"Times,serif\" font-size=\"14.00\" text-anchor=\"middle\" x=\"146\" y=\"-87.8\">dense_2: Dense</text>\n",
       "</g>\n",
       "<!-- 61795368688&#45;&gt;61795368744 -->\n",
       "<g class=\"edge\" id=\"edge6\">\n",
       "<title>61795368688-&gt;61795368744</title>\n",
       "<path d=\"M146,-146.4551C146,-138.3828 146,-128.6764 146,-119.6817\" fill=\"none\" stroke=\"#000000\"/>\n",
       "<polygon fill=\"#000000\" points=\"149.5001,-119.5903 146,-109.5904 142.5001,-119.5904 149.5001,-119.5903\" stroke=\"#000000\"/>\n",
       "</g>\n",
       "<!-- 62079623408 -->\n",
       "<g class=\"node\" id=\"node7\">\n",
       "<title>62079623408</title>\n",
       "<polygon fill=\"none\" points=\"70,-.5 70,-36.5 222,-36.5 222,-.5 70,-.5\" stroke=\"#000000\"/>\n",
       "<text fill=\"#000000\" font-family=\"Times,serif\" font-size=\"14.00\" text-anchor=\"middle\" x=\"146\" y=\"-14.8\">activation_2: Activation</text>\n",
       "</g>\n",
       "<!-- 61795368744&#45;&gt;62079623408 -->\n",
       "<g class=\"edge\" id=\"edge7\">\n",
       "<title>61795368744-&gt;62079623408</title>\n",
       "<path d=\"M146,-73.4551C146,-65.3828 146,-55.6764 146,-46.6817\" fill=\"none\" stroke=\"#000000\"/>\n",
       "<polygon fill=\"#000000\" points=\"149.5001,-46.5903 146,-36.5904 142.5001,-46.5904 149.5001,-46.5903\" stroke=\"#000000\"/>\n",
       "</g>\n",
       "<!-- 62079623464 -->\n",
       "<g class=\"node\" id=\"node8\">\n",
       "<title>62079623464</title>\n",
       "<polygon fill=\"none\" points=\"99,-511.5 99,-547.5 193,-547.5 193,-511.5 99,-511.5\" stroke=\"#000000\"/>\n",
       "<text fill=\"#000000\" font-family=\"Times,serif\" font-size=\"14.00\" text-anchor=\"middle\" x=\"146\" y=\"-525.8\">62079623464</text>\n",
       "</g>\n",
       "<!-- 62079623464&#45;&gt;61795367736 -->\n",
       "<g class=\"edge\" id=\"edge1\">\n",
       "<title>62079623464-&gt;61795367736</title>\n",
       "<path d=\"M146,-511.4551C146,-503.3828 146,-493.6764 146,-484.6817\" fill=\"none\" stroke=\"#000000\"/>\n",
       "<polygon fill=\"#000000\" points=\"149.5001,-484.5903 146,-474.5904 142.5001,-484.5904 149.5001,-484.5903\" stroke=\"#000000\"/>\n",
       "</g>\n",
       "</g>\n",
       "</svg>"
      ],
      "text/plain": [
       "<IPython.core.display.SVG object>"
      ]
     },
     "execution_count": 14,
     "metadata": {},
     "output_type": "execute_result"
    }
   ],
   "source": [
    "from IPython.display import SVG\n",
    "from keras.utils.vis_utils import model_to_dot\n",
    "SVG(model_to_dot(model).create(prog='dot', format='svg'))"
   ]
  },
  {
   "cell_type": "code",
   "execution_count": 15,
   "metadata": {},
   "outputs": [],
   "source": [
    "spark.stop()"
   ]
  }
 ],
 "metadata": {
  "kernelspec": {
   "display_name": "Python 3",
   "language": "python",
   "name": "python3"
  },
  "language_info": {
   "codemirror_mode": {
    "name": "ipython",
    "version": 3
   },
   "file_extension": ".py",
   "mimetype": "text/x-python",
   "name": "python",
   "nbconvert_exporter": "python",
   "pygments_lexer": "ipython3",
   "version": "3.6.8"
  }
 },
 "nbformat": 4,
 "nbformat_minor": 2
}
